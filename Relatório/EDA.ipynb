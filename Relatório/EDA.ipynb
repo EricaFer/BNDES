{
 "cells": [
  {
   "cell_type": "markdown",
   "source": [
    "# **Análise dos desembolsos do BNDES e do impacto de seus investimentos na agropecuária brasileira**\r\n",
    "## **TIME 13**\r\n",
    "### **Equipe:**\r\n",
    "- **Bernardo Mendonça** (Graduando em Engenharia Nuclear - UFRJ)\r\n",
    "- **Erica Ferreira** (Graduando em Engenharia de Controle e Automação - UFRJ)\r\n",
    "- **Pedro Boechat** (Graduando em Engenharia de Computação de Informação - UFRJ)\r\n",
    "- **Pedro Paixão** (Graduado em Matemática Aplicada - UFRJ)\r\n",
    "- **Rodrigo Benoliel** (Graduando em Engenharia Elétrica - UFRJ)"
   ],
   "metadata": {}
  },
  {
   "cell_type": "markdown",
   "source": [
    "<hr>"
   ],
   "metadata": {}
  },
  {
   "cell_type": "markdown",
   "source": [
    "# **1. Introdução**\r\n",
    "## **O que é o BNDES? Quais são suas funções? Como opera?**\r\n",
    "### Ao longo das últimas décadas, o crescimento de diferentes segmentos da economia brasileira vem sido apoiado pelo Banco Nacional de Desenvolvimento Social (BNDES). Essa instituição pública consiste em um dos maiores bancos de desenvolvimento do mundo e possui como missão viabilizar soluções que adicionem investimentos para o desenvolvimento sustentável da nação brasileira.\r\n",
    "### O BNDES apoia empreendedores de todos os portes e em todos os segmentos da economia brasileira, tendo em vista a possibilidade de geração de empregos, renda e de inclusão social para o Brasil. Esse suporte, por sua vez, se dá por meio de financiamento a investimentos, subscrição de valores mobiliários, prestação de garantia e concessão de recursos não reembolsáveis a projetos de caráter social, cultural e tecnológico. A decisão pela concessão ou não de um apoio é realizada por meio de avaliações técnicas, nos quais se avaliam o potencial impacto e inovação da proposta, além de outros aspectos de cunho financeiro e socioambiental.\r\n",
    "## **O Plano de Dados Abertos e o BNDES**\r\n",
    "### Considerando a responsabilidade e a fundamental importância do BNDES para o desenvolvimento nacional, a instituição recentemente aderiu à Política de Dados Abertos do Poder Executivo Federal, com a publicação do **Plano de Dados Abertos do BNDES**. Essa decisão possibilita estabelecer diretrizes e planos de ação para gerar dados estruturados e de fácil acesso ao grande público, garantindo maior transparência às ações da instituição e fomentando o uso desses dados pela população em geral.\r\n",
    "### Tendo em vista as motivações apresentadas anteriormente, o BNDES lançou recentemente o **Prêmio Dados Abertos**. Esse evento, de caráter competitivo, tem por objetivo incentivar o uso dos dados abertos do BNDES para criar novas ferramentas de análise de informações para a instituição. As produções devem ser desenvolvidas por grupos de até cinco pessoas e publicadas até o dia 31/08/2021, utilizando ao menos uma das bases disponibilizadas em sua plataforma. "
   ],
   "metadata": {}
  },
  {
   "cell_type": "markdown",
   "source": [
    "# **2. Apresentação do problema e objetivos**\r\n",
    "### Apesar da importância do BNDES ser historicamente conhecida, informações acerca dos efeitos a curto e longo prazo dos investimentos para os diferentes setores da indústria e para os diferentes municípios do país ainda são limitadas. Como algumas razões para essa pouca compreensão, pode-se citar a complexidade do problema e a grande variedade de contextos socioeconômicos específicos a cada uma das empresas, que por sua vez afetará seus desempenhos. Por outro lado, uma melhor compreensão dos resultados desse apoio nas diferentes pode consistir em uma ferramenta importante para decidir quais empresas apoiar em futuros e para estabelecer estratégias para que os novos investimentos sejam mais efetivos.\r\n",
    "### A existência do Portal de Dados Abertos, nesse sentido, mostra-se como uma oportunidade para melhor compreender as dinâmicas de investimento do BNDES e seus resultados. Dessa forma, buscando compreender melhor o papel do BNDES no desenvolvimento socioeconômico em diferentes setores da sociedade brasileira, a presente análise tem por objetivo avaliar a distribuição dos investimentos realizados pela instituição em diferentes áreas e seu impacto para o aumento da produção dos empreendedores. Além disso, busca-se entender a relação entre o nível de inovação da empresa, o apoio recebido pelo BNDES e os resultados obtidos nos últimos anos. Em particular, o caso do setor agropecuário será analisado de forma mais específica, considerando seu caráter fundamental no desenvolvimento nacional e na projeção mundial do Brasil em termos tecnológicos e econômicos. "
   ],
   "metadata": {}
  },
  {
   "cell_type": "markdown",
   "source": [
    "# **3. Metodologia**\r\n",
    "## **a) Tecnologia**\r\n",
    "### A análise requereu um estudo aprofundado dos dados, incluindo a manipulação das tabelas, aplicação de métodos estatísticos e construção de gráficos. Para que isso se tornasse viável, foi necessário o uso de linguagem de programação adequada para fins de Ciência de Dados. Como alternativa proeminente na área, escolheu-se utilizar Python [versão do nb final aqui]. Embarcado nessa tecnologia, foram utilizadas as bibliotecas:\r\n",
    "`Manipulação de arquivos:`"
   ],
   "metadata": {}
  },
  {
   "cell_type": "code",
   "execution_count": 2,
   "source": [
    "import os\r\n",
    "from zipfile import ZipFile"
   ],
   "outputs": [],
   "metadata": {}
  },
  {
   "cell_type": "markdown",
   "source": [
    "`Manipulação de dados:`"
   ],
   "metadata": {}
  },
  {
   "cell_type": "code",
   "execution_count": 3,
   "source": [
    "import pandas as pd\r\n",
    "\r\n",
    "# Formatação da representação de números de ponto flutuante\r\n",
    "pd.options.display.float_format = \"{:,.2f}\".format"
   ],
   "outputs": [],
   "metadata": {}
  },
  {
   "cell_type": "markdown",
   "source": [
    "`Instrumental matemático:`"
   ],
   "metadata": {}
  },
  {
   "cell_type": "code",
   "execution_count": 4,
   "source": [
    "import numpy as np"
   ],
   "outputs": [],
   "metadata": {}
  },
  {
   "cell_type": "markdown",
   "source": [
    "`Construção de gráficos:`"
   ],
   "metadata": {}
  },
  {
   "cell_type": "code",
   "execution_count": 5,
   "source": [
    "import matplotlib.pyplot as plt\r\n",
    "import seaborn as sns"
   ],
   "outputs": [],
   "metadata": {}
  },
  {
   "cell_type": "markdown",
   "source": [
    "## **b) Dados**\r\n",
    "### **Desembolsos mensais - BNDES ([FONTE](https://dadosabertos.bndes.gov.br/dataset/desembolsos-mensais))**\r\n",
    "### Sabe-se que as atividades do BNDES abrangem uma série de operações em diversos ramos do mercado financeiro brasileiro. Como tal, os dados disponíveis no Portal de Dados Abertos da instituição são amplos nesse contexto e oferecem um largo escopo de estudo. Foi decidido, porém, focar na base de Desembolsos Mensais. Essa escolha se deve ao fato de que esse constitui a maior coleção de informações em série temporal, apresentando maior potencial de análise e resultados tendo em vista o objetivo do projeto."
   ],
   "metadata": {}
  },
  {
   "cell_type": "code",
   "execution_count": 6,
   "source": [
    "desembolsos_df = pd.read_csv(\"./data/desembolsos-mensais.zip\", encoding=\"UTF-8\", sep=\";\", decimal=\",\")"
   ],
   "outputs": [],
   "metadata": {}
  },
  {
   "cell_type": "markdown",
   "source": [
    "### A base condensa dados referentes aos desembolsos de crédito do BNDES, diretos ou indiretos, a beneficiários de diversos setores econômicos de localização geográfica definida de 1995 a 2020. Sua estrutura consiste em um arquivo CSV (Comma Separated Values) de 16 colunas, com valores dos seguintes tipos:"
   ],
   "metadata": {}
  },
  {
   "cell_type": "code",
   "execution_count": 26,
   "source": [
    "print(desembolsos_df.info())\r\n",
    "desembolsos_df.head()"
   ],
   "outputs": [
    {
     "output_type": "stream",
     "name": "stdout",
     "text": [
      "<class 'pandas.core.frame.DataFrame'>\n",
      "RangeIndex: 3244804 entries, 0 to 3244803\n",
      "Data columns (total 16 columns):\n",
      " #   Column                  Dtype  \n",
      "---  ------                  -----  \n",
      " 0   ano                     int64  \n",
      " 1   mes                     int64  \n",
      " 2   forma_de_apoio          object \n",
      " 3   produto                 object \n",
      " 4   instrumento_financeiro  object \n",
      " 5   inovacao                object \n",
      " 6   porte_de_empresa        object \n",
      " 7   regiao                  object \n",
      " 8   uf                      object \n",
      " 9   municipio               object \n",
      " 10  municipio_codigo        int64  \n",
      " 11  setor_cnae              object \n",
      " 12  subsetor_cnae_agrupado  object \n",
      " 13  setor_bndes             object \n",
      " 14  subsetor_bndes          object \n",
      " 15  desembolsos_reais       float64\n",
      "dtypes: float64(1), int64(3), object(12)\n",
      "memory usage: 396.1+ MB\n",
      "None\n"
     ]
    },
    {
     "output_type": "execute_result",
     "data": {
      "text/plain": [
       "    ano  mes forma_de_apoio                    produto instrumento_financeiro  \\\n",
       "0  2010    9         DIRETA  BNDES MERCADO DE CAPITAIS    MERCADO DE CAPITAIS   \n",
       "1  2009    7         DIRETA                BNDES FINEM     PROGRAMA PETROBRAS   \n",
       "2  2009    7         DIRETA                BNDES FINEM     PROGRAMA PETROBRAS   \n",
       "3  2012   12         DIRETA                BNDES FINEM             PROINVESTE   \n",
       "4  2009    7         DIRETA                BNDES FINEM     PROGRAMA PETROBRAS   \n",
       "\n",
       "  inovacao porte_de_empresa                regiao                    uf  \\\n",
       "0      NÃO           GRANDE  SUDESTE               RIO DE JANEIRO         \n",
       "1      NÃO           GRANDE  NORDESTE              PERNAMBUCO             \n",
       "2      NÃO           GRANDE  SUDESTE               RIO DE JANEIRO         \n",
       "3      NÃO           GRANDE  CENTRO OESTE          DISTRITO FEDERAL       \n",
       "4      NÃO           GRANDE  SUDESTE               RIO DE JANEIRO         \n",
       "\n",
       "        municipio  municipio_codigo                      setor_cnae  \\\n",
       "0  RIO DE JANEIRO           3304557  INDÚSTRIA DE TRANSFORMAÇÃO       \n",
       "1         IPOJUCA           2607208  INDÚSTRIA DE TRANSFORMAÇÃO       \n",
       "2        DIVERSOS           9999998  INDÚSTRIA DE TRANSFORMAÇÃO       \n",
       "3        DIVERSOS           9999998  COMÉRCIO E SERVIÇOS              \n",
       "4        DIVERSOS           9999998  COMÉRCIO E SERVIÇOS              \n",
       "\n",
       "          subsetor_cnae_agrupado          setor_bndes          subsetor_bndes  \\\n",
       "0  COQUE, PETRÓLEO E COMBUSTÍVEL            INDUSTRIA  QUÍMICA E PETROQUÍMICA   \n",
       "1  COQUE, PETRÓLEO E COMBUSTÍVEL            INDUSTRIA  QUÍMICA E PETROQUÍMICA   \n",
       "2  COQUE, PETRÓLEO E COMBUSTÍVEL            INDUSTRIA  QUÍMICA E PETROQUÍMICA   \n",
       "3          ADMINISTRAÇÃO PÚBLICA  COMÉRCIO E SERVIÇOS     COMÉRCIO E SERVIÇOS   \n",
       "4           TRANSPORTE TERRESTRE       INFRAESTRUTURA      OUTROS TRANSPORTES   \n",
       "\n",
       "   desembolsos_reais  \n",
       "0  24,753,538,073.60  \n",
       "1   9,889,997,969.99  \n",
       "2   9,409,998,497.06  \n",
       "3   7,271,078,745.30  \n",
       "4   5,699,997,243.57  "
      ],
      "text/html": [
       "<div>\n",
       "<style scoped>\n",
       "    .dataframe tbody tr th:only-of-type {\n",
       "        vertical-align: middle;\n",
       "    }\n",
       "\n",
       "    .dataframe tbody tr th {\n",
       "        vertical-align: top;\n",
       "    }\n",
       "\n",
       "    .dataframe thead th {\n",
       "        text-align: right;\n",
       "    }\n",
       "</style>\n",
       "<table border=\"1\" class=\"dataframe\">\n",
       "  <thead>\n",
       "    <tr style=\"text-align: right;\">\n",
       "      <th></th>\n",
       "      <th>ano</th>\n",
       "      <th>mes</th>\n",
       "      <th>forma_de_apoio</th>\n",
       "      <th>produto</th>\n",
       "      <th>instrumento_financeiro</th>\n",
       "      <th>inovacao</th>\n",
       "      <th>porte_de_empresa</th>\n",
       "      <th>regiao</th>\n",
       "      <th>uf</th>\n",
       "      <th>municipio</th>\n",
       "      <th>municipio_codigo</th>\n",
       "      <th>setor_cnae</th>\n",
       "      <th>subsetor_cnae_agrupado</th>\n",
       "      <th>setor_bndes</th>\n",
       "      <th>subsetor_bndes</th>\n",
       "      <th>desembolsos_reais</th>\n",
       "    </tr>\n",
       "  </thead>\n",
       "  <tbody>\n",
       "    <tr>\n",
       "      <th>0</th>\n",
       "      <td>2010</td>\n",
       "      <td>9</td>\n",
       "      <td>DIRETA</td>\n",
       "      <td>BNDES MERCADO DE CAPITAIS</td>\n",
       "      <td>MERCADO DE CAPITAIS</td>\n",
       "      <td>NÃO</td>\n",
       "      <td>GRANDE</td>\n",
       "      <td>SUDESTE</td>\n",
       "      <td>RIO DE JANEIRO</td>\n",
       "      <td>RIO DE JANEIRO</td>\n",
       "      <td>3304557</td>\n",
       "      <td>INDÚSTRIA DE TRANSFORMAÇÃO</td>\n",
       "      <td>COQUE, PETRÓLEO E COMBUSTÍVEL</td>\n",
       "      <td>INDUSTRIA</td>\n",
       "      <td>QUÍMICA E PETROQUÍMICA</td>\n",
       "      <td>24,753,538,073.60</td>\n",
       "    </tr>\n",
       "    <tr>\n",
       "      <th>1</th>\n",
       "      <td>2009</td>\n",
       "      <td>7</td>\n",
       "      <td>DIRETA</td>\n",
       "      <td>BNDES FINEM</td>\n",
       "      <td>PROGRAMA PETROBRAS</td>\n",
       "      <td>NÃO</td>\n",
       "      <td>GRANDE</td>\n",
       "      <td>NORDESTE</td>\n",
       "      <td>PERNAMBUCO</td>\n",
       "      <td>IPOJUCA</td>\n",
       "      <td>2607208</td>\n",
       "      <td>INDÚSTRIA DE TRANSFORMAÇÃO</td>\n",
       "      <td>COQUE, PETRÓLEO E COMBUSTÍVEL</td>\n",
       "      <td>INDUSTRIA</td>\n",
       "      <td>QUÍMICA E PETROQUÍMICA</td>\n",
       "      <td>9,889,997,969.99</td>\n",
       "    </tr>\n",
       "    <tr>\n",
       "      <th>2</th>\n",
       "      <td>2009</td>\n",
       "      <td>7</td>\n",
       "      <td>DIRETA</td>\n",
       "      <td>BNDES FINEM</td>\n",
       "      <td>PROGRAMA PETROBRAS</td>\n",
       "      <td>NÃO</td>\n",
       "      <td>GRANDE</td>\n",
       "      <td>SUDESTE</td>\n",
       "      <td>RIO DE JANEIRO</td>\n",
       "      <td>DIVERSOS</td>\n",
       "      <td>9999998</td>\n",
       "      <td>INDÚSTRIA DE TRANSFORMAÇÃO</td>\n",
       "      <td>COQUE, PETRÓLEO E COMBUSTÍVEL</td>\n",
       "      <td>INDUSTRIA</td>\n",
       "      <td>QUÍMICA E PETROQUÍMICA</td>\n",
       "      <td>9,409,998,497.06</td>\n",
       "    </tr>\n",
       "    <tr>\n",
       "      <th>3</th>\n",
       "      <td>2012</td>\n",
       "      <td>12</td>\n",
       "      <td>DIRETA</td>\n",
       "      <td>BNDES FINEM</td>\n",
       "      <td>PROINVESTE</td>\n",
       "      <td>NÃO</td>\n",
       "      <td>GRANDE</td>\n",
       "      <td>CENTRO OESTE</td>\n",
       "      <td>DISTRITO FEDERAL</td>\n",
       "      <td>DIVERSOS</td>\n",
       "      <td>9999998</td>\n",
       "      <td>COMÉRCIO E SERVIÇOS</td>\n",
       "      <td>ADMINISTRAÇÃO PÚBLICA</td>\n",
       "      <td>COMÉRCIO E SERVIÇOS</td>\n",
       "      <td>COMÉRCIO E SERVIÇOS</td>\n",
       "      <td>7,271,078,745.30</td>\n",
       "    </tr>\n",
       "    <tr>\n",
       "      <th>4</th>\n",
       "      <td>2009</td>\n",
       "      <td>7</td>\n",
       "      <td>DIRETA</td>\n",
       "      <td>BNDES FINEM</td>\n",
       "      <td>PROGRAMA PETROBRAS</td>\n",
       "      <td>NÃO</td>\n",
       "      <td>GRANDE</td>\n",
       "      <td>SUDESTE</td>\n",
       "      <td>RIO DE JANEIRO</td>\n",
       "      <td>DIVERSOS</td>\n",
       "      <td>9999998</td>\n",
       "      <td>COMÉRCIO E SERVIÇOS</td>\n",
       "      <td>TRANSPORTE TERRESTRE</td>\n",
       "      <td>INFRAESTRUTURA</td>\n",
       "      <td>OUTROS TRANSPORTES</td>\n",
       "      <td>5,699,997,243.57</td>\n",
       "    </tr>\n",
       "  </tbody>\n",
       "</table>\n",
       "</div>"
      ]
     },
     "metadata": {},
     "execution_count": 26
    }
   ],
   "metadata": {}
  },
  {
   "cell_type": "markdown",
   "source": [
    "### Mais detalhes acerca de cada um dos parâmetros podem ser encontrados no dicionário de dados presente na fonte."
   ],
   "metadata": {}
  },
  {
   "cell_type": "markdown",
   "source": [
    "### **Produção Agrícola Municipal (PAM) - IBGE ([FONTE](https://sidra.ibge.gov.br/tabela/5457))**\r\n",
    "### Apesar da qualidade e completude dos dados de desembolsos disponíveis no Portal de Dados Abertos, faltava para a análise uma métrica de resultado que permitisse o estudo de retorno de tais investimentos. Como postulado na introdução, será desenvolvido o interesse pelo setor agropecuário. Assim, identificou-se a base de dados da Produção Agrícola Municipal (PAM), disponível pelo IBGE, constituindo uma fonte apropriada e confiável para a análise."
   ],
   "metadata": {}
  },
  {
   "cell_type": "code",
   "execution_count": 8,
   "source": [
    "pam_df = pd.read_csv(\"./data/PAM.zip\", sep=\";\")"
   ],
   "outputs": [],
   "metadata": {}
  },
  {
   "cell_type": "markdown",
   "source": [
    "### Por meio da fonte, foram selecionadas todas as variáveis disponíveis e filtrados apenas os produtos totais das lavouras para cada município brasileiro entre os anos de 1990 e 2019. Devido à plataforma que exporta os dados, estes apresentavam algumas inconsistências, que foram corrigidas no arquivo `pam_formatting.ipynb`. O produto final dessa correção é um CSV com 8 colunas de tipos:"
   ],
   "metadata": {}
  },
  {
   "cell_type": "code",
   "execution_count": 9,
   "source": [
    "print(pam_df.info())\r\n",
    "pam_df.head()"
   ],
   "outputs": [
    {
     "output_type": "stream",
     "name": "stdout",
     "text": [
      "<class 'pandas.core.frame.DataFrame'>\n",
      "RangeIndex: 166890 entries, 0 to 166889\n",
      "Data columns (total 8 columns):\n",
      " #   Column                  Non-Null Count   Dtype  \n",
      "---  ------                  --------------   -----  \n",
      " 0   municipio_codigo        166890 non-null  int64  \n",
      " 1   ano                     166890 non-null  int64  \n",
      " 2   area_plantada           159452 non-null  float64\n",
      " 3   area_colhida            159379 non-null  float64\n",
      " 4   valor_reais             141062 non-null  float64\n",
      " 5   valor_cruzeiros         13395 non-null   float64\n",
      " 6   valor_cruzeiros_reais   4923 non-null    float64\n",
      " 7   razao_colheita_plantio  159379 non-null  float64\n",
      "dtypes: float64(6), int64(2)\n",
      "memory usage: 10.2 MB\n",
      "None\n"
     ]
    },
    {
     "output_type": "execute_result",
     "data": {
      "text/plain": [
       "   municipio_codigo   ano  area_plantada  area_colhida  valor_reais  \\\n",
       "0           1100015  1990        22275.0       22275.0          NaN   \n",
       "1           1100015  1991        23005.0       23005.0          NaN   \n",
       "2           1100015  1992        36020.0       36020.0          NaN   \n",
       "3           1100015  1993        38360.0       38360.0          NaN   \n",
       "4           1100015  1994        42899.0       42899.0      14864.0   \n",
       "\n",
       "   valor_cruzeiros  valor_cruzeiros_reais  razao_colheita_plantio  \n",
       "0         462257.0                    NaN                     1.0  \n",
       "1        2423889.0                    NaN                     1.0  \n",
       "2       41232411.0                    NaN                     1.0  \n",
       "3              NaN              1079677.0                     1.0  \n",
       "4              NaN                    NaN                     1.0  "
      ],
      "text/html": [
       "<div>\n",
       "<style scoped>\n",
       "    .dataframe tbody tr th:only-of-type {\n",
       "        vertical-align: middle;\n",
       "    }\n",
       "\n",
       "    .dataframe tbody tr th {\n",
       "        vertical-align: top;\n",
       "    }\n",
       "\n",
       "    .dataframe thead th {\n",
       "        text-align: right;\n",
       "    }\n",
       "</style>\n",
       "<table border=\"1\" class=\"dataframe\">\n",
       "  <thead>\n",
       "    <tr style=\"text-align: right;\">\n",
       "      <th></th>\n",
       "      <th>municipio_codigo</th>\n",
       "      <th>ano</th>\n",
       "      <th>area_plantada</th>\n",
       "      <th>area_colhida</th>\n",
       "      <th>valor_reais</th>\n",
       "      <th>valor_cruzeiros</th>\n",
       "      <th>valor_cruzeiros_reais</th>\n",
       "      <th>razao_colheita_plantio</th>\n",
       "    </tr>\n",
       "  </thead>\n",
       "  <tbody>\n",
       "    <tr>\n",
       "      <th>0</th>\n",
       "      <td>1100015</td>\n",
       "      <td>1990</td>\n",
       "      <td>22275.0</td>\n",
       "      <td>22275.0</td>\n",
       "      <td>NaN</td>\n",
       "      <td>462257.0</td>\n",
       "      <td>NaN</td>\n",
       "      <td>1.0</td>\n",
       "    </tr>\n",
       "    <tr>\n",
       "      <th>1</th>\n",
       "      <td>1100015</td>\n",
       "      <td>1991</td>\n",
       "      <td>23005.0</td>\n",
       "      <td>23005.0</td>\n",
       "      <td>NaN</td>\n",
       "      <td>2423889.0</td>\n",
       "      <td>NaN</td>\n",
       "      <td>1.0</td>\n",
       "    </tr>\n",
       "    <tr>\n",
       "      <th>2</th>\n",
       "      <td>1100015</td>\n",
       "      <td>1992</td>\n",
       "      <td>36020.0</td>\n",
       "      <td>36020.0</td>\n",
       "      <td>NaN</td>\n",
       "      <td>41232411.0</td>\n",
       "      <td>NaN</td>\n",
       "      <td>1.0</td>\n",
       "    </tr>\n",
       "    <tr>\n",
       "      <th>3</th>\n",
       "      <td>1100015</td>\n",
       "      <td>1993</td>\n",
       "      <td>38360.0</td>\n",
       "      <td>38360.0</td>\n",
       "      <td>NaN</td>\n",
       "      <td>NaN</td>\n",
       "      <td>1079677.0</td>\n",
       "      <td>1.0</td>\n",
       "    </tr>\n",
       "    <tr>\n",
       "      <th>4</th>\n",
       "      <td>1100015</td>\n",
       "      <td>1994</td>\n",
       "      <td>42899.0</td>\n",
       "      <td>42899.0</td>\n",
       "      <td>14864.0</td>\n",
       "      <td>NaN</td>\n",
       "      <td>NaN</td>\n",
       "      <td>1.0</td>\n",
       "    </tr>\n",
       "  </tbody>\n",
       "</table>\n",
       "</div>"
      ]
     },
     "metadata": {},
     "execution_count": 9
    }
   ],
   "metadata": {}
  },
  {
   "cell_type": "markdown",
   "source": [
    "# **4. Análise da base '`Desembolsos mensais`'**\r\n",
    "### A exploração de dados foi iniciada pelo estudo da tabela Desembolsos Mensais. Por ela conter dados majoritariamente categóricos, considerou-se de interesse estudar os valores de investimentos agregados sob essas diferentes categorias, e resultados relevantes foram levantados.\r\n",
    "### O primeiro fato interessante identificado foi o fato de que os municípios de mais alto investimento médio não correspondem a grandes centros econômicos nacionais, mas sim de áreas predominantemente rurais. Devido à capacitação realizada na competição, tinha-se noção de que o BNDES realiza grandes financiamentos agrônomos, e a observação dos números tornou esse fato muito mais evidente."
   ],
   "metadata": {}
  },
  {
   "cell_type": "markdown",
   "source": [
    "### Tendo em vista o propósito do BNDES, e conscientes de sua posição favorável frente a micro e pequenas empresas, visualizaram-se os valores investidos agregados aos portes dos beneficiários. Como esperado, notou-se que em geral o valor médio concedido a grandes empresas é superior ao de menores. Porém, surpreendentemente, o número de financiamentos de empresas de micro porte é tão alto que seu investimento absoluto chega a ultrapassar o de pequenas e médias.\r\n",
    "\r\n",
    "- **Tabela de investimentos por município (todos os anos)**"
   ],
   "metadata": {}
  },
  {
   "cell_type": "code",
   "execution_count": 27,
   "source": [
    "# Formatação da representação de números de ponto flutuante\r\n",
    "pd.options.display.float_format = \"{:,.2f}\".format\r\n",
    "\r\n",
    "# Tabela de investimentos por município (todos os anos)\r\n",
    "desembolso_por_municipio = desembolsos_df[[\"municipio\", \"uf\", \"regiao\", \"desembolsos_reais\"]].groupby([\"municipio\"]).agg(uf=(\"uf\", \"first\"), regiao=(\"regiao\", \"first\"), numero_investimentos=(\"desembolsos_reais\", \"count\"), soma_investimentos=(\"desembolsos_reais\", \"sum\")).reset_index()\r\n",
    "desembolso_por_municipio[\"investimento_medio\"] = desembolso_por_municipio[\"soma_investimentos\"]/desembolso_por_municipio[\"numero_investimentos\"]\r\n",
    "desembolso_por_municipio = desembolso_por_municipio.sort_values(by=\"investimento_medio\", ascending=False)\r\n",
    "desembolso_por_municipio.head(10)"
   ],
   "outputs": [
    {
     "output_type": "execute_result",
     "data": {
      "text/plain": [
       "                      municipio                    uf                regiao  \\\n",
       "1433       CURRAL NOVO DO PIAUI  PIAUI                 NORDESTE               \n",
       "851   CALDEIRAO GRANDE DO PIAUI  PIAUI                 NORDESTE               \n",
       "2806                MARCOLANDIA  PIAUI                 NORDESTE               \n",
       "77                AGUIARNOPOLIS  TOCANTINS             NORTE                  \n",
       "3522               PEDRA GRANDE  RIO GRANDE DO NORTE   NORDESTE               \n",
       "3440                  PARAZINHO  RIO GRANDE DO NORTE   NORDESTE               \n",
       "1691             FERREIRA GOMES  AMAPA                 NORTE                  \n",
       "5085                  UMBURANAS  BAHIA                 NORDESTE               \n",
       "4739               SERRA DO MEL  RIO GRANDE DO NORTE   NORDESTE               \n",
       "2135                    IPOJUCA  PERNAMBUCO            NORDESTE               \n",
       "\n",
       "      numero_investimentos  soma_investimentos  investimento_medio  \n",
       "1433                     4      828,193,336.41      207,048,334.10  \n",
       "851                      4      164,948,704.73       41,237,176.18  \n",
       "2806                    12      464,779,902.21       38,731,658.52  \n",
       "77                     113    3,411,425,385.60       30,189,605.18  \n",
       "3522                    17      474,473,584.60       27,910,210.86  \n",
       "3440                    39      957,080,861.36       24,540,534.91  \n",
       "1691                    49    1,119,455,751.93       22,846,035.75  \n",
       "5085                    58    1,263,755,393.16       21,788,886.09  \n",
       "4739                    29      564,772,788.89       19,474,923.75  \n",
       "2135                  1113   21,430,024,921.86       19,254,290.14  "
      ],
      "text/html": [
       "<div>\n",
       "<style scoped>\n",
       "    .dataframe tbody tr th:only-of-type {\n",
       "        vertical-align: middle;\n",
       "    }\n",
       "\n",
       "    .dataframe tbody tr th {\n",
       "        vertical-align: top;\n",
       "    }\n",
       "\n",
       "    .dataframe thead th {\n",
       "        text-align: right;\n",
       "    }\n",
       "</style>\n",
       "<table border=\"1\" class=\"dataframe\">\n",
       "  <thead>\n",
       "    <tr style=\"text-align: right;\">\n",
       "      <th></th>\n",
       "      <th>municipio</th>\n",
       "      <th>uf</th>\n",
       "      <th>regiao</th>\n",
       "      <th>numero_investimentos</th>\n",
       "      <th>soma_investimentos</th>\n",
       "      <th>investimento_medio</th>\n",
       "    </tr>\n",
       "  </thead>\n",
       "  <tbody>\n",
       "    <tr>\n",
       "      <th>1433</th>\n",
       "      <td>CURRAL NOVO DO PIAUI</td>\n",
       "      <td>PIAUI</td>\n",
       "      <td>NORDESTE</td>\n",
       "      <td>4</td>\n",
       "      <td>828,193,336.41</td>\n",
       "      <td>207,048,334.10</td>\n",
       "    </tr>\n",
       "    <tr>\n",
       "      <th>851</th>\n",
       "      <td>CALDEIRAO GRANDE DO PIAUI</td>\n",
       "      <td>PIAUI</td>\n",
       "      <td>NORDESTE</td>\n",
       "      <td>4</td>\n",
       "      <td>164,948,704.73</td>\n",
       "      <td>41,237,176.18</td>\n",
       "    </tr>\n",
       "    <tr>\n",
       "      <th>2806</th>\n",
       "      <td>MARCOLANDIA</td>\n",
       "      <td>PIAUI</td>\n",
       "      <td>NORDESTE</td>\n",
       "      <td>12</td>\n",
       "      <td>464,779,902.21</td>\n",
       "      <td>38,731,658.52</td>\n",
       "    </tr>\n",
       "    <tr>\n",
       "      <th>77</th>\n",
       "      <td>AGUIARNOPOLIS</td>\n",
       "      <td>TOCANTINS</td>\n",
       "      <td>NORTE</td>\n",
       "      <td>113</td>\n",
       "      <td>3,411,425,385.60</td>\n",
       "      <td>30,189,605.18</td>\n",
       "    </tr>\n",
       "    <tr>\n",
       "      <th>3522</th>\n",
       "      <td>PEDRA GRANDE</td>\n",
       "      <td>RIO GRANDE DO NORTE</td>\n",
       "      <td>NORDESTE</td>\n",
       "      <td>17</td>\n",
       "      <td>474,473,584.60</td>\n",
       "      <td>27,910,210.86</td>\n",
       "    </tr>\n",
       "    <tr>\n",
       "      <th>3440</th>\n",
       "      <td>PARAZINHO</td>\n",
       "      <td>RIO GRANDE DO NORTE</td>\n",
       "      <td>NORDESTE</td>\n",
       "      <td>39</td>\n",
       "      <td>957,080,861.36</td>\n",
       "      <td>24,540,534.91</td>\n",
       "    </tr>\n",
       "    <tr>\n",
       "      <th>1691</th>\n",
       "      <td>FERREIRA GOMES</td>\n",
       "      <td>AMAPA</td>\n",
       "      <td>NORTE</td>\n",
       "      <td>49</td>\n",
       "      <td>1,119,455,751.93</td>\n",
       "      <td>22,846,035.75</td>\n",
       "    </tr>\n",
       "    <tr>\n",
       "      <th>5085</th>\n",
       "      <td>UMBURANAS</td>\n",
       "      <td>BAHIA</td>\n",
       "      <td>NORDESTE</td>\n",
       "      <td>58</td>\n",
       "      <td>1,263,755,393.16</td>\n",
       "      <td>21,788,886.09</td>\n",
       "    </tr>\n",
       "    <tr>\n",
       "      <th>4739</th>\n",
       "      <td>SERRA DO MEL</td>\n",
       "      <td>RIO GRANDE DO NORTE</td>\n",
       "      <td>NORDESTE</td>\n",
       "      <td>29</td>\n",
       "      <td>564,772,788.89</td>\n",
       "      <td>19,474,923.75</td>\n",
       "    </tr>\n",
       "    <tr>\n",
       "      <th>2135</th>\n",
       "      <td>IPOJUCA</td>\n",
       "      <td>PERNAMBUCO</td>\n",
       "      <td>NORDESTE</td>\n",
       "      <td>1113</td>\n",
       "      <td>21,430,024,921.86</td>\n",
       "      <td>19,254,290.14</td>\n",
       "    </tr>\n",
       "  </tbody>\n",
       "</table>\n",
       "</div>"
      ]
     },
     "metadata": {},
     "execution_count": 27
    }
   ],
   "metadata": {}
  },
  {
   "cell_type": "markdown",
   "source": [
    "- **Tabela de investimentos por porte de empresa**"
   ],
   "metadata": {}
  },
  {
   "cell_type": "code",
   "execution_count": 28,
   "source": [
    "# Tabela de investimentos por porte de empresa (todos os anos)\r\n",
    "desembolso_por_porte = desembolsos_df[[\"porte_de_empresa\", \"desembolsos_reais\"]].groupby([\"porte_de_empresa\"]).agg(numero_investimentos=(\"desembolsos_reais\", \"count\"), soma_investimentos=(\"desembolsos_reais\", \"sum\")).reset_index()\r\n",
    "desembolso_por_porte[\"investimento_medio\"] = desembolso_por_porte[\"soma_investimentos\"]/desembolso_por_porte[\"numero_investimentos\"]\r\n",
    "desembolso_por_porte = desembolso_por_porte.sort_values(by=\"soma_investimentos\", ascending=False)\r\n",
    "desembolso_por_porte.head()"
   ],
   "outputs": [
    {
     "output_type": "execute_result",
     "data": {
      "text/plain": [
       "  porte_de_empresa  numero_investimentos   soma_investimentos  \\\n",
       "0           GRANDE                266732 1,356,754,840,749.88   \n",
       "1            MICRO               1943576   253,535,192,571.85   \n",
       "2            MÉDIA                334967   189,261,530,730.15   \n",
       "3          PEQUENA                699529   147,661,023,200.94   \n",
       "\n",
       "   investimento_medio  \n",
       "0        5,086,584.44  \n",
       "1          130,447.79  \n",
       "2          565,015.45  \n",
       "3          211,086.35  "
      ],
      "text/html": [
       "<div>\n",
       "<style scoped>\n",
       "    .dataframe tbody tr th:only-of-type {\n",
       "        vertical-align: middle;\n",
       "    }\n",
       "\n",
       "    .dataframe tbody tr th {\n",
       "        vertical-align: top;\n",
       "    }\n",
       "\n",
       "    .dataframe thead th {\n",
       "        text-align: right;\n",
       "    }\n",
       "</style>\n",
       "<table border=\"1\" class=\"dataframe\">\n",
       "  <thead>\n",
       "    <tr style=\"text-align: right;\">\n",
       "      <th></th>\n",
       "      <th>porte_de_empresa</th>\n",
       "      <th>numero_investimentos</th>\n",
       "      <th>soma_investimentos</th>\n",
       "      <th>investimento_medio</th>\n",
       "    </tr>\n",
       "  </thead>\n",
       "  <tbody>\n",
       "    <tr>\n",
       "      <th>0</th>\n",
       "      <td>GRANDE</td>\n",
       "      <td>266732</td>\n",
       "      <td>1,356,754,840,749.88</td>\n",
       "      <td>5,086,584.44</td>\n",
       "    </tr>\n",
       "    <tr>\n",
       "      <th>1</th>\n",
       "      <td>MICRO</td>\n",
       "      <td>1943576</td>\n",
       "      <td>253,535,192,571.85</td>\n",
       "      <td>130,447.79</td>\n",
       "    </tr>\n",
       "    <tr>\n",
       "      <th>2</th>\n",
       "      <td>MÉDIA</td>\n",
       "      <td>334967</td>\n",
       "      <td>189,261,530,730.15</td>\n",
       "      <td>565,015.45</td>\n",
       "    </tr>\n",
       "    <tr>\n",
       "      <th>3</th>\n",
       "      <td>PEQUENA</td>\n",
       "      <td>699529</td>\n",
       "      <td>147,661,023,200.94</td>\n",
       "      <td>211,086.35</td>\n",
       "    </tr>\n",
       "  </tbody>\n",
       "</table>\n",
       "</div>"
      ]
     },
     "metadata": {},
     "execution_count": 28
    }
   ],
   "metadata": {}
  },
  {
   "cell_type": "markdown",
   "source": [
    "### As observações até então indicam grande atuação do BNDES em áreas não-urbanas e em empresas não necessariamente de grande porte. Para ter mais clareza acerca desta hipótese, analisou-se o comportamento dos investimentos tendo em mente o tamanho e setor CNAE dos beneficiários. O resultado apoiou a suposição, com a presença forte de empresas médias, pequenas e micros de agropecuária e indústria extrativa nos maiores financiamentos médios."
   ],
   "metadata": {}
  }
 ],
 "metadata": {
  "orig_nbformat": 4,
  "language_info": {
   "name": "python",
   "version": "3.9.6",
   "mimetype": "text/x-python",
   "codemirror_mode": {
    "name": "ipython",
    "version": 3
   },
   "pygments_lexer": "ipython3",
   "nbconvert_exporter": "python",
   "file_extension": ".py"
  },
  "kernelspec": {
   "name": "python3",
   "display_name": "Python 3.9.6 64-bit"
  },
  "interpreter": {
   "hash": "63fd5069d213b44bf678585dea6b12cceca9941eaf7f819626cde1f2670de90d"
  }
 },
 "nbformat": 4,
 "nbformat_minor": 2
}