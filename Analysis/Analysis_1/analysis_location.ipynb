{
 "cells": [
  {
   "cell_type": "code",
   "execution_count": 1,
   "source": [
    "import pandas as pd"
   ],
   "outputs": [],
   "metadata": {}
  },
  {
   "cell_type": "code",
   "execution_count": 7,
   "source": [
    "df = pd.read_csv(\"./data/PAM.zip\", encoding=\"UTF-8\", sep=\";\", decimal=\",\")\r\n",
    "df.head()"
   ],
   "outputs": [
    {
     "output_type": "execute_result",
     "data": {
      "text/plain": [
       "   codigo_municipio   ano  area_plantada  area_colhida  valor_reais  \\\n",
       "0                 1  1990     53152446.0    50514696.0          NaN   \n",
       "1                 1  1991     51753078.0    50643873.0          NaN   \n",
       "2                 1  1992     52273579.0    50714599.0          NaN   \n",
       "3                 1  1993     49226752.0    46629302.0          NaN   \n",
       "4                 1  1994     52815030.0    51354033.0   27500582.0   \n",
       "\n",
       "   valor_cruzeiros  valor_cruzeiros_reais razao_plantio_colheita  \n",
       "0     1.722709e+09                    NaN     0.9503738736689559  \n",
       "1     8.740094e+09                    NaN     0.9785673617325717  \n",
       "2     1.037775e+11                    NaN     0.9701765207237867  \n",
       "3              NaN           2.111804e+09      0.947234991250286  \n",
       "4              NaN                    NaN     0.9723374766614731  "
      ],
      "text/html": [
       "<div>\n",
       "<style scoped>\n",
       "    .dataframe tbody tr th:only-of-type {\n",
       "        vertical-align: middle;\n",
       "    }\n",
       "\n",
       "    .dataframe tbody tr th {\n",
       "        vertical-align: top;\n",
       "    }\n",
       "\n",
       "    .dataframe thead th {\n",
       "        text-align: right;\n",
       "    }\n",
       "</style>\n",
       "<table border=\"1\" class=\"dataframe\">\n",
       "  <thead>\n",
       "    <tr style=\"text-align: right;\">\n",
       "      <th></th>\n",
       "      <th>codigo_municipio</th>\n",
       "      <th>ano</th>\n",
       "      <th>area_plantada</th>\n",
       "      <th>area_colhida</th>\n",
       "      <th>valor_reais</th>\n",
       "      <th>valor_cruzeiros</th>\n",
       "      <th>valor_cruzeiros_reais</th>\n",
       "      <th>razao_plantio_colheita</th>\n",
       "    </tr>\n",
       "  </thead>\n",
       "  <tbody>\n",
       "    <tr>\n",
       "      <th>0</th>\n",
       "      <td>1</td>\n",
       "      <td>1990</td>\n",
       "      <td>53152446.0</td>\n",
       "      <td>50514696.0</td>\n",
       "      <td>NaN</td>\n",
       "      <td>1.722709e+09</td>\n",
       "      <td>NaN</td>\n",
       "      <td>0.9503738736689559</td>\n",
       "    </tr>\n",
       "    <tr>\n",
       "      <th>1</th>\n",
       "      <td>1</td>\n",
       "      <td>1991</td>\n",
       "      <td>51753078.0</td>\n",
       "      <td>50643873.0</td>\n",
       "      <td>NaN</td>\n",
       "      <td>8.740094e+09</td>\n",
       "      <td>NaN</td>\n",
       "      <td>0.9785673617325717</td>\n",
       "    </tr>\n",
       "    <tr>\n",
       "      <th>2</th>\n",
       "      <td>1</td>\n",
       "      <td>1992</td>\n",
       "      <td>52273579.0</td>\n",
       "      <td>50714599.0</td>\n",
       "      <td>NaN</td>\n",
       "      <td>1.037775e+11</td>\n",
       "      <td>NaN</td>\n",
       "      <td>0.9701765207237867</td>\n",
       "    </tr>\n",
       "    <tr>\n",
       "      <th>3</th>\n",
       "      <td>1</td>\n",
       "      <td>1993</td>\n",
       "      <td>49226752.0</td>\n",
       "      <td>46629302.0</td>\n",
       "      <td>NaN</td>\n",
       "      <td>NaN</td>\n",
       "      <td>2.111804e+09</td>\n",
       "      <td>0.947234991250286</td>\n",
       "    </tr>\n",
       "    <tr>\n",
       "      <th>4</th>\n",
       "      <td>1</td>\n",
       "      <td>1994</td>\n",
       "      <td>52815030.0</td>\n",
       "      <td>51354033.0</td>\n",
       "      <td>27500582.0</td>\n",
       "      <td>NaN</td>\n",
       "      <td>NaN</td>\n",
       "      <td>0.9723374766614731</td>\n",
       "    </tr>\n",
       "  </tbody>\n",
       "</table>\n",
       "</div>"
      ]
     },
     "metadata": {},
     "execution_count": 7
    }
   ],
   "metadata": {}
  },
  {
   "cell_type": "code",
   "execution_count": null,
   "source": [],
   "outputs": [],
   "metadata": {}
  }
 ],
 "metadata": {
  "orig_nbformat": 4,
  "language_info": {
   "name": "python",
   "version": "3.8.5",
   "mimetype": "text/x-python",
   "codemirror_mode": {
    "name": "ipython",
    "version": 3
   },
   "pygments_lexer": "ipython3",
   "nbconvert_exporter": "python",
   "file_extension": ".py"
  },
  "kernelspec": {
   "name": "python3",
   "display_name": "Python 3.8.5 64-bit (conda)"
  },
  "interpreter": {
   "hash": "110470c1d17cdbd205dc6a38b36654465e654ef196277aced03b104396aa70cd"
  }
 },
 "nbformat": 4,
 "nbformat_minor": 2
}