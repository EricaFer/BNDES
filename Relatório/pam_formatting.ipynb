{
 "cells": [
  {
   "cell_type": "markdown",
   "source": [
    "# **Formatação e limpeza de dados - Produção Agrícola Municipal**"
   ],
   "metadata": {}
  },
  {
   "cell_type": "markdown",
   "source": [
    "## **Importa bibliotecas**"
   ],
   "metadata": {}
  },
  {
   "cell_type": "code",
   "execution_count": null,
   "source": [
    "import numpy as np\r\n",
    "import pandas as pd"
   ],
   "outputs": [],
   "metadata": {}
  },
  {
   "cell_type": "markdown",
   "source": [
    "## **Importa dados como um DataFrame do Pandas**"
   ],
   "metadata": {}
  },
  {
   "cell_type": "code",
   "execution_count": null,
   "source": [
    "raw = pd.read_csv(\"./data/RAW_PAM_1990-2019.zip\", encoding=\"UTF-8\", sep=\";\", decimal=\",\")\r\n",
    "raw.head()"
   ],
   "outputs": [],
   "metadata": {}
  },
  {
   "cell_type": "markdown",
   "source": [
    "## **1- Cria tabela auxiliar, renomeia as colunas e conserta as colunas `Variável` e `Valor Variável`**"
   ],
   "metadata": {}
  },
  {
   "cell_type": "code",
   "execution_count": null,
   "source": [
    "columns = {\r\n",
    "    \"Cód.\": \"municipio_codigo\",\r\n",
    "    \"Ano\": \"ano\",\r\n",
    "    \"Área plantada ou destinada à colheita (Hectares)\": \"area_plantada\",\r\n",
    "    \"Área colhida (Hectares)\": \"area_colhida\",\r\n",
    "    \"Valor da produção (Mil Reais)\": \"valor_reais\",\r\n",
    "    \"Valor da produção (Mil Cruzeiros)\": \"valor_cruzeiros\",\r\n",
    "    \"Valor da produção (Mil Cruzeiros Reais)\": \"valor_cruzeiros_reais\"\r\n",
    "}\r\n",
    "\r\n",
    "df = pd.DataFrame(columns=list(columns.keys()))"
   ],
   "outputs": [],
   "metadata": {}
  },
  {
   "cell_type": "code",
   "execution_count": null,
   "source": [
    "mun_ids = raw[\"Cód.\"].unique()\r\n",
    "mun_ids_total = len(mun_ids)\r\n",
    "counter = 0\r\n",
    "print(\"Total de municípios >>\", len(mun_ids))\r\n",
    "for municipio in mun_ids:\r\n",
    "    counter += 1\r\n",
    "    print(f\"\\r{counter}/{mun_ids_total}\", end=\"\")\r\n",
    "    for ano in raw[\"Ano\"].unique():\r\n",
    "        temp = raw.loc[(raw[\"Cód.\"] == municipio) & (raw[\"Ano\"] == ano)]\r\n",
    "        temp_row = temp.iloc[0]\r\n",
    "        dic = {\r\n",
    "            \"Cód.\": municipio,\r\n",
    "            \"Ano\": ano,\r\n",
    "            \"Área plantada ou destinada à colheita (Hectares)\": \"\",\r\n",
    "            \"Área colhida (Hectares)\": \"\",\r\n",
    "            \"Valor da produção (Mil Reais)\": \"\",\r\n",
    "            \"Valor da produção (Mil Cruzeiros)\": \"\",\r\n",
    "            \"Valor da produção (Mil Cruzeiros Reais)\": \"\"\r\n",
    "        }\r\n",
    "        for _, row in temp.iterrows():\r\n",
    "            dic[str(row[\"Variável\"])] = row[\"Valor Variável\"]\r\n",
    "        df = df.append(dic, ignore_index=True)\r\n",
    "df = df.rename(columns)\r\n",
    "df = df.sort_values(by=[\"ano\", \"codigo_municipio\"]).reset_index()\r\n",
    "df[\"area_plantada\"] = df[\"area_plantada\"].replace([\"...\", \"-\"], np.NaN)\r\n",
    "df[\"area_colhida\"] = df[\"area_colhida\"].replace([\"...\", \"-\"], np.NaN)\r\n",
    "df[\"valor_reais\"] = df[\"valor_reais\"].replace([\"...\", \"-\"], np.NaN)\r\n",
    "df[\"valor_cruzeiros\"] = df[\"valor_cruzeiros\"].replace([\"...\", \"-\"], np.NaN)\r\n",
    "df[\"valor_cruzeiros_reais\"] = df[\"valor_cruzeiros_reais\"].replace([\"...\", \"-\"], np.NaN)\r\n",
    "df[\"razao_colheita_plantio\"] = df[\"area_colhida\"]/df[\"area_plantada\"]"
   ],
   "outputs": [],
   "metadata": {}
  },
  {
   "cell_type": "markdown",
   "source": [
    "## **2- Se removem os dados agregados do país (`municipio_codigo == 1`)**"
   ],
   "metadata": {}
  },
  {
   "cell_type": "code",
   "execution_count": null,
   "source": [
    "df = df.loc[df[\"municipio_codigo\"] != 1]\r\n",
    "df.head()"
   ],
   "outputs": [],
   "metadata": {}
  },
  {
   "cell_type": "code",
   "execution_count": null,
   "source": [
    "df = df[list(columns.values())].rename(columns=columns)\r\n",
    "df = df.sort_values(by=[\"municipio_codigo\", \"ano\"]).reset_index(drop=True)\r\n",
    "df[\"area_plantada\"] = df[\"area_plantada\"].replace([\"...\", \"-\"], np.NaN)\r\n",
    "df[\"area_colhida\"] = df[\"area_colhida\"].replace([\"...\", \"-\"], np.NaN)\r\n",
    "df[\"valor_reais\"] = df[\"valor_reais\"].replace([\"...\", \"-\"], np.NaN)\r\n",
    "df[\"valor_cruzeiros\"] = df[\"valor_cruzeiros\"].replace([\"...\", \"-\"], np.NaN)\r\n",
    "df[\"valor_cruzeiros_reais\"] = df[\"valor_cruzeiros_reais\"].replace([\"...\", \"-\"], np.NaN)\r\n",
    "df[\"razao_plantio_colheita\"] = df[\"area_colhida\"].astype(float)/df[\"area_plantada\"].astype(float)"
   ],
   "outputs": [],
   "metadata": {}
  },
  {
   "cell_type": "code",
   "execution_count": null,
   "source": [
    "df.head()"
   ],
   "outputs": [],
   "metadata": {}
  },
  {
   "cell_type": "code",
   "execution_count": null,
   "source": [
    "df.to_csv(\"./data/PAM.zip\", sep=\";\", index=False, compression=dict(method=\"zip\", archive_name=\"PAM.csv\"))"
   ],
   "outputs": [],
   "metadata": {}
  }
 ],
 "metadata": {
  "orig_nbformat": 4,
  "language_info": {
   "name": "python",
   "version": "3.9.6",
   "mimetype": "text/x-python",
   "codemirror_mode": {
    "name": "ipython",
    "version": 3
   },
   "pygments_lexer": "ipython3",
   "nbconvert_exporter": "python",
   "file_extension": ".py"
  },
  "kernelspec": {
   "name": "python3",
   "display_name": "Python 3.9.6 64-bit"
  },
  "interpreter": {
   "hash": "63fd5069d213b44bf678585dea6b12cceca9941eaf7f819626cde1f2670de90d"
  }
 },
 "nbformat": 4,
 "nbformat_minor": 2
}