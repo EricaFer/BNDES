{
 "cells": [
  {
   "cell_type": "code",
   "execution_count": 1,
   "source": [
    "import pandas as pd\r\n",
    "import numpy as np\r\n",
    "import os\r\n",
    "import folium\r\n",
    "from folium import IFrame\r\n",
    "import json\r\n",
    "import matplotlib.pyplot as plt\r\n",
    "from matplotlib import cm\r\n",
    "import warnings\r\n",
    "import plotly.graph_objects as go\r\n",
    "from io import BytesIO\r\n",
    "import base64"
   ],
   "outputs": [],
   "metadata": {}
  },
  {
   "cell_type": "code",
   "execution_count": 2,
   "source": [
    "df = pd.read_csv(os.path.join('data', 'operacoes-financiamento-operacoes-indiretas-automaticas.csv'), sep = ';', decimal = ',')"
   ],
   "outputs": [],
   "metadata": {}
  },
  {
   "cell_type": "markdown",
   "source": [
    "1 ) Descrição dos dados:\r\n",
    "\r\n",
    "Informações detalhadas sobre as operações indiretas contratadas de forma automática.\r\n",
    " Nas operações indiretas, a análise do financiamento é feita pela instituição financeira credenciada, que assume o risco de não pagamento da operação.\r\n",
    " É ela também que negocia com o cliente as condições do financiamento, como prazo de pagamento, spread de risco e garantias exigidas, respeitando algumas regras\r\n",
    " e limites definidos pelo BNDES. Não foram incluídas nesta listagem as operações do Cartão BNDES e nem as contratadas com Pessoas Físicas. Dados, em reais, a partir de 2002.\r\n",
    "\r\n",
    " Fonte: https://dadosabertos.bndes.gov.br/dataset/operacoes-financiamento/resource/9534f677-9525-4bf8-a3aa-fd5d3e152a93\r\n"
   ],
   "metadata": {}
  },
  {
   "cell_type": "code",
   "execution_count": 3,
   "source": [
    "df.shape, df.columns"
   ],
   "outputs": [
    {
     "output_type": "execute_result",
     "data": {
      "text/plain": [
       "((2083363, 30),\n",
       " Index(['cliente', 'cpf_cnpj', 'uf', 'municipio', 'municipio_codigo',\n",
       "        'data_da_contratacao', 'valor_da_operacao_em_reais',\n",
       "        'valor_desembolsado_reais', 'fonte_de_recurso_desembolsos',\n",
       "        'custo_financeiro', 'juros', 'prazo_carencia_meses',\n",
       "        'prazo_amortizacao_meses', 'modalidade_de_apoio', 'forma_de_apoio',\n",
       "        'produto', 'instrumento_financeiro', 'inovacao', 'area_operacional',\n",
       "        'setor_cnae', 'subsetor_cnae_agrupado', 'subsetor_cnae_codigo',\n",
       "        'subsetor_cnae_nome', 'setor_bndes', 'subsetor_bndes',\n",
       "        'porte_do_cliente', 'natureza_do_cliente',\n",
       "        'instituicao_financeira_credenciada', 'cnpj_do_agente_financeiro',\n",
       "        'situacao_da_operacao'],\n",
       "       dtype='object'))"
      ]
     },
     "metadata": {},
     "execution_count": 3
    }
   ],
   "metadata": {}
  },
  {
   "cell_type": "code",
   "execution_count": 4,
   "source": [
    "df.info(verbose= True, show_counts=True)"
   ],
   "outputs": [
    {
     "output_type": "stream",
     "name": "stdout",
     "text": [
      "<class 'pandas.core.frame.DataFrame'>\n",
      "RangeIndex: 2083363 entries, 0 to 2083362\n",
      "Data columns (total 30 columns):\n",
      " #   Column                              Non-Null Count    Dtype  \n",
      "---  ------                              --------------    -----  \n",
      " 0   cliente                             2083363 non-null  object \n",
      " 1   cpf_cnpj                            2083363 non-null  object \n",
      " 2   uf                                  2083363 non-null  object \n",
      " 3   municipio                           2083363 non-null  object \n",
      " 4   municipio_codigo                    2083363 non-null  int64  \n",
      " 5   data_da_contratacao                 2083363 non-null  object \n",
      " 6   valor_da_operacao_em_reais          2083363 non-null  int64  \n",
      " 7   valor_desembolsado_reais            2080426 non-null  float64\n",
      " 8   fonte_de_recurso_desembolsos        2083363 non-null  object \n",
      " 9   custo_financeiro                    2083363 non-null  object \n",
      " 10  juros                               2082927 non-null  float64\n",
      " 11  prazo_carencia_meses                2083363 non-null  int64  \n",
      " 12  prazo_amortizacao_meses             2083363 non-null  int64  \n",
      " 13  modalidade_de_apoio                 2083363 non-null  object \n",
      " 14  forma_de_apoio                      2083363 non-null  object \n",
      " 15  produto                             2083363 non-null  object \n",
      " 16  instrumento_financeiro              2083363 non-null  object \n",
      " 17  inovacao                            2083363 non-null  object \n",
      " 18  area_operacional                    2083363 non-null  object \n",
      " 19  setor_cnae                          2083363 non-null  object \n",
      " 20  subsetor_cnae_agrupado              2083363 non-null  object \n",
      " 21  subsetor_cnae_codigo                2083363 non-null  object \n",
      " 22  subsetor_cnae_nome                  2083363 non-null  object \n",
      " 23  setor_bndes                         2083363 non-null  object \n",
      " 24  subsetor_bndes                      2083363 non-null  object \n",
      " 25  porte_do_cliente                    2083363 non-null  object \n",
      " 26  natureza_do_cliente                 2083363 non-null  object \n",
      " 27  instituicao_financeira_credenciada  2083363 non-null  object \n",
      " 28  cnpj_do_agente_financeiro           2083363 non-null  object \n",
      " 29  situacao_da_operacao                2083363 non-null  object \n",
      "dtypes: float64(2), int64(4), object(24)\n",
      "memory usage: 476.8+ MB\n"
     ]
    }
   ],
   "metadata": {}
  },
  {
   "cell_type": "code",
   "execution_count": 5,
   "source": [
    "df.head()"
   ],
   "outputs": [
    {
     "output_type": "execute_result",
     "data": {
      "text/plain": [
       "                                            cliente            cpf_cnpj   uf  \\\n",
       "0                     BANCO COOPERATIVO SICOOB S.A.  **.*38.232/0001-**   SP   \n",
       "1  BANCO REGIONAL DE DESENVOLVIMENTO DO EXTREMO SUL  **.*16.560/0001-**   RS   \n",
       "2  BANCO REGIONAL DE DESENVOLVIMENTO DO EXTREMO SUL  **.*16.560/0001-**   RS   \n",
       "3  BANCO REGIONAL DE DESENVOLVIMENTO DO EXTREMO SUL  **.*16.560/0001-**   RS   \n",
       "4  BANCO REGIONAL DE DESENVOLVIMENTO DO EXTREMO SUL  **.*16.560/0001-**   RS   \n",
       "\n",
       "      municipio  municipio_codigo data_da_contratacao  \\\n",
       "0    PEDREGULHO           3537008          2002-01-02   \n",
       "1  TRES DE MAIO           4321808          2002-01-02   \n",
       "2       ERECHIM           4307005          2002-01-02   \n",
       "3       ERECHIM           4307005          2002-01-02   \n",
       "4       HUMAITA           4309704          2002-01-02   \n",
       "\n",
       "   valor_da_operacao_em_reais  valor_desembolsado_reais  \\\n",
       "0                       16000                   16000.0   \n",
       "1                        8047                    8047.0   \n",
       "2                        8104                    8104.0   \n",
       "3                        6304                    6304.0   \n",
       "4                       15000                   15000.0   \n",
       "\n",
       "                    fonte_de_recurso_desembolsos custo_financeiro  ...  \\\n",
       "0                      RECURSOS LIVRES - TESOURO        TAXA FIXA  ...   \n",
       "1  RECURSOS VINCULADOS - FAT DEPÓSITOS ESPECIAIS        TAXA FIXA  ...   \n",
       "2  RECURSOS VINCULADOS - FAT DEPÓSITOS ESPECIAIS        TAXA FIXA  ...   \n",
       "3  RECURSOS VINCULADOS - FAT DEPÓSITOS ESPECIAIS        TAXA FIXA  ...   \n",
       "4  RECURSOS VINCULADOS - FAT DEPÓSITOS ESPECIAIS        TAXA FIXA  ...   \n",
       "\n",
       "   subsetor_cnae_agrupado  subsetor_cnae_codigo  \\\n",
       "0            Agropecuária              A0119900   \n",
       "1            Agropecuária              A0100000   \n",
       "2            Agropecuária              A0100000   \n",
       "3            Agropecuária              A0100000   \n",
       "4            Agropecuária              A0100000   \n",
       "\n",
       "                                  subsetor_cnae_nome   setor_bndes  \\\n",
       "0  CULT PLANTAS LAVOURA TEMPORARIA NAO ESPECIFICA...  AGROPECUÁRIA   \n",
       "1      AGRICULTURA, PECUARIA E SERVICOS RELACIONADOS  AGROPECUÁRIA   \n",
       "2      AGRICULTURA, PECUARIA E SERVICOS RELACIONADOS  AGROPECUÁRIA   \n",
       "3      AGRICULTURA, PECUARIA E SERVICOS RELACIONADOS  AGROPECUÁRIA   \n",
       "4      AGRICULTURA, PECUARIA E SERVICOS RELACIONADOS  AGROPECUÁRIA   \n",
       "\n",
       "  subsetor_bndes porte_do_cliente natureza_do_cliente  \\\n",
       "0   AGROPECUÁRIA            MICRO             PRIVADA   \n",
       "1   AGROPECUÁRIA            MICRO             PRIVADA   \n",
       "2   AGROPECUÁRIA            MICRO             PRIVADA   \n",
       "3   AGROPECUÁRIA            MICRO             PRIVADA   \n",
       "4   AGROPECUÁRIA            MICRO             PRIVADA   \n",
       "\n",
       "                 instituicao_financeira_credenciada cnpj_do_agente_financeiro  \\\n",
       "0                     BANCO COOPERATIVO SICOOB S.A.        02.038.232.0001-64   \n",
       "1  BANCO REGIONAL DE DESENVOLVIMENTO DO EXTREMO SUL        92.816.560.0001-37   \n",
       "2  BANCO REGIONAL DE DESENVOLVIMENTO DO EXTREMO SUL        92.816.560.0001-37   \n",
       "3  BANCO REGIONAL DE DESENVOLVIMENTO DO EXTREMO SUL        92.816.560.0001-37   \n",
       "4  BANCO REGIONAL DE DESENVOLVIMENTO DO EXTREMO SUL        92.816.560.0001-37   \n",
       "\n",
       "  situacao_da_operacao  \n",
       "0            LIQUIDADA  \n",
       "1            LIQUIDADA  \n",
       "2            LIQUIDADA  \n",
       "3            LIQUIDADA  \n",
       "4            LIQUIDADA  \n",
       "\n",
       "[5 rows x 30 columns]"
      ],
      "text/html": [
       "<div>\n",
       "<style scoped>\n",
       "    .dataframe tbody tr th:only-of-type {\n",
       "        vertical-align: middle;\n",
       "    }\n",
       "\n",
       "    .dataframe tbody tr th {\n",
       "        vertical-align: top;\n",
       "    }\n",
       "\n",
       "    .dataframe thead th {\n",
       "        text-align: right;\n",
       "    }\n",
       "</style>\n",
       "<table border=\"1\" class=\"dataframe\">\n",
       "  <thead>\n",
       "    <tr style=\"text-align: right;\">\n",
       "      <th></th>\n",
       "      <th>cliente</th>\n",
       "      <th>cpf_cnpj</th>\n",
       "      <th>uf</th>\n",
       "      <th>municipio</th>\n",
       "      <th>municipio_codigo</th>\n",
       "      <th>data_da_contratacao</th>\n",
       "      <th>valor_da_operacao_em_reais</th>\n",
       "      <th>valor_desembolsado_reais</th>\n",
       "      <th>fonte_de_recurso_desembolsos</th>\n",
       "      <th>custo_financeiro</th>\n",
       "      <th>...</th>\n",
       "      <th>subsetor_cnae_agrupado</th>\n",
       "      <th>subsetor_cnae_codigo</th>\n",
       "      <th>subsetor_cnae_nome</th>\n",
       "      <th>setor_bndes</th>\n",
       "      <th>subsetor_bndes</th>\n",
       "      <th>porte_do_cliente</th>\n",
       "      <th>natureza_do_cliente</th>\n",
       "      <th>instituicao_financeira_credenciada</th>\n",
       "      <th>cnpj_do_agente_financeiro</th>\n",
       "      <th>situacao_da_operacao</th>\n",
       "    </tr>\n",
       "  </thead>\n",
       "  <tbody>\n",
       "    <tr>\n",
       "      <th>0</th>\n",
       "      <td>BANCO COOPERATIVO SICOOB S.A.</td>\n",
       "      <td>**.*38.232/0001-**</td>\n",
       "      <td>SP</td>\n",
       "      <td>PEDREGULHO</td>\n",
       "      <td>3537008</td>\n",
       "      <td>2002-01-02</td>\n",
       "      <td>16000</td>\n",
       "      <td>16000.0</td>\n",
       "      <td>RECURSOS LIVRES - TESOURO</td>\n",
       "      <td>TAXA FIXA</td>\n",
       "      <td>...</td>\n",
       "      <td>Agropecuária</td>\n",
       "      <td>A0119900</td>\n",
       "      <td>CULT PLANTAS LAVOURA TEMPORARIA NAO ESPECIFICA...</td>\n",
       "      <td>AGROPECUÁRIA</td>\n",
       "      <td>AGROPECUÁRIA</td>\n",
       "      <td>MICRO</td>\n",
       "      <td>PRIVADA</td>\n",
       "      <td>BANCO COOPERATIVO SICOOB S.A.</td>\n",
       "      <td>02.038.232.0001-64</td>\n",
       "      <td>LIQUIDADA</td>\n",
       "    </tr>\n",
       "    <tr>\n",
       "      <th>1</th>\n",
       "      <td>BANCO REGIONAL DE DESENVOLVIMENTO DO EXTREMO SUL</td>\n",
       "      <td>**.*16.560/0001-**</td>\n",
       "      <td>RS</td>\n",
       "      <td>TRES DE MAIO</td>\n",
       "      <td>4321808</td>\n",
       "      <td>2002-01-02</td>\n",
       "      <td>8047</td>\n",
       "      <td>8047.0</td>\n",
       "      <td>RECURSOS VINCULADOS - FAT DEPÓSITOS ESPECIAIS</td>\n",
       "      <td>TAXA FIXA</td>\n",
       "      <td>...</td>\n",
       "      <td>Agropecuária</td>\n",
       "      <td>A0100000</td>\n",
       "      <td>AGRICULTURA, PECUARIA E SERVICOS RELACIONADOS</td>\n",
       "      <td>AGROPECUÁRIA</td>\n",
       "      <td>AGROPECUÁRIA</td>\n",
       "      <td>MICRO</td>\n",
       "      <td>PRIVADA</td>\n",
       "      <td>BANCO REGIONAL DE DESENVOLVIMENTO DO EXTREMO SUL</td>\n",
       "      <td>92.816.560.0001-37</td>\n",
       "      <td>LIQUIDADA</td>\n",
       "    </tr>\n",
       "    <tr>\n",
       "      <th>2</th>\n",
       "      <td>BANCO REGIONAL DE DESENVOLVIMENTO DO EXTREMO SUL</td>\n",
       "      <td>**.*16.560/0001-**</td>\n",
       "      <td>RS</td>\n",
       "      <td>ERECHIM</td>\n",
       "      <td>4307005</td>\n",
       "      <td>2002-01-02</td>\n",
       "      <td>8104</td>\n",
       "      <td>8104.0</td>\n",
       "      <td>RECURSOS VINCULADOS - FAT DEPÓSITOS ESPECIAIS</td>\n",
       "      <td>TAXA FIXA</td>\n",
       "      <td>...</td>\n",
       "      <td>Agropecuária</td>\n",
       "      <td>A0100000</td>\n",
       "      <td>AGRICULTURA, PECUARIA E SERVICOS RELACIONADOS</td>\n",
       "      <td>AGROPECUÁRIA</td>\n",
       "      <td>AGROPECUÁRIA</td>\n",
       "      <td>MICRO</td>\n",
       "      <td>PRIVADA</td>\n",
       "      <td>BANCO REGIONAL DE DESENVOLVIMENTO DO EXTREMO SUL</td>\n",
       "      <td>92.816.560.0001-37</td>\n",
       "      <td>LIQUIDADA</td>\n",
       "    </tr>\n",
       "    <tr>\n",
       "      <th>3</th>\n",
       "      <td>BANCO REGIONAL DE DESENVOLVIMENTO DO EXTREMO SUL</td>\n",
       "      <td>**.*16.560/0001-**</td>\n",
       "      <td>RS</td>\n",
       "      <td>ERECHIM</td>\n",
       "      <td>4307005</td>\n",
       "      <td>2002-01-02</td>\n",
       "      <td>6304</td>\n",
       "      <td>6304.0</td>\n",
       "      <td>RECURSOS VINCULADOS - FAT DEPÓSITOS ESPECIAIS</td>\n",
       "      <td>TAXA FIXA</td>\n",
       "      <td>...</td>\n",
       "      <td>Agropecuária</td>\n",
       "      <td>A0100000</td>\n",
       "      <td>AGRICULTURA, PECUARIA E SERVICOS RELACIONADOS</td>\n",
       "      <td>AGROPECUÁRIA</td>\n",
       "      <td>AGROPECUÁRIA</td>\n",
       "      <td>MICRO</td>\n",
       "      <td>PRIVADA</td>\n",
       "      <td>BANCO REGIONAL DE DESENVOLVIMENTO DO EXTREMO SUL</td>\n",
       "      <td>92.816.560.0001-37</td>\n",
       "      <td>LIQUIDADA</td>\n",
       "    </tr>\n",
       "    <tr>\n",
       "      <th>4</th>\n",
       "      <td>BANCO REGIONAL DE DESENVOLVIMENTO DO EXTREMO SUL</td>\n",
       "      <td>**.*16.560/0001-**</td>\n",
       "      <td>RS</td>\n",
       "      <td>HUMAITA</td>\n",
       "      <td>4309704</td>\n",
       "      <td>2002-01-02</td>\n",
       "      <td>15000</td>\n",
       "      <td>15000.0</td>\n",
       "      <td>RECURSOS VINCULADOS - FAT DEPÓSITOS ESPECIAIS</td>\n",
       "      <td>TAXA FIXA</td>\n",
       "      <td>...</td>\n",
       "      <td>Agropecuária</td>\n",
       "      <td>A0100000</td>\n",
       "      <td>AGRICULTURA, PECUARIA E SERVICOS RELACIONADOS</td>\n",
       "      <td>AGROPECUÁRIA</td>\n",
       "      <td>AGROPECUÁRIA</td>\n",
       "      <td>MICRO</td>\n",
       "      <td>PRIVADA</td>\n",
       "      <td>BANCO REGIONAL DE DESENVOLVIMENTO DO EXTREMO SUL</td>\n",
       "      <td>92.816.560.0001-37</td>\n",
       "      <td>LIQUIDADA</td>\n",
       "    </tr>\n",
       "  </tbody>\n",
       "</table>\n",
       "<p>5 rows × 30 columns</p>\n",
       "</div>"
      ]
     },
     "metadata": {},
     "execution_count": 5
    }
   ],
   "metadata": {}
  },
  {
   "cell_type": "markdown",
   "source": [
    "2.1.1) Número de financiamentos por estado"
   ],
   "metadata": {}
  },
  {
   "cell_type": "code",
   "execution_count": 6,
   "source": [
    "estados, contador = np.unique(df.uf, return_counts = True)\r\n",
    "dict_uf = dict(zip(estados, contador))\r\n",
    "sorted_dict_uf = sorted(dict_uf.items(), key = lambda key_value: key_value[1], reverse = True)\r\n",
    "for i in sorted_dict_uf: print(i[0], '   ', i[1])"
   ],
   "outputs": [
    {
     "output_type": "stream",
     "name": "stdout",
     "text": [
      " SP     434734\n",
      " RS     288488\n",
      " PR     275219\n",
      " MG     232436\n",
      " SC     216139\n",
      " RJ     79365\n",
      " GO     73032\n",
      " BA     72898\n",
      " ES     62616\n",
      " MT     53894\n",
      " PE     49772\n",
      " CE     33254\n",
      " MS     32311\n",
      " PA     29550\n",
      " MA     22230\n",
      " RO     19500\n",
      " TO     16533\n",
      " DF     14455\n",
      " AM     13602\n",
      " PB     13206\n",
      " RN     12941\n",
      " AL     9888\n",
      " PI     9797\n",
      " SE     8564\n",
      " AC     4520\n",
      " AP     2366\n",
      " RR     2053\n"
     ]
    }
   ],
   "metadata": {}
  },
  {
   "cell_type": "markdown",
   "source": [
    "2.1.2) Representação gráfica"
   ],
   "metadata": {}
  },
  {
   "cell_type": "code",
   "execution_count": 7,
   "source": [
    "warnings.filterwarnings('ignore', category=plt.cbook.MatplotlibDeprecationWarning)\r\n",
    "\r\n",
    "plt.figure(figsize=(15,6))\r\n",
    "\r\n",
    "cores = cm.gist_rainbow(1.*contador/max(contador))\r\n",
    "plot = plt.scatter(contador, contador, c = contador, cmap = 'gist_rainbow')\r\n",
    "plt.clf()\r\n",
    "plt.colorbar(plot)\r\n",
    "plt.title('Número de financiamentos por estado')\r\n",
    "plt.bar(estados, contador, color = cores, edgecolor = 'black')\r\n",
    "\r\n",
    "plt.show()"
   ],
   "outputs": [
    {
     "output_type": "display_data",
     "data": {
      "text/plain": [
       "<Figure size 1080x432 with 2 Axes>"
      ],
      "image/svg+xml": "<?xml version=\"1.0\" encoding=\"utf-8\" standalone=\"no\"?>\r\n<!DOCTYPE svg PUBLIC \"-//W3C//DTD SVG 1.1//EN\"\r\n  \"http://www.w3.org/Graphics/SVG/1.1/DTD/svg11.dtd\">\r\n<svg height=\"372.83625pt\" version=\"1.1\" viewBox=\"0 0 832.508 372.83625\" width=\"832.508pt\" xmlns=\"http://www.w3.org/2000/svg\" xmlns:xlink=\"http://www.w3.org/1999/xlink\">\r\n <metadata>\r\n  <rdf:RDF xmlns:cc=\"http://creativecommons.org/ns#\" xmlns:dc=\"http://purl.org/dc/elements/1.1/\" xmlns:rdf=\"http://www.w3.org/1999/02/22-rdf-syntax-ns#\">\r\n   <cc:Work>\r\n    <dc:type rdf:resource=\"http://purl.org/dc/dcmitype/StillImage\"/>\r\n    <dc:date>2021-08-15T10:20:15.005322</dc:date>\r\n    <dc:format>image/svg+xml</dc:format>\r\n    <dc:creator>\r\n     <cc:Agent>\r\n      <dc:title>Matplotlib v3.4.2, https://matplotlib.org/</dc:title>\r\n     </cc:Agent>\r\n    </dc:creator>\r\n   </cc:Work>\r\n  </rdf:RDF>\r\n </metadata>\r\n <defs>\r\n  <style type=\"text/css\">*{stroke-linecap:butt;stroke-linejoin:round;}</style>\r\n </defs>\r\n <g id=\"figure_1\">\r\n  <g id=\"patch_1\">\r\n   <path d=\"M 0 372.83625 \r\nL 832.508 372.83625 \r\nL 832.508 0 \r\nL 0 0 \r\nz\r\n\" style=\"fill:none;\"/>\r\n  </g>\r\n  <g id=\"axes_1\">\r\n   <g id=\"patch_2\">\r\n    <path d=\"M 52.375 348.958125 \r\nL 721.975 348.958125 \r\nL 721.975 22.798125 \r\nL 52.375 22.798125 \r\nz\r\n\" style=\"fill:#ffffff;\"/>\r\n   </g>\r\n   <g id=\"patch_3\">\r\n    <path clip-path=\"url(#p29a1ab8b8e)\" d=\"M 82.811364 348.958125 \r\nL 100.982327 348.958125 \r\nL 100.982327 345.728469 \r\nL 82.811364 345.728469 \r\nz\r\n\" style=\"fill:#ff001e;stroke:#000000;stroke-linejoin:miter;\"/>\r\n   </g>\r\n   <g id=\"patch_4\">\r\n    <path clip-path=\"url(#p29a1ab8b8e)\" d=\"M 105.525068 348.958125 \r\nL 123.696031 348.958125 \r\nL 123.696031 341.892896 \r\nL 105.525068 341.892896 \r\nz\r\n\" style=\"fill:#ff000e;stroke:#000000;stroke-linejoin:miter;\"/>\r\n   </g>\r\n   <g id=\"patch_5\">\r\n    <path clip-path=\"url(#p29a1ab8b8e)\" d=\"M 128.238772 348.958125 \r\nL 146.409735 348.958125 \r\nL 146.409735 339.239148 \r\nL 128.238772 339.239148 \r\nz\r\n\" style=\"fill:#ff0200;stroke:#000000;stroke-linejoin:miter;\"/>\r\n   </g>\r\n   <g id=\"patch_6\">\r\n    <path clip-path=\"url(#p29a1ab8b8e)\" d=\"M 150.952476 348.958125 \r\nL 169.12344 348.958125 \r\nL 169.12344 347.267557 \r\nL 150.952476 347.267557 \r\nz\r\n\" style=\"fill:#ff0023;stroke:#000000;stroke-linejoin:miter;\"/>\r\n   </g>\r\n   <g id=\"patch_7\">\r\n    <path clip-path=\"url(#p29a1ab8b8e)\" d=\"M 173.66618 348.958125 \r\nL 191.837144 348.958125 \r\nL 191.837144 296.870638 \r\nL 173.66618 296.870638 \r\nz\r\n\" style=\"fill:#ffba00;stroke:#000000;stroke-linejoin:miter;\"/>\r\n   </g>\r\n   <g id=\"patch_8\">\r\n    <path clip-path=\"url(#p29a1ab8b8e)\" d=\"M 196.379885 348.958125 \r\nL 214.550848 348.958125 \r\nL 214.550848 325.197291 \r\nL 196.379885 325.197291 \r\nz\r\n\" style=\"fill:#ff3d00;stroke:#000000;stroke-linejoin:miter;\"/>\r\n   </g>\r\n   <g id=\"patch_9\">\r\n    <path clip-path=\"url(#p29a1ab8b8e)\" d=\"M 219.093589 348.958125 \r\nL 237.264552 348.958125 \r\nL 237.264552 338.629657 \r\nL 219.093589 338.629657 \r\nz\r\n\" style=\"fill:#ff0200;stroke:#000000;stroke-linejoin:miter;\"/>\r\n   </g>\r\n   <g id=\"patch_10\">\r\n    <path clip-path=\"url(#p29a1ab8b8e)\" d=\"M 241.807293 348.958125 \r\nL 259.978256 348.958125 \r\nL 259.978256 304.21739 \r\nL 241.807293 304.21739 \r\nz\r\n\" style=\"fill:#ff9900;stroke:#000000;stroke-linejoin:miter;\"/>\r\n   </g>\r\n   <g id=\"patch_11\">\r\n    <path clip-path=\"url(#p29a1ab8b8e)\" d=\"M 264.520997 348.958125 \r\nL 282.691961 348.958125 \r\nL 282.691961 296.774892 \r\nL 264.520997 296.774892 \r\nz\r\n\" style=\"fill:#ffbf00;stroke:#000000;stroke-linejoin:miter;\"/>\r\n   </g>\r\n   <g id=\"patch_12\">\r\n    <path clip-path=\"url(#p29a1ab8b8e)\" d=\"M 287.234701 348.958125 \r\nL 305.405665 348.958125 \r\nL 305.405665 333.074221 \r\nL 287.234701 333.074221 \r\nz\r\n\" style=\"fill:#ff1d00;stroke:#000000;stroke-linejoin:miter;\"/>\r\n   </g>\r\n   <g id=\"patch_13\">\r\n    <path clip-path=\"url(#p29a1ab8b8e)\" d=\"M 309.948406 348.958125 \r\nL 328.119369 348.958125 \r\nL 328.119369 182.876653 \r\nL 309.948406 182.876653 \r\nz\r\n\" style=\"fill:#00ffb7;stroke:#000000;stroke-linejoin:miter;\"/>\r\n   </g>\r\n   <g id=\"patch_14\">\r\n    <path clip-path=\"url(#p29a1ab8b8e)\" d=\"M 332.66211 348.958125 \r\nL 350.833073 348.958125 \r\nL 350.833073 325.871088 \r\nL 332.66211 325.871088 \r\nz\r\n\" style=\"fill:#ff3d00;stroke:#000000;stroke-linejoin:miter;\"/>\r\n   </g>\r\n   <g id=\"patch_15\">\r\n    <path clip-path=\"url(#p29a1ab8b8e)\" d=\"M 355.375814 348.958125 \r\nL 373.546777 348.958125 \r\nL 373.546777 310.449482 \r\nL 355.375814 310.449482 \r\nz\r\n\" style=\"fill:#ff7e00;stroke:#000000;stroke-linejoin:miter;\"/>\r\n   </g>\r\n   <g id=\"patch_16\">\r\n    <path clip-path=\"url(#p29a1ab8b8e)\" d=\"M 378.089518 348.958125 \r\nL 396.260482 348.958125 \r\nL 396.260482 327.843894 \r\nL 378.089518 327.843894 \r\nz\r\n\" style=\"fill:#ff3300;stroke:#000000;stroke-linejoin:miter;\"/>\r\n   </g>\r\n   <g id=\"patch_17\">\r\n    <path clip-path=\"url(#p29a1ab8b8e)\" d=\"M 400.803223 348.958125 \r\nL 418.974186 348.958125 \r\nL 418.974186 339.5221 \r\nL 400.803223 339.5221 \r\nz\r\n\" style=\"fill:#ff0003;stroke:#000000;stroke-linejoin:miter;\"/>\r\n   </g>\r\n   <g id=\"patch_18\">\r\n    <path clip-path=\"url(#p29a1ab8b8e)\" d=\"M 423.516927 348.958125 \r\nL 441.68789 348.958125 \r\nL 441.68789 313.394757 \r\nL 423.516927 313.394757 \r\nz\r\n\" style=\"fill:#ff7300;stroke:#000000;stroke-linejoin:miter;\"/>\r\n   </g>\r\n   <g id=\"patch_19\">\r\n    <path clip-path=\"url(#p29a1ab8b8e)\" d=\"M 446.230631 348.958125 \r\nL 464.401594 348.958125 \r\nL 464.401594 341.957918 \r\nL 446.230631 341.957918 \r\nz\r\n\" style=\"fill:#ff000e;stroke:#000000;stroke-linejoin:miter;\"/>\r\n   </g>\r\n   <g id=\"patch_20\">\r\n    <path clip-path=\"url(#p29a1ab8b8e)\" d=\"M 468.944335 348.958125 \r\nL 487.115299 348.958125 \r\nL 487.115299 152.307104 \r\nL 468.944335 152.307104 \r\nz\r\n\" style=\"fill:#00bbff;stroke:#000000;stroke-linejoin:miter;\"/>\r\n   </g>\r\n   <g id=\"patch_21\">\r\n    <path clip-path=\"url(#p29a1ab8b8e)\" d=\"M 491.658039 348.958125 \r\nL 509.829003 348.958125 \r\nL 509.829003 292.249801 \r\nL 491.658039 292.249801 \r\nz\r\n\" style=\"fill:#ffcf00;stroke:#000000;stroke-linejoin:miter;\"/>\r\n   </g>\r\n   <g id=\"patch_22\">\r\n    <path clip-path=\"url(#p29a1ab8b8e)\" d=\"M 514.371744 348.958125 \r\nL 532.542707 348.958125 \r\nL 532.542707 339.711449 \r\nL 514.371744 339.711449 \r\nz\r\n\" style=\"fill:#ff0003;stroke:#000000;stroke-linejoin:miter;\"/>\r\n   </g>\r\n   <g id=\"patch_23\">\r\n    <path clip-path=\"url(#p29a1ab8b8e)\" d=\"M 537.085448 348.958125 \r\nL 555.256411 348.958125 \r\nL 555.256411 335.024876 \r\nL 537.085448 335.024876 \r\nz\r\n\" style=\"fill:#ff1200;stroke:#000000;stroke-linejoin:miter;\"/>\r\n   </g>\r\n   <g id=\"patch_24\">\r\n    <path clip-path=\"url(#p29a1ab8b8e)\" d=\"M 559.799152 348.958125 \r\nL 577.970115 348.958125 \r\nL 577.970115 347.491204 \r\nL 559.799152 347.491204 \r\nz\r\n\" style=\"fill:#ff0023;stroke:#000000;stroke-linejoin:miter;\"/>\r\n   </g>\r\n   <g id=\"patch_25\">\r\n    <path clip-path=\"url(#p29a1ab8b8e)\" d=\"M 582.512856 348.958125 \r\nL 600.68382 348.958125 \r\nL 600.68382 142.826064 \r\nL 582.512856 142.826064 \r\nz\r\n\" style=\"fill:#0095ff;stroke:#000000;stroke-linejoin:miter;\"/>\r\n   </g>\r\n   <g id=\"patch_26\">\r\n    <path clip-path=\"url(#p29a1ab8b8e)\" d=\"M 605.22656 348.958125 \r\nL 623.397524 348.958125 \r\nL 623.397524 194.521277 \r\nL 605.22656 194.521277 \r\nz\r\n\" style=\"fill:#00ff86;stroke:#000000;stroke-linejoin:miter;\"/>\r\n   </g>\r\n   <g id=\"patch_27\">\r\n    <path clip-path=\"url(#p29a1ab8b8e)\" d=\"M 627.940265 348.958125 \r\nL 646.111228 348.958125 \r\nL 646.111228 342.838928 \r\nL 627.940265 342.838928 \r\nz\r\n\" style=\"fill:#ff000e;stroke:#000000;stroke-linejoin:miter;\"/>\r\n   </g>\r\n   <g id=\"patch_28\">\r\n    <path clip-path=\"url(#p29a1ab8b8e)\" d=\"M 650.653969 348.958125 \r\nL 668.824932 348.958125 \r\nL 668.824932 38.329554 \r\nL 650.653969 38.329554 \r\nz\r\n\" style=\"fill:#ff00bf;stroke:#000000;stroke-linejoin:miter;\"/>\r\n   </g>\r\n   <g id=\"patch_29\">\r\n    <path clip-path=\"url(#p29a1ab8b8e)\" d=\"M 673.367673 348.958125 \r\nL 691.538636 348.958125 \r\nL 691.538636 337.144873 \r\nL 673.367673 337.144873 \r\nz\r\n\" style=\"fill:#ff0700;stroke:#000000;stroke-linejoin:miter;\"/>\r\n   </g>\r\n   <g id=\"matplotlib.axis_1\">\r\n    <g id=\"xtick_1\">\r\n     <g id=\"line2d_1\">\r\n      <defs>\r\n       <path d=\"M 0 0 \r\nL 0 3.5 \r\n\" id=\"m2978c6d0f1\" style=\"stroke:#000000;stroke-width:0.8;\"/>\r\n      </defs>\r\n      <g>\r\n       <use style=\"stroke:#000000;stroke-width:0.8;\" x=\"91.896845\" xlink:href=\"#m2978c6d0f1\" y=\"348.958125\"/>\r\n      </g>\r\n     </g>\r\n     <g id=\"text_1\">\r\n      <!--  AC -->\r\n      <g transform=\"translate(83.483564 363.556562)scale(0.1 -0.1)\">\r\n       <defs>\r\n        <path id=\"DejaVuSans-20\" transform=\"scale(0.015625)\"/>\r\n        <path d=\"M 2188 4044 \r\nL 1331 1722 \r\nL 3047 1722 \r\nL 2188 4044 \r\nz\r\nM 1831 4666 \r\nL 2547 4666 \r\nL 4325 0 \r\nL 3669 0 \r\nL 3244 1197 \r\nL 1141 1197 \r\nL 716 0 \r\nL 50 0 \r\nL 1831 4666 \r\nz\r\n\" id=\"DejaVuSans-41\" transform=\"scale(0.015625)\"/>\r\n        <path d=\"M 4122 4306 \r\nL 4122 3641 \r\nQ 3803 3938 3442 4084 \r\nQ 3081 4231 2675 4231 \r\nQ 1875 4231 1450 3742 \r\nQ 1025 3253 1025 2328 \r\nQ 1025 1406 1450 917 \r\nQ 1875 428 2675 428 \r\nQ 3081 428 3442 575 \r\nQ 3803 722 4122 1019 \r\nL 4122 359 \r\nQ 3791 134 3420 21 \r\nQ 3050 -91 2638 -91 \r\nQ 1578 -91 968 557 \r\nQ 359 1206 359 2328 \r\nQ 359 3453 968 4101 \r\nQ 1578 4750 2638 4750 \r\nQ 3056 4750 3426 4639 \r\nQ 3797 4528 4122 4306 \r\nz\r\n\" id=\"DejaVuSans-43\" transform=\"scale(0.015625)\"/>\r\n       </defs>\r\n       <use xlink:href=\"#DejaVuSans-20\"/>\r\n       <use x=\"31.787109\" xlink:href=\"#DejaVuSans-41\"/>\r\n       <use x=\"98.445312\" xlink:href=\"#DejaVuSans-43\"/>\r\n      </g>\r\n     </g>\r\n    </g>\r\n    <g id=\"xtick_2\">\r\n     <g id=\"line2d_2\">\r\n      <g>\r\n       <use style=\"stroke:#000000;stroke-width:0.8;\" x=\"114.61055\" xlink:href=\"#m2978c6d0f1\" y=\"348.958125\"/>\r\n      </g>\r\n     </g>\r\n     <g id=\"text_2\">\r\n      <!--  AL -->\r\n      <g transform=\"translate(106.815237 363.556562)scale(0.1 -0.1)\">\r\n       <defs>\r\n        <path d=\"M 628 4666 \r\nL 1259 4666 \r\nL 1259 531 \r\nL 3531 531 \r\nL 3531 0 \r\nL 628 0 \r\nL 628 4666 \r\nz\r\n\" id=\"DejaVuSans-4c\" transform=\"scale(0.015625)\"/>\r\n       </defs>\r\n       <use xlink:href=\"#DejaVuSans-20\"/>\r\n       <use x=\"31.787109\" xlink:href=\"#DejaVuSans-41\"/>\r\n       <use x=\"100.195312\" xlink:href=\"#DejaVuSans-4c\"/>\r\n      </g>\r\n     </g>\r\n    </g>\r\n    <g id=\"xtick_3\">\r\n     <g id=\"line2d_3\">\r\n      <g>\r\n       <use style=\"stroke:#000000;stroke-width:0.8;\" x=\"137.324254\" xlink:href=\"#m2978c6d0f1\" y=\"348.958125\"/>\r\n      </g>\r\n     </g>\r\n     <g id=\"text_3\">\r\n      <!--  AM -->\r\n      <g transform=\"translate(128.000816 363.556562)scale(0.1 -0.1)\">\r\n       <defs>\r\n        <path d=\"M 628 4666 \r\nL 1569 4666 \r\nL 2759 1491 \r\nL 3956 4666 \r\nL 4897 4666 \r\nL 4897 0 \r\nL 4281 0 \r\nL 4281 4097 \r\nL 3078 897 \r\nL 2444 897 \r\nL 1241 4097 \r\nL 1241 0 \r\nL 628 0 \r\nL 628 4666 \r\nz\r\n\" id=\"DejaVuSans-4d\" transform=\"scale(0.015625)\"/>\r\n       </defs>\r\n       <use xlink:href=\"#DejaVuSans-20\"/>\r\n       <use x=\"31.787109\" xlink:href=\"#DejaVuSans-41\"/>\r\n       <use x=\"100.195312\" xlink:href=\"#DejaVuSans-4d\"/>\r\n      </g>\r\n     </g>\r\n    </g>\r\n    <g id=\"xtick_4\">\r\n     <g id=\"line2d_4\">\r\n      <g>\r\n       <use style=\"stroke:#000000;stroke-width:0.8;\" x=\"160.037958\" xlink:href=\"#m2978c6d0f1\" y=\"348.958125\"/>\r\n      </g>\r\n     </g>\r\n     <g id=\"text_4\">\r\n      <!--  AP -->\r\n      <g transform=\"translate(152.013739 363.556562)scale(0.1 -0.1)\">\r\n       <defs>\r\n        <path d=\"M 1259 4147 \r\nL 1259 2394 \r\nL 2053 2394 \r\nQ 2494 2394 2734 2622 \r\nQ 2975 2850 2975 3272 \r\nQ 2975 3691 2734 3919 \r\nQ 2494 4147 2053 4147 \r\nL 1259 4147 \r\nz\r\nM 628 4666 \r\nL 2053 4666 \r\nQ 2838 4666 3239 4311 \r\nQ 3641 3956 3641 3272 \r\nQ 3641 2581 3239 2228 \r\nQ 2838 1875 2053 1875 \r\nL 1259 1875 \r\nL 1259 0 \r\nL 628 0 \r\nL 628 4666 \r\nz\r\n\" id=\"DejaVuSans-50\" transform=\"scale(0.015625)\"/>\r\n       </defs>\r\n       <use xlink:href=\"#DejaVuSans-20\"/>\r\n       <use x=\"31.787109\" xlink:href=\"#DejaVuSans-41\"/>\r\n       <use x=\"100.195312\" xlink:href=\"#DejaVuSans-50\"/>\r\n      </g>\r\n     </g>\r\n    </g>\r\n    <g id=\"xtick_5\">\r\n     <g id=\"line2d_5\">\r\n      <g>\r\n       <use style=\"stroke:#000000;stroke-width:0.8;\" x=\"182.751662\" xlink:href=\"#m2978c6d0f1\" y=\"348.958125\"/>\r\n      </g>\r\n     </g>\r\n     <g id=\"text_5\">\r\n      <!--  BA -->\r\n      <g transform=\"translate(174.311818 363.556562)scale(0.1 -0.1)\">\r\n       <defs>\r\n        <path d=\"M 1259 2228 \r\nL 1259 519 \r\nL 2272 519 \r\nQ 2781 519 3026 730 \r\nQ 3272 941 3272 1375 \r\nQ 3272 1813 3026 2020 \r\nQ 2781 2228 2272 2228 \r\nL 1259 2228 \r\nz\r\nM 1259 4147 \r\nL 1259 2741 \r\nL 2194 2741 \r\nQ 2656 2741 2882 2914 \r\nQ 3109 3088 3109 3444 \r\nQ 3109 3797 2882 3972 \r\nQ 2656 4147 2194 4147 \r\nL 1259 4147 \r\nz\r\nM 628 4666 \r\nL 2241 4666 \r\nQ 2963 4666 3353 4366 \r\nQ 3744 4066 3744 3513 \r\nQ 3744 3084 3544 2831 \r\nQ 3344 2578 2956 2516 \r\nQ 3422 2416 3680 2098 \r\nQ 3938 1781 3938 1306 \r\nQ 3938 681 3513 340 \r\nQ 3088 0 2303 0 \r\nL 628 0 \r\nL 628 4666 \r\nz\r\n\" id=\"DejaVuSans-42\" transform=\"scale(0.015625)\"/>\r\n       </defs>\r\n       <use xlink:href=\"#DejaVuSans-20\"/>\r\n       <use x=\"31.787109\" xlink:href=\"#DejaVuSans-42\"/>\r\n       <use x=\"100.390625\" xlink:href=\"#DejaVuSans-41\"/>\r\n      </g>\r\n     </g>\r\n    </g>\r\n    <g id=\"xtick_6\">\r\n     <g id=\"line2d_6\">\r\n      <g>\r\n       <use style=\"stroke:#000000;stroke-width:0.8;\" x=\"205.465366\" xlink:href=\"#m2978c6d0f1\" y=\"348.958125\"/>\r\n      </g>\r\n     </g>\r\n     <g id=\"text_6\">\r\n      <!--  CE -->\r\n      <g transform=\"translate(197.225523 363.556562)scale(0.1 -0.1)\">\r\n       <defs>\r\n        <path d=\"M 628 4666 \r\nL 3578 4666 \r\nL 3578 4134 \r\nL 1259 4134 \r\nL 1259 2753 \r\nL 3481 2753 \r\nL 3481 2222 \r\nL 1259 2222 \r\nL 1259 531 \r\nL 3634 531 \r\nL 3634 0 \r\nL 628 0 \r\nL 628 4666 \r\nz\r\n\" id=\"DejaVuSans-45\" transform=\"scale(0.015625)\"/>\r\n       </defs>\r\n       <use xlink:href=\"#DejaVuSans-20\"/>\r\n       <use x=\"31.787109\" xlink:href=\"#DejaVuSans-43\"/>\r\n       <use x=\"101.611328\" xlink:href=\"#DejaVuSans-45\"/>\r\n      </g>\r\n     </g>\r\n    </g>\r\n    <g id=\"xtick_7\">\r\n     <g id=\"line2d_7\">\r\n      <g>\r\n       <use style=\"stroke:#000000;stroke-width:0.8;\" x=\"228.179071\" xlink:href=\"#m2978c6d0f1\" y=\"348.958125\"/>\r\n      </g>\r\n     </g>\r\n     <g id=\"text_7\">\r\n      <!--  DF -->\r\n      <g transform=\"translate(219.864227 363.556562)scale(0.1 -0.1)\">\r\n       <defs>\r\n        <path d=\"M 1259 4147 \r\nL 1259 519 \r\nL 2022 519 \r\nQ 2988 519 3436 956 \r\nQ 3884 1394 3884 2338 \r\nQ 3884 3275 3436 3711 \r\nQ 2988 4147 2022 4147 \r\nL 1259 4147 \r\nz\r\nM 628 4666 \r\nL 1925 4666 \r\nQ 3281 4666 3915 4102 \r\nQ 4550 3538 4550 2338 \r\nQ 4550 1131 3912 565 \r\nQ 3275 0 1925 0 \r\nL 628 0 \r\nL 628 4666 \r\nz\r\n\" id=\"DejaVuSans-44\" transform=\"scale(0.015625)\"/>\r\n        <path d=\"M 628 4666 \r\nL 3309 4666 \r\nL 3309 4134 \r\nL 1259 4134 \r\nL 1259 2759 \r\nL 3109 2759 \r\nL 3109 2228 \r\nL 1259 2228 \r\nL 1259 0 \r\nL 628 0 \r\nL 628 4666 \r\nz\r\n\" id=\"DejaVuSans-46\" transform=\"scale(0.015625)\"/>\r\n       </defs>\r\n       <use xlink:href=\"#DejaVuSans-20\"/>\r\n       <use x=\"31.787109\" xlink:href=\"#DejaVuSans-44\"/>\r\n       <use x=\"108.789062\" xlink:href=\"#DejaVuSans-46\"/>\r\n      </g>\r\n     </g>\r\n    </g>\r\n    <g id=\"xtick_8\">\r\n     <g id=\"line2d_8\">\r\n      <g>\r\n       <use style=\"stroke:#000000;stroke-width:0.8;\" x=\"250.892775\" xlink:href=\"#m2978c6d0f1\" y=\"348.958125\"/>\r\n      </g>\r\n     </g>\r\n     <g id=\"text_8\">\r\n      <!--  ES -->\r\n      <g transform=\"translate(242.970119 363.556562)scale(0.1 -0.1)\">\r\n       <defs>\r\n        <path d=\"M 3425 4513 \r\nL 3425 3897 \r\nQ 3066 4069 2747 4153 \r\nQ 2428 4238 2131 4238 \r\nQ 1616 4238 1336 4038 \r\nQ 1056 3838 1056 3469 \r\nQ 1056 3159 1242 3001 \r\nQ 1428 2844 1947 2747 \r\nL 2328 2669 \r\nQ 3034 2534 3370 2195 \r\nQ 3706 1856 3706 1288 \r\nQ 3706 609 3251 259 \r\nQ 2797 -91 1919 -91 \r\nQ 1588 -91 1214 -16 \r\nQ 841 59 441 206 \r\nL 441 856 \r\nQ 825 641 1194 531 \r\nQ 1563 422 1919 422 \r\nQ 2459 422 2753 634 \r\nQ 3047 847 3047 1241 \r\nQ 3047 1584 2836 1778 \r\nQ 2625 1972 2144 2069 \r\nL 1759 2144 \r\nQ 1053 2284 737 2584 \r\nQ 422 2884 422 3419 \r\nQ 422 4038 858 4394 \r\nQ 1294 4750 2059 4750 \r\nQ 2388 4750 2728 4690 \r\nQ 3069 4631 3425 4513 \r\nz\r\n\" id=\"DejaVuSans-53\" transform=\"scale(0.015625)\"/>\r\n       </defs>\r\n       <use xlink:href=\"#DejaVuSans-20\"/>\r\n       <use x=\"31.787109\" xlink:href=\"#DejaVuSans-45\"/>\r\n       <use x=\"94.970703\" xlink:href=\"#DejaVuSans-53\"/>\r\n      </g>\r\n     </g>\r\n    </g>\r\n    <g id=\"xtick_9\">\r\n     <g id=\"line2d_9\">\r\n      <g>\r\n       <use style=\"stroke:#000000;stroke-width:0.8;\" x=\"273.606479\" xlink:href=\"#m2978c6d0f1\" y=\"348.958125\"/>\r\n      </g>\r\n     </g>\r\n     <g id=\"text_9\">\r\n      <!--  GO -->\r\n      <g transform=\"translate(264.20726 363.556562)scale(0.1 -0.1)\">\r\n       <defs>\r\n        <path d=\"M 3809 666 \r\nL 3809 1919 \r\nL 2778 1919 \r\nL 2778 2438 \r\nL 4434 2438 \r\nL 4434 434 \r\nQ 4069 175 3628 42 \r\nQ 3188 -91 2688 -91 \r\nQ 1594 -91 976 548 \r\nQ 359 1188 359 2328 \r\nQ 359 3472 976 4111 \r\nQ 1594 4750 2688 4750 \r\nQ 3144 4750 3555 4637 \r\nQ 3966 4525 4313 4306 \r\nL 4313 3634 \r\nQ 3963 3931 3569 4081 \r\nQ 3175 4231 2741 4231 \r\nQ 1884 4231 1454 3753 \r\nQ 1025 3275 1025 2328 \r\nQ 1025 1384 1454 906 \r\nQ 1884 428 2741 428 \r\nQ 3075 428 3337 486 \r\nQ 3600 544 3809 666 \r\nz\r\n\" id=\"DejaVuSans-47\" transform=\"scale(0.015625)\"/>\r\n        <path d=\"M 2522 4238 \r\nQ 1834 4238 1429 3725 \r\nQ 1025 3213 1025 2328 \r\nQ 1025 1447 1429 934 \r\nQ 1834 422 2522 422 \r\nQ 3209 422 3611 934 \r\nQ 4013 1447 4013 2328 \r\nQ 4013 3213 3611 3725 \r\nQ 3209 4238 2522 4238 \r\nz\r\nM 2522 4750 \r\nQ 3503 4750 4090 4092 \r\nQ 4678 3434 4678 2328 \r\nQ 4678 1225 4090 567 \r\nQ 3503 -91 2522 -91 \r\nQ 1538 -91 948 565 \r\nQ 359 1222 359 2328 \r\nQ 359 3434 948 4092 \r\nQ 1538 4750 2522 4750 \r\nz\r\n\" id=\"DejaVuSans-4f\" transform=\"scale(0.015625)\"/>\r\n       </defs>\r\n       <use xlink:href=\"#DejaVuSans-20\"/>\r\n       <use x=\"31.787109\" xlink:href=\"#DejaVuSans-47\"/>\r\n       <use x=\"109.277344\" xlink:href=\"#DejaVuSans-4f\"/>\r\n      </g>\r\n     </g>\r\n    </g>\r\n    <g id=\"xtick_10\">\r\n     <g id=\"line2d_10\">\r\n      <g>\r\n       <use style=\"stroke:#000000;stroke-width:0.8;\" x=\"296.320183\" xlink:href=\"#m2978c6d0f1\" y=\"348.958125\"/>\r\n      </g>\r\n     </g>\r\n     <g id=\"text_10\">\r\n      <!--  MA -->\r\n      <g transform=\"translate(286.996746 363.556562)scale(0.1 -0.1)\">\r\n       <use xlink:href=\"#DejaVuSans-20\"/>\r\n       <use x=\"31.787109\" xlink:href=\"#DejaVuSans-4d\"/>\r\n       <use x=\"118.066406\" xlink:href=\"#DejaVuSans-41\"/>\r\n      </g>\r\n     </g>\r\n    </g>\r\n    <g id=\"xtick_11\">\r\n     <g id=\"line2d_11\">\r\n      <g>\r\n       <use style=\"stroke:#000000;stroke-width:0.8;\" x=\"319.033887\" xlink:href=\"#m2978c6d0f1\" y=\"348.958125\"/>\r\n      </g>\r\n     </g>\r\n     <g id=\"text_11\">\r\n      <!--  MG -->\r\n      <g transform=\"translate(309.256544 363.556562)scale(0.1 -0.1)\">\r\n       <use xlink:href=\"#DejaVuSans-20\"/>\r\n       <use x=\"31.787109\" xlink:href=\"#DejaVuSans-4d\"/>\r\n       <use x=\"118.066406\" xlink:href=\"#DejaVuSans-47\"/>\r\n      </g>\r\n     </g>\r\n    </g>\r\n    <g id=\"xtick_12\">\r\n     <g id=\"line2d_12\">\r\n      <g>\r\n       <use style=\"stroke:#000000;stroke-width:0.8;\" x=\"341.747592\" xlink:href=\"#m2978c6d0f1\" y=\"348.958125\"/>\r\n      </g>\r\n     </g>\r\n     <g id=\"text_12\">\r\n      <!--  MS -->\r\n      <g transform=\"translate(332.670248 363.556562)scale(0.1 -0.1)\">\r\n       <use xlink:href=\"#DejaVuSans-20\"/>\r\n       <use x=\"31.787109\" xlink:href=\"#DejaVuSans-4d\"/>\r\n       <use x=\"118.066406\" xlink:href=\"#DejaVuSans-53\"/>\r\n      </g>\r\n     </g>\r\n    </g>\r\n    <g id=\"xtick_13\">\r\n     <g id=\"line2d_13\">\r\n      <g>\r\n       <use style=\"stroke:#000000;stroke-width:0.8;\" x=\"364.461296\" xlink:href=\"#m2978c6d0f1\" y=\"348.958125\"/>\r\n      </g>\r\n     </g>\r\n     <g id=\"text_13\">\r\n      <!--  MT -->\r\n      <g transform=\"translate(355.504265 363.556562)scale(0.1 -0.1)\">\r\n       <defs>\r\n        <path d=\"M -19 4666 \r\nL 3928 4666 \r\nL 3928 4134 \r\nL 2272 4134 \r\nL 2272 0 \r\nL 1638 0 \r\nL 1638 4134 \r\nL -19 4134 \r\nL -19 4666 \r\nz\r\n\" id=\"DejaVuSans-54\" transform=\"scale(0.015625)\"/>\r\n       </defs>\r\n       <use xlink:href=\"#DejaVuSans-20\"/>\r\n       <use x=\"31.787109\" xlink:href=\"#DejaVuSans-4d\"/>\r\n       <use x=\"118.066406\" xlink:href=\"#DejaVuSans-54\"/>\r\n      </g>\r\n     </g>\r\n    </g>\r\n    <g id=\"xtick_14\">\r\n     <g id=\"line2d_14\">\r\n      <g>\r\n       <use style=\"stroke:#000000;stroke-width:0.8;\" x=\"387.175\" xlink:href=\"#m2978c6d0f1\" y=\"348.958125\"/>\r\n      </g>\r\n     </g>\r\n     <g id=\"text_14\">\r\n      <!--  PA -->\r\n      <g transform=\"translate(379.469531 363.556562)scale(0.1 -0.1)\">\r\n       <use xlink:href=\"#DejaVuSans-20\"/>\r\n       <use x=\"31.787109\" xlink:href=\"#DejaVuSans-50\"/>\r\n       <use x=\"85.714844\" xlink:href=\"#DejaVuSans-41\"/>\r\n      </g>\r\n     </g>\r\n    </g>\r\n    <g id=\"xtick_15\">\r\n     <g id=\"line2d_15\">\r\n      <g>\r\n       <use style=\"stroke:#000000;stroke-width:0.8;\" x=\"409.888704\" xlink:href=\"#m2978c6d0f1\" y=\"348.958125\"/>\r\n      </g>\r\n     </g>\r\n     <g id=\"text_15\">\r\n      <!--  PB -->\r\n      <g transform=\"translate(401.854329 363.556562)scale(0.1 -0.1)\">\r\n       <use xlink:href=\"#DejaVuSans-20\"/>\r\n       <use x=\"31.787109\" xlink:href=\"#DejaVuSans-50\"/>\r\n       <use x=\"92.089844\" xlink:href=\"#DejaVuSans-42\"/>\r\n      </g>\r\n     </g>\r\n    </g>\r\n    <g id=\"xtick_16\">\r\n     <g id=\"line2d_16\">\r\n      <g>\r\n       <use style=\"stroke:#000000;stroke-width:0.8;\" x=\"432.602408\" xlink:href=\"#m2978c6d0f1\" y=\"348.958125\"/>\r\n      </g>\r\n     </g>\r\n     <g id=\"text_16\">\r\n      <!--  PE -->\r\n      <g transform=\"translate(424.839127 363.556562)scale(0.1 -0.1)\">\r\n       <use xlink:href=\"#DejaVuSans-20\"/>\r\n       <use x=\"31.787109\" xlink:href=\"#DejaVuSans-50\"/>\r\n       <use x=\"92.089844\" xlink:href=\"#DejaVuSans-45\"/>\r\n      </g>\r\n     </g>\r\n    </g>\r\n    <g id=\"xtick_17\">\r\n     <g id=\"line2d_17\">\r\n      <g>\r\n       <use style=\"stroke:#000000;stroke-width:0.8;\" x=\"455.316113\" xlink:href=\"#m2978c6d0f1\" y=\"348.958125\"/>\r\n      </g>\r\n     </g>\r\n     <g id=\"text_17\">\r\n      <!--  PI -->\r\n      <g transform=\"translate(449.237206 363.556562)scale(0.1 -0.1)\">\r\n       <defs>\r\n        <path d=\"M 628 4666 \r\nL 1259 4666 \r\nL 1259 0 \r\nL 628 0 \r\nL 628 4666 \r\nz\r\n\" id=\"DejaVuSans-49\" transform=\"scale(0.015625)\"/>\r\n       </defs>\r\n       <use xlink:href=\"#DejaVuSans-20\"/>\r\n       <use x=\"31.787109\" xlink:href=\"#DejaVuSans-50\"/>\r\n       <use x=\"92.089844\" xlink:href=\"#DejaVuSans-49\"/>\r\n      </g>\r\n     </g>\r\n    </g>\r\n    <g id=\"xtick_18\">\r\n     <g id=\"line2d_18\">\r\n      <g>\r\n       <use style=\"stroke:#000000;stroke-width:0.8;\" x=\"478.029817\" xlink:href=\"#m2978c6d0f1\" y=\"348.958125\"/>\r\n      </g>\r\n     </g>\r\n     <g id=\"text_18\">\r\n      <!--  PR -->\r\n      <g transform=\"translate(469.951692 363.556562)scale(0.1 -0.1)\">\r\n       <defs>\r\n        <path d=\"M 2841 2188 \r\nQ 3044 2119 3236 1894 \r\nQ 3428 1669 3622 1275 \r\nL 4263 0 \r\nL 3584 0 \r\nL 2988 1197 \r\nQ 2756 1666 2539 1819 \r\nQ 2322 1972 1947 1972 \r\nL 1259 1972 \r\nL 1259 0 \r\nL 628 0 \r\nL 628 4666 \r\nL 2053 4666 \r\nQ 2853 4666 3247 4331 \r\nQ 3641 3997 3641 3322 \r\nQ 3641 2881 3436 2590 \r\nQ 3231 2300 2841 2188 \r\nz\r\nM 1259 4147 \r\nL 1259 2491 \r\nL 2053 2491 \r\nQ 2509 2491 2742 2702 \r\nQ 2975 2913 2975 3322 \r\nQ 2975 3731 2742 3939 \r\nQ 2509 4147 2053 4147 \r\nL 1259 4147 \r\nz\r\n\" id=\"DejaVuSans-52\" transform=\"scale(0.015625)\"/>\r\n       </defs>\r\n       <use xlink:href=\"#DejaVuSans-20\"/>\r\n       <use x=\"31.787109\" xlink:href=\"#DejaVuSans-50\"/>\r\n       <use x=\"92.089844\" xlink:href=\"#DejaVuSans-52\"/>\r\n      </g>\r\n     </g>\r\n    </g>\r\n    <g id=\"xtick_19\">\r\n     <g id=\"line2d_19\">\r\n      <g>\r\n       <use style=\"stroke:#000000;stroke-width:0.8;\" x=\"500.743521\" xlink:href=\"#m2978c6d0f1\" y=\"348.958125\"/>\r\n      </g>\r\n     </g>\r\n     <g id=\"text_19\">\r\n      <!--  RJ -->\r\n      <g transform=\"translate(494.20524 363.556562)scale(0.1 -0.1)\">\r\n       <defs>\r\n        <path d=\"M 628 4666 \r\nL 1259 4666 \r\nL 1259 325 \r\nQ 1259 -519 939 -900 \r\nQ 619 -1281 -91 -1281 \r\nL -331 -1281 \r\nL -331 -750 \r\nL -134 -750 \r\nQ 284 -750 456 -515 \r\nQ 628 -281 628 325 \r\nL 628 4666 \r\nz\r\n\" id=\"DejaVuSans-4a\" transform=\"scale(0.015625)\"/>\r\n       </defs>\r\n       <use xlink:href=\"#DejaVuSans-20\"/>\r\n       <use x=\"31.787109\" xlink:href=\"#DejaVuSans-52\"/>\r\n       <use x=\"101.269531\" xlink:href=\"#DejaVuSans-4a\"/>\r\n      </g>\r\n     </g>\r\n    </g>\r\n    <g id=\"xtick_20\">\r\n     <g id=\"line2d_20\">\r\n      <g>\r\n       <use style=\"stroke:#000000;stroke-width:0.8;\" x=\"523.457225\" xlink:href=\"#m2978c6d0f1\" y=\"348.958125\"/>\r\n      </g>\r\n     </g>\r\n     <g id=\"text_20\">\r\n      <!--  RN -->\r\n      <g transform=\"translate(514.653319 363.556562)scale(0.1 -0.1)\">\r\n       <defs>\r\n        <path d=\"M 628 4666 \r\nL 1478 4666 \r\nL 3547 763 \r\nL 3547 4666 \r\nL 4159 4666 \r\nL 4159 0 \r\nL 3309 0 \r\nL 1241 3903 \r\nL 1241 0 \r\nL 628 0 \r\nL 628 4666 \r\nz\r\n\" id=\"DejaVuSans-4e\" transform=\"scale(0.015625)\"/>\r\n       </defs>\r\n       <use xlink:href=\"#DejaVuSans-20\"/>\r\n       <use x=\"31.787109\" xlink:href=\"#DejaVuSans-52\"/>\r\n       <use x=\"101.269531\" xlink:href=\"#DejaVuSans-4e\"/>\r\n      </g>\r\n     </g>\r\n    </g>\r\n    <g id=\"xtick_21\">\r\n     <g id=\"line2d_21\">\r\n      <g>\r\n       <use style=\"stroke:#000000;stroke-width:0.8;\" x=\"546.170929\" xlink:href=\"#m2978c6d0f1\" y=\"348.958125\"/>\r\n      </g>\r\n     </g>\r\n     <g id=\"text_21\">\r\n      <!--  RO -->\r\n      <g transform=\"translate(537.171711 363.556562)scale(0.1 -0.1)\">\r\n       <use xlink:href=\"#DejaVuSans-20\"/>\r\n       <use x=\"31.787109\" xlink:href=\"#DejaVuSans-52\"/>\r\n       <use x=\"101.269531\" xlink:href=\"#DejaVuSans-4f\"/>\r\n      </g>\r\n     </g>\r\n    </g>\r\n    <g id=\"xtick_22\">\r\n     <g id=\"line2d_22\">\r\n      <g>\r\n       <use style=\"stroke:#000000;stroke-width:0.8;\" x=\"568.884634\" xlink:href=\"#m2978c6d0f1\" y=\"348.958125\"/>\r\n      </g>\r\n     </g>\r\n     <g id=\"text_22\">\r\n      <!--  RR -->\r\n      <g transform=\"translate(560.347134 363.556562)scale(0.1 -0.1)\">\r\n       <use xlink:href=\"#DejaVuSans-20\"/>\r\n       <use x=\"31.787109\" xlink:href=\"#DejaVuSans-52\"/>\r\n       <use x=\"101.269531\" xlink:href=\"#DejaVuSans-52\"/>\r\n      </g>\r\n     </g>\r\n    </g>\r\n    <g id=\"xtick_23\">\r\n     <g id=\"line2d_23\">\r\n      <g>\r\n       <use style=\"stroke:#000000;stroke-width:0.8;\" x=\"591.598338\" xlink:href=\"#m2978c6d0f1\" y=\"348.958125\"/>\r\n      </g>\r\n     </g>\r\n     <g id=\"text_23\">\r\n      <!--  RS -->\r\n      <g transform=\"translate(583.360838 363.556562)scale(0.1 -0.1)\">\r\n       <use xlink:href=\"#DejaVuSans-20\"/>\r\n       <use x=\"31.787109\" xlink:href=\"#DejaVuSans-52\"/>\r\n       <use x=\"101.269531\" xlink:href=\"#DejaVuSans-53\"/>\r\n      </g>\r\n     </g>\r\n    </g>\r\n    <g id=\"xtick_24\">\r\n     <g id=\"line2d_24\">\r\n      <g>\r\n       <use style=\"stroke:#000000;stroke-width:0.8;\" x=\"614.312042\" xlink:href=\"#m2978c6d0f1\" y=\"348.958125\"/>\r\n      </g>\r\n     </g>\r\n     <g id=\"text_24\">\r\n      <!--  SC -->\r\n      <g transform=\"translate(606.057355 363.556562)scale(0.1 -0.1)\">\r\n       <use xlink:href=\"#DejaVuSans-20\"/>\r\n       <use x=\"31.787109\" xlink:href=\"#DejaVuSans-53\"/>\r\n       <use x=\"95.263672\" xlink:href=\"#DejaVuSans-43\"/>\r\n      </g>\r\n     </g>\r\n    </g>\r\n    <g id=\"xtick_25\">\r\n     <g id=\"line2d_25\">\r\n      <g>\r\n       <use style=\"stroke:#000000;stroke-width:0.8;\" x=\"637.025746\" xlink:href=\"#m2978c6d0f1\" y=\"348.958125\"/>\r\n      </g>\r\n     </g>\r\n     <g id=\"text_25\">\r\n      <!--  SE -->\r\n      <g transform=\"translate(629.10309 363.556562)scale(0.1 -0.1)\">\r\n       <use xlink:href=\"#DejaVuSans-20\"/>\r\n       <use x=\"31.787109\" xlink:href=\"#DejaVuSans-53\"/>\r\n       <use x=\"95.263672\" xlink:href=\"#DejaVuSans-45\"/>\r\n      </g>\r\n     </g>\r\n    </g>\r\n    <g id=\"xtick_26\">\r\n     <g id=\"line2d_26\">\r\n      <g>\r\n       <use style=\"stroke:#000000;stroke-width:0.8;\" x=\"659.73945\" xlink:href=\"#m2978c6d0f1\" y=\"348.958125\"/>\r\n      </g>\r\n     </g>\r\n     <g id=\"text_26\">\r\n      <!--  SP -->\r\n      <g transform=\"translate(651.961325 363.556562)scale(0.1 -0.1)\">\r\n       <use xlink:href=\"#DejaVuSans-20\"/>\r\n       <use x=\"31.787109\" xlink:href=\"#DejaVuSans-53\"/>\r\n       <use x=\"95.263672\" xlink:href=\"#DejaVuSans-50\"/>\r\n      </g>\r\n     </g>\r\n    </g>\r\n    <g id=\"xtick_27\">\r\n     <g id=\"line2d_27\">\r\n      <g>\r\n       <use style=\"stroke:#000000;stroke-width:0.8;\" x=\"682.453155\" xlink:href=\"#m2978c6d0f1\" y=\"348.958125\"/>\r\n      </g>\r\n     </g>\r\n     <g id=\"text_27\">\r\n      <!--  TO -->\r\n      <g transform=\"translate(673.874248 363.556562)scale(0.1 -0.1)\">\r\n       <use xlink:href=\"#DejaVuSans-20\"/>\r\n       <use x=\"31.787109\" xlink:href=\"#DejaVuSans-54\"/>\r\n       <use x=\"92.871094\" xlink:href=\"#DejaVuSans-4f\"/>\r\n      </g>\r\n     </g>\r\n    </g>\r\n   </g>\r\n   <g id=\"matplotlib.axis_2\">\r\n    <g id=\"ytick_1\">\r\n     <g id=\"line2d_28\">\r\n      <defs>\r\n       <path d=\"M 0 0 \r\nL -3.5 0 \r\n\" id=\"me902b2b92c\" style=\"stroke:#000000;stroke-width:0.8;\"/>\r\n      </defs>\r\n      <g>\r\n       <use style=\"stroke:#000000;stroke-width:0.8;\" x=\"52.375\" xlink:href=\"#me902b2b92c\" y=\"348.958125\"/>\r\n      </g>\r\n     </g>\r\n     <g id=\"text_28\">\r\n      <!-- 0 -->\r\n      <g transform=\"translate(39.0125 352.757344)scale(0.1 -0.1)\">\r\n       <defs>\r\n        <path d=\"M 2034 4250 \r\nQ 1547 4250 1301 3770 \r\nQ 1056 3291 1056 2328 \r\nQ 1056 1369 1301 889 \r\nQ 1547 409 2034 409 \r\nQ 2525 409 2770 889 \r\nQ 3016 1369 3016 2328 \r\nQ 3016 3291 2770 3770 \r\nQ 2525 4250 2034 4250 \r\nz\r\nM 2034 4750 \r\nQ 2819 4750 3233 4129 \r\nQ 3647 3509 3647 2328 \r\nQ 3647 1150 3233 529 \r\nQ 2819 -91 2034 -91 \r\nQ 1250 -91 836 529 \r\nQ 422 1150 422 2328 \r\nQ 422 3509 836 4129 \r\nQ 1250 4750 2034 4750 \r\nz\r\n\" id=\"DejaVuSans-30\" transform=\"scale(0.015625)\"/>\r\n       </defs>\r\n       <use xlink:href=\"#DejaVuSans-30\"/>\r\n      </g>\r\n     </g>\r\n    </g>\r\n    <g id=\"ytick_2\">\r\n     <g id=\"line2d_29\">\r\n      <g>\r\n       <use style=\"stroke:#000000;stroke-width:0.8;\" x=\"52.375\" xlink:href=\"#me902b2b92c\" y=\"277.505565\"/>\r\n      </g>\r\n     </g>\r\n     <g id=\"text_29\">\r\n      <!-- 100000 -->\r\n      <g transform=\"translate(7.2 281.304784)scale(0.1 -0.1)\">\r\n       <defs>\r\n        <path d=\"M 794 531 \r\nL 1825 531 \r\nL 1825 4091 \r\nL 703 3866 \r\nL 703 4441 \r\nL 1819 4666 \r\nL 2450 4666 \r\nL 2450 531 \r\nL 3481 531 \r\nL 3481 0 \r\nL 794 0 \r\nL 794 531 \r\nz\r\n\" id=\"DejaVuSans-31\" transform=\"scale(0.015625)\"/>\r\n       </defs>\r\n       <use xlink:href=\"#DejaVuSans-31\"/>\r\n       <use x=\"63.623047\" xlink:href=\"#DejaVuSans-30\"/>\r\n       <use x=\"127.246094\" xlink:href=\"#DejaVuSans-30\"/>\r\n       <use x=\"190.869141\" xlink:href=\"#DejaVuSans-30\"/>\r\n       <use x=\"254.492188\" xlink:href=\"#DejaVuSans-30\"/>\r\n       <use x=\"318.115234\" xlink:href=\"#DejaVuSans-30\"/>\r\n      </g>\r\n     </g>\r\n    </g>\r\n    <g id=\"ytick_3\">\r\n     <g id=\"line2d_30\">\r\n      <g>\r\n       <use style=\"stroke:#000000;stroke-width:0.8;\" x=\"52.375\" xlink:href=\"#me902b2b92c\" y=\"206.053005\"/>\r\n      </g>\r\n     </g>\r\n     <g id=\"text_30\">\r\n      <!-- 200000 -->\r\n      <g transform=\"translate(7.2 209.852224)scale(0.1 -0.1)\">\r\n       <defs>\r\n        <path d=\"M 1228 531 \r\nL 3431 531 \r\nL 3431 0 \r\nL 469 0 \r\nL 469 531 \r\nQ 828 903 1448 1529 \r\nQ 2069 2156 2228 2338 \r\nQ 2531 2678 2651 2914 \r\nQ 2772 3150 2772 3378 \r\nQ 2772 3750 2511 3984 \r\nQ 2250 4219 1831 4219 \r\nQ 1534 4219 1204 4116 \r\nQ 875 4013 500 3803 \r\nL 500 4441 \r\nQ 881 4594 1212 4672 \r\nQ 1544 4750 1819 4750 \r\nQ 2544 4750 2975 4387 \r\nQ 3406 4025 3406 3419 \r\nQ 3406 3131 3298 2873 \r\nQ 3191 2616 2906 2266 \r\nQ 2828 2175 2409 1742 \r\nQ 1991 1309 1228 531 \r\nz\r\n\" id=\"DejaVuSans-32\" transform=\"scale(0.015625)\"/>\r\n       </defs>\r\n       <use xlink:href=\"#DejaVuSans-32\"/>\r\n       <use x=\"63.623047\" xlink:href=\"#DejaVuSans-30\"/>\r\n       <use x=\"127.246094\" xlink:href=\"#DejaVuSans-30\"/>\r\n       <use x=\"190.869141\" xlink:href=\"#DejaVuSans-30\"/>\r\n       <use x=\"254.492188\" xlink:href=\"#DejaVuSans-30\"/>\r\n       <use x=\"318.115234\" xlink:href=\"#DejaVuSans-30\"/>\r\n      </g>\r\n     </g>\r\n    </g>\r\n    <g id=\"ytick_4\">\r\n     <g id=\"line2d_31\">\r\n      <g>\r\n       <use style=\"stroke:#000000;stroke-width:0.8;\" x=\"52.375\" xlink:href=\"#me902b2b92c\" y=\"134.600446\"/>\r\n      </g>\r\n     </g>\r\n     <g id=\"text_31\">\r\n      <!-- 300000 -->\r\n      <g transform=\"translate(7.2 138.399664)scale(0.1 -0.1)\">\r\n       <defs>\r\n        <path d=\"M 2597 2516 \r\nQ 3050 2419 3304 2112 \r\nQ 3559 1806 3559 1356 \r\nQ 3559 666 3084 287 \r\nQ 2609 -91 1734 -91 \r\nQ 1441 -91 1130 -33 \r\nQ 819 25 488 141 \r\nL 488 750 \r\nQ 750 597 1062 519 \r\nQ 1375 441 1716 441 \r\nQ 2309 441 2620 675 \r\nQ 2931 909 2931 1356 \r\nQ 2931 1769 2642 2001 \r\nQ 2353 2234 1838 2234 \r\nL 1294 2234 \r\nL 1294 2753 \r\nL 1863 2753 \r\nQ 2328 2753 2575 2939 \r\nQ 2822 3125 2822 3475 \r\nQ 2822 3834 2567 4026 \r\nQ 2313 4219 1838 4219 \r\nQ 1578 4219 1281 4162 \r\nQ 984 4106 628 3988 \r\nL 628 4550 \r\nQ 988 4650 1302 4700 \r\nQ 1616 4750 1894 4750 \r\nQ 2613 4750 3031 4423 \r\nQ 3450 4097 3450 3541 \r\nQ 3450 3153 3228 2886 \r\nQ 3006 2619 2597 2516 \r\nz\r\n\" id=\"DejaVuSans-33\" transform=\"scale(0.015625)\"/>\r\n       </defs>\r\n       <use xlink:href=\"#DejaVuSans-33\"/>\r\n       <use x=\"63.623047\" xlink:href=\"#DejaVuSans-30\"/>\r\n       <use x=\"127.246094\" xlink:href=\"#DejaVuSans-30\"/>\r\n       <use x=\"190.869141\" xlink:href=\"#DejaVuSans-30\"/>\r\n       <use x=\"254.492188\" xlink:href=\"#DejaVuSans-30\"/>\r\n       <use x=\"318.115234\" xlink:href=\"#DejaVuSans-30\"/>\r\n      </g>\r\n     </g>\r\n    </g>\r\n    <g id=\"ytick_5\">\r\n     <g id=\"line2d_32\">\r\n      <g>\r\n       <use style=\"stroke:#000000;stroke-width:0.8;\" x=\"52.375\" xlink:href=\"#me902b2b92c\" y=\"63.147886\"/>\r\n      </g>\r\n     </g>\r\n     <g id=\"text_32\">\r\n      <!-- 400000 -->\r\n      <g transform=\"translate(7.2 66.947104)scale(0.1 -0.1)\">\r\n       <defs>\r\n        <path d=\"M 2419 4116 \r\nL 825 1625 \r\nL 2419 1625 \r\nL 2419 4116 \r\nz\r\nM 2253 4666 \r\nL 3047 4666 \r\nL 3047 1625 \r\nL 3713 1625 \r\nL 3713 1100 \r\nL 3047 1100 \r\nL 3047 0 \r\nL 2419 0 \r\nL 2419 1100 \r\nL 313 1100 \r\nL 313 1709 \r\nL 2253 4666 \r\nz\r\n\" id=\"DejaVuSans-34\" transform=\"scale(0.015625)\"/>\r\n       </defs>\r\n       <use xlink:href=\"#DejaVuSans-34\"/>\r\n       <use x=\"63.623047\" xlink:href=\"#DejaVuSans-30\"/>\r\n       <use x=\"127.246094\" xlink:href=\"#DejaVuSans-30\"/>\r\n       <use x=\"190.869141\" xlink:href=\"#DejaVuSans-30\"/>\r\n       <use x=\"254.492188\" xlink:href=\"#DejaVuSans-30\"/>\r\n       <use x=\"318.115234\" xlink:href=\"#DejaVuSans-30\"/>\r\n      </g>\r\n     </g>\r\n    </g>\r\n   </g>\r\n   <g id=\"patch_30\">\r\n    <path d=\"M 52.375 348.958125 \r\nL 52.375 22.798125 \r\n\" style=\"fill:none;stroke:#000000;stroke-linecap:square;stroke-linejoin:miter;stroke-width:0.8;\"/>\r\n   </g>\r\n   <g id=\"patch_31\">\r\n    <path d=\"M 721.975 348.958125 \r\nL 721.975 22.798125 \r\n\" style=\"fill:none;stroke:#000000;stroke-linecap:square;stroke-linejoin:miter;stroke-width:0.8;\"/>\r\n   </g>\r\n   <g id=\"patch_32\">\r\n    <path d=\"M 52.375 348.958125 \r\nL 721.975 348.958125 \r\n\" style=\"fill:none;stroke:#000000;stroke-linecap:square;stroke-linejoin:miter;stroke-width:0.8;\"/>\r\n   </g>\r\n   <g id=\"patch_33\">\r\n    <path d=\"M 52.375 22.798125 \r\nL 721.975 22.798125 \r\n\" style=\"fill:none;stroke:#000000;stroke-linecap:square;stroke-linejoin:miter;stroke-width:0.8;\"/>\r\n   </g>\r\n   <g id=\"text_33\">\r\n    <!-- Número de financiamentos por estado -->\r\n    <g transform=\"translate(271.750938 16.798125)scale(0.12 -0.12)\">\r\n     <defs>\r\n      <path d=\"M 544 1381 \r\nL 544 3500 \r\nL 1119 3500 \r\nL 1119 1403 \r\nQ 1119 906 1312 657 \r\nQ 1506 409 1894 409 \r\nQ 2359 409 2629 706 \r\nQ 2900 1003 2900 1516 \r\nL 2900 3500 \r\nL 3475 3500 \r\nL 3475 0 \r\nL 2900 0 \r\nL 2900 538 \r\nQ 2691 219 2414 64 \r\nQ 2138 -91 1772 -91 \r\nQ 1169 -91 856 284 \r\nQ 544 659 544 1381 \r\nz\r\nM 1991 3584 \r\nL 1991 3584 \r\nz\r\nM 2418 5119 \r\nL 3040 5119 \r\nL 2022 3944 \r\nL 1543 3944 \r\nL 2418 5119 \r\nz\r\n\" id=\"DejaVuSans-fa\" transform=\"scale(0.015625)\"/>\r\n      <path d=\"M 3328 2828 \r\nQ 3544 3216 3844 3400 \r\nQ 4144 3584 4550 3584 \r\nQ 5097 3584 5394 3201 \r\nQ 5691 2819 5691 2113 \r\nL 5691 0 \r\nL 5113 0 \r\nL 5113 2094 \r\nQ 5113 2597 4934 2840 \r\nQ 4756 3084 4391 3084 \r\nQ 3944 3084 3684 2787 \r\nQ 3425 2491 3425 1978 \r\nL 3425 0 \r\nL 2847 0 \r\nL 2847 2094 \r\nQ 2847 2600 2669 2842 \r\nQ 2491 3084 2119 3084 \r\nQ 1678 3084 1418 2786 \r\nQ 1159 2488 1159 1978 \r\nL 1159 0 \r\nL 581 0 \r\nL 581 3500 \r\nL 1159 3500 \r\nL 1159 2956 \r\nQ 1356 3278 1631 3431 \r\nQ 1906 3584 2284 3584 \r\nQ 2666 3584 2933 3390 \r\nQ 3200 3197 3328 2828 \r\nz\r\n\" id=\"DejaVuSans-6d\" transform=\"scale(0.015625)\"/>\r\n      <path d=\"M 3597 1894 \r\nL 3597 1613 \r\nL 953 1613 \r\nQ 991 1019 1311 708 \r\nQ 1631 397 2203 397 \r\nQ 2534 397 2845 478 \r\nQ 3156 559 3463 722 \r\nL 3463 178 \r\nQ 3153 47 2828 -22 \r\nQ 2503 -91 2169 -91 \r\nQ 1331 -91 842 396 \r\nQ 353 884 353 1716 \r\nQ 353 2575 817 3079 \r\nQ 1281 3584 2069 3584 \r\nQ 2775 3584 3186 3129 \r\nQ 3597 2675 3597 1894 \r\nz\r\nM 3022 2063 \r\nQ 3016 2534 2758 2815 \r\nQ 2500 3097 2075 3097 \r\nQ 1594 3097 1305 2825 \r\nQ 1016 2553 972 2059 \r\nL 3022 2063 \r\nz\r\n\" id=\"DejaVuSans-65\" transform=\"scale(0.015625)\"/>\r\n      <path d=\"M 2631 2963 \r\nQ 2534 3019 2420 3045 \r\nQ 2306 3072 2169 3072 \r\nQ 1681 3072 1420 2755 \r\nQ 1159 2438 1159 1844 \r\nL 1159 0 \r\nL 581 0 \r\nL 581 3500 \r\nL 1159 3500 \r\nL 1159 2956 \r\nQ 1341 3275 1631 3429 \r\nQ 1922 3584 2338 3584 \r\nQ 2397 3584 2469 3576 \r\nQ 2541 3569 2628 3553 \r\nL 2631 2963 \r\nz\r\n\" id=\"DejaVuSans-72\" transform=\"scale(0.015625)\"/>\r\n      <path d=\"M 1959 3097 \r\nQ 1497 3097 1228 2736 \r\nQ 959 2375 959 1747 \r\nQ 959 1119 1226 758 \r\nQ 1494 397 1959 397 \r\nQ 2419 397 2687 759 \r\nQ 2956 1122 2956 1747 \r\nQ 2956 2369 2687 2733 \r\nQ 2419 3097 1959 3097 \r\nz\r\nM 1959 3584 \r\nQ 2709 3584 3137 3096 \r\nQ 3566 2609 3566 1747 \r\nQ 3566 888 3137 398 \r\nQ 2709 -91 1959 -91 \r\nQ 1206 -91 779 398 \r\nQ 353 888 353 1747 \r\nQ 353 2609 779 3096 \r\nQ 1206 3584 1959 3584 \r\nz\r\n\" id=\"DejaVuSans-6f\" transform=\"scale(0.015625)\"/>\r\n      <path d=\"M 2906 2969 \r\nL 2906 4863 \r\nL 3481 4863 \r\nL 3481 0 \r\nL 2906 0 \r\nL 2906 525 \r\nQ 2725 213 2448 61 \r\nQ 2172 -91 1784 -91 \r\nQ 1150 -91 751 415 \r\nQ 353 922 353 1747 \r\nQ 353 2572 751 3078 \r\nQ 1150 3584 1784 3584 \r\nQ 2172 3584 2448 3432 \r\nQ 2725 3281 2906 2969 \r\nz\r\nM 947 1747 \r\nQ 947 1113 1208 752 \r\nQ 1469 391 1925 391 \r\nQ 2381 391 2643 752 \r\nQ 2906 1113 2906 1747 \r\nQ 2906 2381 2643 2742 \r\nQ 2381 3103 1925 3103 \r\nQ 1469 3103 1208 2742 \r\nQ 947 2381 947 1747 \r\nz\r\n\" id=\"DejaVuSans-64\" transform=\"scale(0.015625)\"/>\r\n      <path d=\"M 2375 4863 \r\nL 2375 4384 \r\nL 1825 4384 \r\nQ 1516 4384 1395 4259 \r\nQ 1275 4134 1275 3809 \r\nL 1275 3500 \r\nL 2222 3500 \r\nL 2222 3053 \r\nL 1275 3053 \r\nL 1275 0 \r\nL 697 0 \r\nL 697 3053 \r\nL 147 3053 \r\nL 147 3500 \r\nL 697 3500 \r\nL 697 3744 \r\nQ 697 4328 969 4595 \r\nQ 1241 4863 1831 4863 \r\nL 2375 4863 \r\nz\r\n\" id=\"DejaVuSans-66\" transform=\"scale(0.015625)\"/>\r\n      <path d=\"M 603 3500 \r\nL 1178 3500 \r\nL 1178 0 \r\nL 603 0 \r\nL 603 3500 \r\nz\r\nM 603 4863 \r\nL 1178 4863 \r\nL 1178 4134 \r\nL 603 4134 \r\nL 603 4863 \r\nz\r\n\" id=\"DejaVuSans-69\" transform=\"scale(0.015625)\"/>\r\n      <path d=\"M 3513 2113 \r\nL 3513 0 \r\nL 2938 0 \r\nL 2938 2094 \r\nQ 2938 2591 2744 2837 \r\nQ 2550 3084 2163 3084 \r\nQ 1697 3084 1428 2787 \r\nQ 1159 2491 1159 1978 \r\nL 1159 0 \r\nL 581 0 \r\nL 581 3500 \r\nL 1159 3500 \r\nL 1159 2956 \r\nQ 1366 3272 1645 3428 \r\nQ 1925 3584 2291 3584 \r\nQ 2894 3584 3203 3211 \r\nQ 3513 2838 3513 2113 \r\nz\r\n\" id=\"DejaVuSans-6e\" transform=\"scale(0.015625)\"/>\r\n      <path d=\"M 2194 1759 \r\nQ 1497 1759 1228 1600 \r\nQ 959 1441 959 1056 \r\nQ 959 750 1161 570 \r\nQ 1363 391 1709 391 \r\nQ 2188 391 2477 730 \r\nQ 2766 1069 2766 1631 \r\nL 2766 1759 \r\nL 2194 1759 \r\nz\r\nM 3341 1997 \r\nL 3341 0 \r\nL 2766 0 \r\nL 2766 531 \r\nQ 2569 213 2275 61 \r\nQ 1981 -91 1556 -91 \r\nQ 1019 -91 701 211 \r\nQ 384 513 384 1019 \r\nQ 384 1609 779 1909 \r\nQ 1175 2209 1959 2209 \r\nL 2766 2209 \r\nL 2766 2266 \r\nQ 2766 2663 2505 2880 \r\nQ 2244 3097 1772 3097 \r\nQ 1472 3097 1187 3025 \r\nQ 903 2953 641 2809 \r\nL 641 3341 \r\nQ 956 3463 1253 3523 \r\nQ 1550 3584 1831 3584 \r\nQ 2591 3584 2966 3190 \r\nQ 3341 2797 3341 1997 \r\nz\r\n\" id=\"DejaVuSans-61\" transform=\"scale(0.015625)\"/>\r\n      <path d=\"M 3122 3366 \r\nL 3122 2828 \r\nQ 2878 2963 2633 3030 \r\nQ 2388 3097 2138 3097 \r\nQ 1578 3097 1268 2742 \r\nQ 959 2388 959 1747 \r\nQ 959 1106 1268 751 \r\nQ 1578 397 2138 397 \r\nQ 2388 397 2633 464 \r\nQ 2878 531 3122 666 \r\nL 3122 134 \r\nQ 2881 22 2623 -34 \r\nQ 2366 -91 2075 -91 \r\nQ 1284 -91 818 406 \r\nQ 353 903 353 1747 \r\nQ 353 2603 823 3093 \r\nQ 1294 3584 2113 3584 \r\nQ 2378 3584 2631 3529 \r\nQ 2884 3475 3122 3366 \r\nz\r\n\" id=\"DejaVuSans-63\" transform=\"scale(0.015625)\"/>\r\n      <path d=\"M 1172 4494 \r\nL 1172 3500 \r\nL 2356 3500 \r\nL 2356 3053 \r\nL 1172 3053 \r\nL 1172 1153 \r\nQ 1172 725 1289 603 \r\nQ 1406 481 1766 481 \r\nL 2356 481 \r\nL 2356 0 \r\nL 1766 0 \r\nQ 1100 0 847 248 \r\nQ 594 497 594 1153 \r\nL 594 3053 \r\nL 172 3053 \r\nL 172 3500 \r\nL 594 3500 \r\nL 594 4494 \r\nL 1172 4494 \r\nz\r\n\" id=\"DejaVuSans-74\" transform=\"scale(0.015625)\"/>\r\n      <path d=\"M 2834 3397 \r\nL 2834 2853 \r\nQ 2591 2978 2328 3040 \r\nQ 2066 3103 1784 3103 \r\nQ 1356 3103 1142 2972 \r\nQ 928 2841 928 2578 \r\nQ 928 2378 1081 2264 \r\nQ 1234 2150 1697 2047 \r\nL 1894 2003 \r\nQ 2506 1872 2764 1633 \r\nQ 3022 1394 3022 966 \r\nQ 3022 478 2636 193 \r\nQ 2250 -91 1575 -91 \r\nQ 1294 -91 989 -36 \r\nQ 684 19 347 128 \r\nL 347 722 \r\nQ 666 556 975 473 \r\nQ 1284 391 1588 391 \r\nQ 1994 391 2212 530 \r\nQ 2431 669 2431 922 \r\nQ 2431 1156 2273 1281 \r\nQ 2116 1406 1581 1522 \r\nL 1381 1569 \r\nQ 847 1681 609 1914 \r\nQ 372 2147 372 2553 \r\nQ 372 3047 722 3315 \r\nQ 1072 3584 1716 3584 \r\nQ 2034 3584 2315 3537 \r\nQ 2597 3491 2834 3397 \r\nz\r\n\" id=\"DejaVuSans-73\" transform=\"scale(0.015625)\"/>\r\n      <path d=\"M 1159 525 \r\nL 1159 -1331 \r\nL 581 -1331 \r\nL 581 3500 \r\nL 1159 3500 \r\nL 1159 2969 \r\nQ 1341 3281 1617 3432 \r\nQ 1894 3584 2278 3584 \r\nQ 2916 3584 3314 3078 \r\nQ 3713 2572 3713 1747 \r\nQ 3713 922 3314 415 \r\nQ 2916 -91 2278 -91 \r\nQ 1894 -91 1617 61 \r\nQ 1341 213 1159 525 \r\nz\r\nM 3116 1747 \r\nQ 3116 2381 2855 2742 \r\nQ 2594 3103 2138 3103 \r\nQ 1681 3103 1420 2742 \r\nQ 1159 2381 1159 1747 \r\nQ 1159 1113 1420 752 \r\nQ 1681 391 2138 391 \r\nQ 2594 391 2855 752 \r\nQ 3116 1113 3116 1747 \r\nz\r\n\" id=\"DejaVuSans-70\" transform=\"scale(0.015625)\"/>\r\n     </defs>\r\n     <use xlink:href=\"#DejaVuSans-4e\"/>\r\n     <use x=\"74.804688\" xlink:href=\"#DejaVuSans-fa\"/>\r\n     <use x=\"138.183594\" xlink:href=\"#DejaVuSans-6d\"/>\r\n     <use x=\"235.595703\" xlink:href=\"#DejaVuSans-65\"/>\r\n     <use x=\"297.119141\" xlink:href=\"#DejaVuSans-72\"/>\r\n     <use x=\"335.982422\" xlink:href=\"#DejaVuSans-6f\"/>\r\n     <use x=\"397.164062\" xlink:href=\"#DejaVuSans-20\"/>\r\n     <use x=\"428.951172\" xlink:href=\"#DejaVuSans-64\"/>\r\n     <use x=\"492.427734\" xlink:href=\"#DejaVuSans-65\"/>\r\n     <use x=\"553.951172\" xlink:href=\"#DejaVuSans-20\"/>\r\n     <use x=\"585.738281\" xlink:href=\"#DejaVuSans-66\"/>\r\n     <use x=\"620.943359\" xlink:href=\"#DejaVuSans-69\"/>\r\n     <use x=\"648.726562\" xlink:href=\"#DejaVuSans-6e\"/>\r\n     <use x=\"712.105469\" xlink:href=\"#DejaVuSans-61\"/>\r\n     <use x=\"773.384766\" xlink:href=\"#DejaVuSans-6e\"/>\r\n     <use x=\"836.763672\" xlink:href=\"#DejaVuSans-63\"/>\r\n     <use x=\"891.744141\" xlink:href=\"#DejaVuSans-69\"/>\r\n     <use x=\"919.527344\" xlink:href=\"#DejaVuSans-61\"/>\r\n     <use x=\"980.806641\" xlink:href=\"#DejaVuSans-6d\"/>\r\n     <use x=\"1078.21875\" xlink:href=\"#DejaVuSans-65\"/>\r\n     <use x=\"1139.742188\" xlink:href=\"#DejaVuSans-6e\"/>\r\n     <use x=\"1203.121094\" xlink:href=\"#DejaVuSans-74\"/>\r\n     <use x=\"1242.330078\" xlink:href=\"#DejaVuSans-6f\"/>\r\n     <use x=\"1303.511719\" xlink:href=\"#DejaVuSans-73\"/>\r\n     <use x=\"1355.611328\" xlink:href=\"#DejaVuSans-20\"/>\r\n     <use x=\"1387.398438\" xlink:href=\"#DejaVuSans-70\"/>\r\n     <use x=\"1450.875\" xlink:href=\"#DejaVuSans-6f\"/>\r\n     <use x=\"1512.056641\" xlink:href=\"#DejaVuSans-72\"/>\r\n     <use x=\"1553.169922\" xlink:href=\"#DejaVuSans-20\"/>\r\n     <use x=\"1584.957031\" xlink:href=\"#DejaVuSans-65\"/>\r\n     <use x=\"1646.480469\" xlink:href=\"#DejaVuSans-73\"/>\r\n     <use x=\"1698.580078\" xlink:href=\"#DejaVuSans-74\"/>\r\n     <use x=\"1737.789062\" xlink:href=\"#DejaVuSans-61\"/>\r\n     <use x=\"1799.068359\" xlink:href=\"#DejaVuSans-64\"/>\r\n     <use x=\"1862.544922\" xlink:href=\"#DejaVuSans-6f\"/>\r\n    </g>\r\n   </g>\r\n  </g>\r\n  <g id=\"axes_2\">\r\n   <g id=\"patch_34\">\r\n    <path d=\"M 763.825 348.958125 \r\nL 780.133 348.958125 \r\nL 780.133 22.798125 \r\nL 763.825 22.798125 \r\nz\r\n\" style=\"fill:#ffffff;\"/>\r\n   </g>\r\n   <g id=\"patch_35\">\r\n    <path clip-path=\"url(#p4fe4e39cf1)\" d=\"M 763.825 348.958125 \r\nL 763.825 347.684062 \r\nL 763.825 24.072187 \r\nL 763.825 22.798125 \r\nL 780.133 22.798125 \r\nL 780.133 24.072187 \r\nL 780.133 347.684062 \r\nL 780.133 348.958125 \r\nL 780.133 348.958125 \r\nz\r\n\" style=\"fill:#ffffff;stroke:#ffffff;stroke-linejoin:miter;stroke-width:0.01;\"/>\r\n   </g>\r\n   <image height=\"326\" id=\"imagea4173c7609\" transform=\"scale(1 -1)translate(0 -326)\" width=\"16\" x=\"764\" xlink:href=\"data:image/png;base64,\r\niVBORw0KGgoAAAANSUhEUgAAABAAAAFGCAYAAABjUx8/AAABg0lEQVR4nO2cQZLCMAwEx1kvf+H/v2MXzCNaVaOohntUo1Y7wSFkHT2PwGdLL3K8tvSHClzo6IoEYSCtox8k0jqXoIm/5PASiA9aALbgT1AAMQz8LfinEJFiYkmCDiK5GUSkDlPoYKJ7CmEwRCQ3gw4muluISB2m4BdpfQ7cO7PNv7TZDZAKiPYWcIIwmCFSGHQQyb8a/QzsCWLiDJHsU4hIMyCGQQeRckprkCAmdhBpie6dBW8gbMH9f8Wv/+YWKhKwAhUQw6ADA3OCrMYmEP0MBpzW725iC4gDGPgXU1ajnUFMDIOqAgNW492ngCEunTfcO79ZiA2fvK8QCd4DKSgAGeAEBRDdLfgTdDBxAAN3C/4EEWnIdcENccRqdE8hIg2BGAYRaYRIuS50EGnpOuwP01uswIbPvfMCXCT44HwBA5qAM7C3EJFGTGECxDBokCAQW0AMgwYt+BNEpHxLK0kQBhGpJMH6wJ0rh7j0zwrY3xnnf+Wb/7V3MyDefQoVEFkLX4aZiCOBtucrAAAAAElFTkSuQmCC\" y=\"-22\"/>\r\n   <g id=\"matplotlib.axis_3\"/>\r\n   <g id=\"matplotlib.axis_4\">\r\n    <g id=\"ytick_6\">\r\n     <g id=\"line2d_33\">\r\n      <defs>\r\n       <path d=\"M 0 0 \r\nL 3.5 0 \r\n\" id=\"ma479fe65c3\" style=\"stroke:#000000;stroke-width:0.8;\"/>\r\n      </defs>\r\n      <g>\r\n       <use style=\"stroke:#000000;stroke-width:0.8;\" x=\"780.133\" xlink:href=\"#ma479fe65c3\" y=\"312.815115\"/>\r\n      </g>\r\n     </g>\r\n     <g id=\"text_34\">\r\n      <!-- 50000 -->\r\n      <g transform=\"translate(787.133 316.614334)scale(0.1 -0.1)\">\r\n       <defs>\r\n        <path d=\"M 691 4666 \r\nL 3169 4666 \r\nL 3169 4134 \r\nL 1269 4134 \r\nL 1269 2991 \r\nQ 1406 3038 1543 3061 \r\nQ 1681 3084 1819 3084 \r\nQ 2600 3084 3056 2656 \r\nQ 3513 2228 3513 1497 \r\nQ 3513 744 3044 326 \r\nQ 2575 -91 1722 -91 \r\nQ 1428 -91 1123 -41 \r\nQ 819 9 494 109 \r\nL 494 744 \r\nQ 775 591 1075 516 \r\nQ 1375 441 1709 441 \r\nQ 2250 441 2565 725 \r\nQ 2881 1009 2881 1497 \r\nQ 2881 1984 2565 2268 \r\nQ 2250 2553 1709 2553 \r\nQ 1456 2553 1204 2497 \r\nQ 953 2441 691 2322 \r\nL 691 4666 \r\nz\r\n\" id=\"DejaVuSans-35\" transform=\"scale(0.015625)\"/>\r\n       </defs>\r\n       <use xlink:href=\"#DejaVuSans-35\"/>\r\n       <use x=\"63.623047\" xlink:href=\"#DejaVuSans-30\"/>\r\n       <use x=\"127.246094\" xlink:href=\"#DejaVuSans-30\"/>\r\n       <use x=\"190.869141\" xlink:href=\"#DejaVuSans-30\"/>\r\n       <use x=\"254.492188\" xlink:href=\"#DejaVuSans-30\"/>\r\n      </g>\r\n     </g>\r\n    </g>\r\n    <g id=\"ytick_7\">\r\n     <g id=\"line2d_34\">\r\n      <g>\r\n       <use style=\"stroke:#000000;stroke-width:0.8;\" x=\"780.133\" xlink:href=\"#ma479fe65c3\" y=\"275.12453\"/>\r\n      </g>\r\n     </g>\r\n     <g id=\"text_35\">\r\n      <!-- 100000 -->\r\n      <g transform=\"translate(787.133 278.923749)scale(0.1 -0.1)\">\r\n       <use xlink:href=\"#DejaVuSans-31\"/>\r\n       <use x=\"63.623047\" xlink:href=\"#DejaVuSans-30\"/>\r\n       <use x=\"127.246094\" xlink:href=\"#DejaVuSans-30\"/>\r\n       <use x=\"190.869141\" xlink:href=\"#DejaVuSans-30\"/>\r\n       <use x=\"254.492188\" xlink:href=\"#DejaVuSans-30\"/>\r\n       <use x=\"318.115234\" xlink:href=\"#DejaVuSans-30\"/>\r\n      </g>\r\n     </g>\r\n    </g>\r\n    <g id=\"ytick_8\">\r\n     <g id=\"line2d_35\">\r\n      <g>\r\n       <use style=\"stroke:#000000;stroke-width:0.8;\" x=\"780.133\" xlink:href=\"#ma479fe65c3\" y=\"237.433945\"/>\r\n      </g>\r\n     </g>\r\n     <g id=\"text_36\">\r\n      <!-- 150000 -->\r\n      <g transform=\"translate(787.133 241.233164)scale(0.1 -0.1)\">\r\n       <use xlink:href=\"#DejaVuSans-31\"/>\r\n       <use x=\"63.623047\" xlink:href=\"#DejaVuSans-35\"/>\r\n       <use x=\"127.246094\" xlink:href=\"#DejaVuSans-30\"/>\r\n       <use x=\"190.869141\" xlink:href=\"#DejaVuSans-30\"/>\r\n       <use x=\"254.492188\" xlink:href=\"#DejaVuSans-30\"/>\r\n       <use x=\"318.115234\" xlink:href=\"#DejaVuSans-30\"/>\r\n      </g>\r\n     </g>\r\n    </g>\r\n    <g id=\"ytick_9\">\r\n     <g id=\"line2d_36\">\r\n      <g>\r\n       <use style=\"stroke:#000000;stroke-width:0.8;\" x=\"780.133\" xlink:href=\"#ma479fe65c3\" y=\"199.74336\"/>\r\n      </g>\r\n     </g>\r\n     <g id=\"text_37\">\r\n      <!-- 200000 -->\r\n      <g transform=\"translate(787.133 203.542579)scale(0.1 -0.1)\">\r\n       <use xlink:href=\"#DejaVuSans-32\"/>\r\n       <use x=\"63.623047\" xlink:href=\"#DejaVuSans-30\"/>\r\n       <use x=\"127.246094\" xlink:href=\"#DejaVuSans-30\"/>\r\n       <use x=\"190.869141\" xlink:href=\"#DejaVuSans-30\"/>\r\n       <use x=\"254.492188\" xlink:href=\"#DejaVuSans-30\"/>\r\n       <use x=\"318.115234\" xlink:href=\"#DejaVuSans-30\"/>\r\n      </g>\r\n     </g>\r\n    </g>\r\n    <g id=\"ytick_10\">\r\n     <g id=\"line2d_37\">\r\n      <g>\r\n       <use style=\"stroke:#000000;stroke-width:0.8;\" x=\"780.133\" xlink:href=\"#ma479fe65c3\" y=\"162.052776\"/>\r\n      </g>\r\n     </g>\r\n     <g id=\"text_38\">\r\n      <!-- 250000 -->\r\n      <g transform=\"translate(787.133 165.851994)scale(0.1 -0.1)\">\r\n       <use xlink:href=\"#DejaVuSans-32\"/>\r\n       <use x=\"63.623047\" xlink:href=\"#DejaVuSans-35\"/>\r\n       <use x=\"127.246094\" xlink:href=\"#DejaVuSans-30\"/>\r\n       <use x=\"190.869141\" xlink:href=\"#DejaVuSans-30\"/>\r\n       <use x=\"254.492188\" xlink:href=\"#DejaVuSans-30\"/>\r\n       <use x=\"318.115234\" xlink:href=\"#DejaVuSans-30\"/>\r\n      </g>\r\n     </g>\r\n    </g>\r\n    <g id=\"ytick_11\">\r\n     <g id=\"line2d_38\">\r\n      <g>\r\n       <use style=\"stroke:#000000;stroke-width:0.8;\" x=\"780.133\" xlink:href=\"#ma479fe65c3\" y=\"124.362191\"/>\r\n      </g>\r\n     </g>\r\n     <g id=\"text_39\">\r\n      <!-- 300000 -->\r\n      <g transform=\"translate(787.133 128.161409)scale(0.1 -0.1)\">\r\n       <use xlink:href=\"#DejaVuSans-33\"/>\r\n       <use x=\"63.623047\" xlink:href=\"#DejaVuSans-30\"/>\r\n       <use x=\"127.246094\" xlink:href=\"#DejaVuSans-30\"/>\r\n       <use x=\"190.869141\" xlink:href=\"#DejaVuSans-30\"/>\r\n       <use x=\"254.492188\" xlink:href=\"#DejaVuSans-30\"/>\r\n       <use x=\"318.115234\" xlink:href=\"#DejaVuSans-30\"/>\r\n      </g>\r\n     </g>\r\n    </g>\r\n    <g id=\"ytick_12\">\r\n     <g id=\"line2d_39\">\r\n      <g>\r\n       <use style=\"stroke:#000000;stroke-width:0.8;\" x=\"780.133\" xlink:href=\"#ma479fe65c3\" y=\"86.671606\"/>\r\n      </g>\r\n     </g>\r\n     <g id=\"text_40\">\r\n      <!-- 350000 -->\r\n      <g transform=\"translate(787.133 90.470824)scale(0.1 -0.1)\">\r\n       <use xlink:href=\"#DejaVuSans-33\"/>\r\n       <use x=\"63.623047\" xlink:href=\"#DejaVuSans-35\"/>\r\n       <use x=\"127.246094\" xlink:href=\"#DejaVuSans-30\"/>\r\n       <use x=\"190.869141\" xlink:href=\"#DejaVuSans-30\"/>\r\n       <use x=\"254.492188\" xlink:href=\"#DejaVuSans-30\"/>\r\n       <use x=\"318.115234\" xlink:href=\"#DejaVuSans-30\"/>\r\n      </g>\r\n     </g>\r\n    </g>\r\n    <g id=\"ytick_13\">\r\n     <g id=\"line2d_40\">\r\n      <g>\r\n       <use style=\"stroke:#000000;stroke-width:0.8;\" x=\"780.133\" xlink:href=\"#ma479fe65c3\" y=\"48.981021\"/>\r\n      </g>\r\n     </g>\r\n     <g id=\"text_41\">\r\n      <!-- 400000 -->\r\n      <g transform=\"translate(787.133 52.780239)scale(0.1 -0.1)\">\r\n       <use xlink:href=\"#DejaVuSans-34\"/>\r\n       <use x=\"63.623047\" xlink:href=\"#DejaVuSans-30\"/>\r\n       <use x=\"127.246094\" xlink:href=\"#DejaVuSans-30\"/>\r\n       <use x=\"190.869141\" xlink:href=\"#DejaVuSans-30\"/>\r\n       <use x=\"254.492188\" xlink:href=\"#DejaVuSans-30\"/>\r\n       <use x=\"318.115234\" xlink:href=\"#DejaVuSans-30\"/>\r\n      </g>\r\n     </g>\r\n    </g>\r\n   </g>\r\n   <g id=\"LineCollection_1\"/>\r\n   <g id=\"patch_36\">\r\n    <path d=\"M 763.825 348.958125 \r\nL 763.825 347.684062 \r\nL 763.825 24.072187 \r\nL 763.825 22.798125 \r\nL 780.133 22.798125 \r\nL 780.133 24.072187 \r\nL 780.133 347.684062 \r\nL 780.133 348.958125 \r\nz\r\n\" style=\"fill:none;stroke:#000000;stroke-linecap:square;stroke-linejoin:miter;stroke-width:0.8;\"/>\r\n   </g>\r\n  </g>\r\n </g>\r\n <defs>\r\n  <clipPath id=\"p29a1ab8b8e\">\r\n   <rect height=\"326.16\" width=\"669.6\" x=\"52.375\" y=\"22.798125\"/>\r\n  </clipPath>\r\n  <clipPath id=\"p4fe4e39cf1\">\r\n   <rect height=\"326.16\" width=\"16.308\" x=\"763.825\" y=\"22.798125\"/>\r\n  </clipPath>\r\n </defs>\r\n</svg>\r\n",
      "image/png": "[encoded data removed]"
     },
     "metadata": {
      "needs_background": "light"
     }
    }
   ],
   "metadata": {}
  },
  {
   "cell_type": "markdown",
   "source": [
    "2.2) Número de financiamentos por porte da empresa"
   ],
   "metadata": {}
  },
  {
   "cell_type": "code",
   "execution_count": 8,
   "source": [
    "porte_empresa, contador = np.unique(df.porte_do_cliente, return_counts = True)\r\n",
    "dict_porte = dict(zip(porte_empresa, contador))\r\n",
    "sorted_dict_porte = sorted(dict_porte.items(), key = lambda key_value: key_value[1], reverse = True)\r\n",
    "print('Número de financiamentos por porte da empresa:')\r\n",
    "for i in sorted_dict_porte: print(i[0], '   ', i[1])"
   ],
   "outputs": [
    {
     "output_type": "stream",
     "name": "stdout",
     "text": [
      "Número de financiamentos por porte da empresa:\n",
      "MICRO     948294\n",
      "PEQUENA     428387\n",
      "GRANDE     364372\n",
      "MÉDIA     342310\n"
     ]
    }
   ],
   "metadata": {}
  },
  {
   "cell_type": "markdown",
   "source": [
    "2.3) Número de financiamentos por porte da empresa por estado"
   ],
   "metadata": {}
  },
  {
   "cell_type": "code",
   "execution_count": 9,
   "source": [
    "financiamentos_porte_estado = df[['uf', 'porte_do_cliente']].sort_values(by = ['uf'])\r\n",
    "\r\n",
    "conjuntos, contador = np.unique(np.array(financiamentos_porte_estado).astype('<U22'), return_counts= True, axis = 0)\r\n",
    "print('Número de financiamentos separados por estado e porte da empresa:')\r\n",
    "for i in range(len(conjuntos)):\r\n",
    "    if i % 4 == 0: print('-------------------------')\r\n",
    "    print(conjuntos[i][0], '   ', conjuntos[i][1], '   ', contador[i])"
   ],
   "outputs": [
    {
     "output_type": "stream",
     "name": "stdout",
     "text": [
      "Número de financiamentos separados por estado e porte da empresa:\n",
      "-------------------------\n",
      " AC     GRANDE     158\n",
      " AC     MICRO     2656\n",
      " AC     MÉDIA     708\n",
      " AC     PEQUENA     998\n",
      "-------------------------\n",
      " AL     GRANDE     2076\n",
      " AL     MICRO     4087\n",
      " AL     MÉDIA     1629\n",
      " AL     PEQUENA     2096\n",
      "-------------------------\n",
      " AM     GRANDE     2125\n",
      " AM     MICRO     3483\n",
      " AM     MÉDIA     3831\n",
      " AM     PEQUENA     4163\n",
      "-------------------------\n",
      " AP     GRANDE     233\n",
      " AP     MICRO     777\n",
      " AP     MÉDIA     618\n",
      " AP     PEQUENA     738\n",
      "-------------------------\n",
      " BA     GRANDE     10663\n",
      " BA     MICRO     30074\n",
      " BA     MÉDIA     14235\n",
      " BA     PEQUENA     17926\n",
      "-------------------------\n",
      " CE     GRANDE     4872\n",
      " CE     MICRO     12477\n",
      " CE     MÉDIA     7087\n",
      " CE     PEQUENA     8818\n",
      "-------------------------\n",
      " DF     GRANDE     2546\n",
      " DF     MICRO     5115\n",
      " DF     MÉDIA     2896\n",
      " DF     PEQUENA     3898\n",
      "-------------------------\n",
      " ES     GRANDE     7987\n",
      " ES     MICRO     34488\n",
      " ES     MÉDIA     9131\n",
      " ES     PEQUENA     11010\n",
      "-------------------------\n",
      " GO     GRANDE     14255\n",
      " GO     MICRO     28936\n",
      " GO     MÉDIA     13732\n",
      " GO     PEQUENA     16109\n",
      "-------------------------\n",
      " MA     GRANDE     2891\n",
      " MA     MICRO     10535\n",
      " MA     MÉDIA     3045\n",
      " MA     PEQUENA     5759\n",
      "-------------------------\n",
      " MG     GRANDE     44391\n",
      " MG     MICRO     95572\n",
      " MG     MÉDIA     42806\n",
      " MG     PEQUENA     49667\n",
      "-------------------------\n",
      " MS     GRANDE     5631\n",
      " MS     MICRO     13636\n",
      " MS     MÉDIA     5785\n",
      " MS     PEQUENA     7259\n",
      "-------------------------\n",
      " MT     GRANDE     8876\n",
      " MT     MICRO     22964\n",
      " MT     MÉDIA     9996\n",
      " MT     PEQUENA     12058\n",
      "-------------------------\n",
      " PA     GRANDE     5662\n",
      " PA     MICRO     9451\n",
      " PA     MÉDIA     6511\n",
      " PA     PEQUENA     7926\n",
      "-------------------------\n",
      " PB     GRANDE     2034\n",
      " PB     MICRO     5111\n",
      " PB     MÉDIA     2544\n",
      " PB     PEQUENA     3517\n",
      "-------------------------\n",
      " PE     GRANDE     10499\n",
      " PE     MICRO     17752\n",
      " PE     MÉDIA     9457\n",
      " PE     PEQUENA     12064\n",
      "-------------------------\n",
      " PI     GRANDE     1628\n",
      " PI     MICRO     4031\n",
      " PI     MÉDIA     1674\n",
      " PI     PEQUENA     2464\n",
      "-------------------------\n",
      " PR     GRANDE     44905\n",
      " PR     MICRO     143223\n",
      " PR     MÉDIA     38522\n",
      " PR     PEQUENA     48569\n",
      "-------------------------\n",
      " RJ     GRANDE     15871\n",
      " RJ     MICRO     31787\n",
      " RJ     MÉDIA     13730\n",
      " RJ     PEQUENA     17977\n",
      "-------------------------\n",
      " RN     GRANDE     1243\n",
      " RN     MICRO     5521\n",
      " RN     MÉDIA     2571\n",
      " RN     PEQUENA     3606\n",
      "-------------------------\n",
      " RO     GRANDE     3046\n",
      " RO     MICRO     8585\n",
      " RO     MÉDIA     3035\n",
      " RO     PEQUENA     4834\n",
      "-------------------------\n",
      " RR     GRANDE     99\n",
      " RR     MICRO     845\n",
      " RR     MÉDIA     334\n",
      " RR     PEQUENA     775\n",
      "-------------------------\n",
      " RS     GRANDE     29810\n",
      " RS     MICRO     189106\n",
      " RS     MÉDIA     29134\n",
      " RS     PEQUENA     40438\n",
      "-------------------------\n",
      " SC     GRANDE     18331\n",
      " SC     MICRO     123429\n",
      " SC     MÉDIA     31074\n",
      " SC     PEQUENA     43305\n",
      "-------------------------\n",
      " SE     GRANDE     1209\n",
      " SE     MICRO     3901\n",
      " SE     MÉDIA     1361\n",
      " SE     PEQUENA     2093\n",
      "-------------------------\n",
      " SP     GRANDE     121523\n",
      " SP     MICRO     132852\n",
      " SP     MÉDIA     84162\n",
      " SP     PEQUENA     96197\n",
      "-------------------------\n",
      " TO     GRANDE     1808\n",
      " TO     MICRO     7900\n",
      " TO     MÉDIA     2702\n",
      " TO     PEQUENA     4123\n"
     ]
    }
   ],
   "metadata": {}
  },
  {
   "cell_type": "markdown",
   "source": [
    "3.1.1) Número de financiamentos anuais"
   ],
   "metadata": {}
  },
  {
   "cell_type": "code",
   "execution_count": 10,
   "source": [
    "contratacoes_anuais = pd.to_datetime(df.data_da_contratacao).dt.strftime('%Y')\r\n",
    "\r\n",
    "data, contador = np.unique(contratacoes_anuais, return_counts = True)\r\n",
    "data = pd.to_datetime(data, format = \"%Y\").strftime('%Y')\r\n",
    "\r\n",
    "print('Número de financiamentos por ano:')\r\n",
    "for i in range(len(data)): print(data[i], '   ', contador[i])"
   ],
   "outputs": [
    {
     "output_type": "stream",
     "name": "stdout",
     "text": [
      "Número de financiamentos por ano:\n",
      "2002     65893\n",
      "2003     65479\n",
      "2004     87546\n",
      "2005     85206\n",
      "2006     69429\n",
      "2007     97439\n",
      "2008     111238\n",
      "2009     140111\n",
      "2010     209476\n",
      "2011     237983\n",
      "2012     208995\n",
      "2013     193584\n",
      "2014     172939\n",
      "2015     86293\n",
      "2016     52833\n",
      "2017     61368\n",
      "2018     46482\n",
      "2019     31477\n",
      "2020     46791\n",
      "2021     12801\n"
     ]
    }
   ],
   "metadata": {}
  },
  {
   "cell_type": "markdown",
   "source": [
    "3.1.2) Representação gráfica:"
   ],
   "metadata": {}
  },
  {
   "cell_type": "code",
   "execution_count": 11,
   "source": [
    "plt.figure(figsize = (15,8))\r\n",
    "plt.bar(data, contador, edgecolor = 'black')\r\n",
    "plt.title('Número de financiamentos por ano')\r\n",
    "plt.show()"
   ],
   "outputs": [
    {
     "output_type": "display_data",
     "data": {
      "text/plain": [
       "<Figure size 1080x576 with 1 Axes>"
      ],
      "image/svg+xml": "<?xml version=\"1.0\" encoding=\"utf-8\" standalone=\"no\"?>\r\n<!DOCTYPE svg PUBLIC \"-//W3C//DTD SVG 1.1//EN\"\r\n  \"http://www.w3.org/Graphics/SVG/1.1/DTD/svg11.dtd\">\r\n<svg height=\"481.55625pt\" version=\"1.1\" viewBox=\"0 0 896.575 481.55625\" width=\"896.575pt\" xmlns=\"http://www.w3.org/2000/svg\" xmlns:xlink=\"http://www.w3.org/1999/xlink\">\r\n <metadata>\r\n  <rdf:RDF xmlns:cc=\"http://creativecommons.org/ns#\" xmlns:dc=\"http://purl.org/dc/elements/1.1/\" xmlns:rdf=\"http://www.w3.org/1999/02/22-rdf-syntax-ns#\">\r\n   <cc:Work>\r\n    <dc:type rdf:resource=\"http://purl.org/dc/dcmitype/StillImage\"/>\r\n    <dc:date>2021-08-15T10:21:10.597476</dc:date>\r\n    <dc:format>image/svg+xml</dc:format>\r\n    <dc:creator>\r\n     <cc:Agent>\r\n      <dc:title>Matplotlib v3.4.2, https://matplotlib.org/</dc:title>\r\n     </cc:Agent>\r\n    </dc:creator>\r\n   </cc:Work>\r\n  </rdf:RDF>\r\n </metadata>\r\n <defs>\r\n  <style type=\"text/css\">*{stroke-linecap:butt;stroke-linejoin:round;}</style>\r\n </defs>\r\n <g id=\"figure_1\">\r\n  <g id=\"patch_1\">\r\n   <path d=\"M 0 481.55625 \r\nL 896.575 481.55625 \r\nL 896.575 0 \r\nL 0 0 \r\nz\r\n\" style=\"fill:none;\"/>\r\n  </g>\r\n  <g id=\"axes_1\">\r\n   <g id=\"patch_2\">\r\n    <path d=\"M 52.375 457.678125 \r\nL 889.375 457.678125 \r\nL 889.375 22.798125 \r\nL 52.375 22.798125 \r\nz\r\n\" style=\"fill:#ffffff;\"/>\r\n   </g>\r\n   <g id=\"patch_3\">\r\n    <path clip-path=\"url(#p8f26840350)\" d=\"M 90.420455 457.678125 \r\nL 121.164256 457.678125 \r\nL 121.164256 343.001875 \r\nL 90.420455 343.001875 \r\nz\r\n\" style=\"fill:#1f77b4;stroke:#000000;stroke-linejoin:miter;\"/>\r\n   </g>\r\n   <g id=\"patch_4\">\r\n    <path clip-path=\"url(#p8f26840350)\" d=\"M 128.850207 457.678125 \r\nL 159.594008 457.678125 \r\nL 159.594008 343.722376 \r\nL 128.850207 343.722376 \r\nz\r\n\" style=\"fill:#1f77b4;stroke:#000000;stroke-linejoin:miter;\"/>\r\n   </g>\r\n   <g id=\"patch_5\">\r\n    <path clip-path=\"url(#p8f26840350)\" d=\"M 167.279959 457.678125 \r\nL 198.02376 457.678125 \r\nL 198.02376 305.318285 \r\nL 167.279959 305.318285 \r\nz\r\n\" style=\"fill:#1f77b4;stroke:#000000;stroke-linejoin:miter;\"/>\r\n   </g>\r\n   <g id=\"patch_6\">\r\n    <path clip-path=\"url(#p8f26840350)\" d=\"M 205.709711 457.678125 \r\nL 236.453512 457.678125 \r\nL 236.453512 309.390681 \r\nL 205.709711 309.390681 \r\nz\r\n\" style=\"fill:#1f77b4;stroke:#000000;stroke-linejoin:miter;\"/>\r\n   </g>\r\n   <g id=\"patch_7\">\r\n    <path clip-path=\"url(#p8f26840350)\" d=\"M 244.139463 457.678125 \r\nL 274.883264 457.678125 \r\nL 274.883264 336.848032 \r\nL 244.139463 336.848032 \r\nz\r\n\" style=\"fill:#1f77b4;stroke:#000000;stroke-linejoin:miter;\"/>\r\n   </g>\r\n   <g id=\"patch_8\">\r\n    <path clip-path=\"url(#p8f26840350)\" d=\"M 282.569215 457.678125 \r\nL 313.313017 457.678125 \r\nL 313.313017 288.101097 \r\nL 282.569215 288.101097 \r\nz\r\n\" style=\"fill:#1f77b4;stroke:#000000;stroke-linejoin:miter;\"/>\r\n   </g>\r\n   <g id=\"patch_9\">\r\n    <path clip-path=\"url(#p8f26840350)\" d=\"M 320.998967 457.678125 \r\nL 351.742769 457.678125 \r\nL 351.742769 264.08614 \r\nL 320.998967 264.08614 \r\nz\r\n\" style=\"fill:#1f77b4;stroke:#000000;stroke-linejoin:miter;\"/>\r\n   </g>\r\n   <g id=\"patch_10\">\r\n    <path clip-path=\"url(#p8f26840350)\" d=\"M 359.428719 457.678125 \r\nL 390.172521 457.678125 \r\nL 390.172521 213.837292 \r\nL 359.428719 213.837292 \r\nz\r\n\" style=\"fill:#1f77b4;stroke:#000000;stroke-linejoin:miter;\"/>\r\n   </g>\r\n   <g id=\"patch_11\">\r\n    <path clip-path=\"url(#p8f26840350)\" d=\"M 397.858471 457.678125 \r\nL 428.602273 457.678125 \r\nL 428.602273 93.11858 \r\nL 397.858471 93.11858 \r\nz\r\n\" style=\"fill:#1f77b4;stroke:#000000;stroke-linejoin:miter;\"/>\r\n   </g>\r\n   <g id=\"patch_12\">\r\n    <path clip-path=\"url(#p8f26840350)\" d=\"M 436.288223 457.678125 \r\nL 467.032025 457.678125 \r\nL 467.032025 43.506696 \r\nL 436.288223 43.506696 \r\nz\r\n\" style=\"fill:#1f77b4;stroke:#000000;stroke-linejoin:miter;\"/>\r\n   </g>\r\n   <g id=\"patch_13\">\r\n    <path clip-path=\"url(#p8f26840350)\" d=\"M 474.717975 457.678125 \r\nL 505.461777 457.678125 \r\nL 505.461777 93.955684 \r\nL 474.717975 93.955684 \r\nz\r\n\" style=\"fill:#1f77b4;stroke:#000000;stroke-linejoin:miter;\"/>\r\n   </g>\r\n   <g id=\"patch_14\">\r\n    <path clip-path=\"url(#p8f26840350)\" d=\"M 513.147727 457.678125 \r\nL 543.891529 457.678125 \r\nL 543.891529 120.77607 \r\nL 513.147727 120.77607 \r\nz\r\n\" style=\"fill:#1f77b4;stroke:#000000;stroke-linejoin:miter;\"/>\r\n   </g>\r\n   <g id=\"patch_15\">\r\n    <path clip-path=\"url(#p8f26840350)\" d=\"M 551.577479 457.678125 \r\nL 582.321281 457.678125 \r\nL 582.321281 156.705397 \r\nL 551.577479 156.705397 \r\nz\r\n\" style=\"fill:#1f77b4;stroke:#000000;stroke-linejoin:miter;\"/>\r\n   </g>\r\n   <g id=\"patch_16\">\r\n    <path clip-path=\"url(#p8f26840350)\" d=\"M 590.007231 457.678125 \r\nL 620.751033 457.678125 \r\nL 620.751033 307.498931 \r\nL 590.007231 307.498931 \r\nz\r\n\" style=\"fill:#1f77b4;stroke:#000000;stroke-linejoin:miter;\"/>\r\n   </g>\r\n   <g id=\"patch_17\">\r\n    <path clip-path=\"url(#p8f26840350)\" d=\"M 628.436983 457.678125 \r\nL 659.180785 457.678125 \r\nL 659.180785 365.730721 \r\nL 628.436983 365.730721 \r\nz\r\n\" style=\"fill:#1f77b4;stroke:#000000;stroke-linejoin:miter;\"/>\r\n   </g>\r\n   <g id=\"patch_18\">\r\n    <path clip-path=\"url(#p8f26840350)\" d=\"M 666.866736 457.678125 \r\nL 697.610537 457.678125 \r\nL 697.610537 350.876916 \r\nL 666.866736 350.876916 \r\nz\r\n\" style=\"fill:#1f77b4;stroke:#000000;stroke-linejoin:miter;\"/>\r\n   </g>\r\n   <g id=\"patch_19\">\r\n    <path clip-path=\"url(#p8f26840350)\" d=\"M 705.296488 457.678125 \r\nL 736.040289 457.678125 \r\nL 736.040289 376.783623 \r\nL 705.296488 376.783623 \r\nz\r\n\" style=\"fill:#1f77b4;stroke:#000000;stroke-linejoin:miter;\"/>\r\n   </g>\r\n   <g id=\"patch_20\">\r\n    <path clip-path=\"url(#p8f26840350)\" d=\"M 743.72624 457.678125 \r\nL 774.470041 457.678125 \r\nL 774.470041 402.89743 \r\nL 743.72624 402.89743 \r\nz\r\n\" style=\"fill:#1f77b4;stroke:#000000;stroke-linejoin:miter;\"/>\r\n   </g>\r\n   <g id=\"patch_21\">\r\n    <path clip-path=\"url(#p8f26840350)\" d=\"M 782.155992 457.678125 \r\nL 812.899793 457.678125 \r\nL 812.899793 376.245858 \r\nL 782.155992 376.245858 \r\nz\r\n\" style=\"fill:#1f77b4;stroke:#000000;stroke-linejoin:miter;\"/>\r\n   </g>\r\n   <g id=\"patch_22\">\r\n    <path clip-path=\"url(#p8f26840350)\" d=\"M 820.585744 457.678125 \r\nL 851.329545 457.678125 \r\nL 851.329545 435.400028 \r\nL 820.585744 435.400028 \r\nz\r\n\" style=\"fill:#1f77b4;stroke:#000000;stroke-linejoin:miter;\"/>\r\n   </g>\r\n   <g id=\"matplotlib.axis_1\">\r\n    <g id=\"xtick_1\">\r\n     <g id=\"line2d_1\">\r\n      <defs>\r\n       <path d=\"M 0 0 \r\nL 0 3.5 \r\n\" id=\"meccc6530ce\" style=\"stroke:#000000;stroke-width:0.8;\"/>\r\n      </defs>\r\n      <g>\r\n       <use style=\"stroke:#000000;stroke-width:0.8;\" x=\"105.792355\" xlink:href=\"#meccc6530ce\" y=\"457.678125\"/>\r\n      </g>\r\n     </g>\r\n     <g id=\"text_1\">\r\n      <!-- 2002 -->\r\n      <g transform=\"translate(93.067355 472.276562)scale(0.1 -0.1)\">\r\n       <defs>\r\n        <path d=\"M 1228 531 \r\nL 3431 531 \r\nL 3431 0 \r\nL 469 0 \r\nL 469 531 \r\nQ 828 903 1448 1529 \r\nQ 2069 2156 2228 2338 \r\nQ 2531 2678 2651 2914 \r\nQ 2772 3150 2772 3378 \r\nQ 2772 3750 2511 3984 \r\nQ 2250 4219 1831 4219 \r\nQ 1534 4219 1204 4116 \r\nQ 875 4013 500 3803 \r\nL 500 4441 \r\nQ 881 4594 1212 4672 \r\nQ 1544 4750 1819 4750 \r\nQ 2544 4750 2975 4387 \r\nQ 3406 4025 3406 3419 \r\nQ 3406 3131 3298 2873 \r\nQ 3191 2616 2906 2266 \r\nQ 2828 2175 2409 1742 \r\nQ 1991 1309 1228 531 \r\nz\r\n\" id=\"DejaVuSans-32\" transform=\"scale(0.015625)\"/>\r\n        <path d=\"M 2034 4250 \r\nQ 1547 4250 1301 3770 \r\nQ 1056 3291 1056 2328 \r\nQ 1056 1369 1301 889 \r\nQ 1547 409 2034 409 \r\nQ 2525 409 2770 889 \r\nQ 3016 1369 3016 2328 \r\nQ 3016 3291 2770 3770 \r\nQ 2525 4250 2034 4250 \r\nz\r\nM 2034 4750 \r\nQ 2819 4750 3233 4129 \r\nQ 3647 3509 3647 2328 \r\nQ 3647 1150 3233 529 \r\nQ 2819 -91 2034 -91 \r\nQ 1250 -91 836 529 \r\nQ 422 1150 422 2328 \r\nQ 422 3509 836 4129 \r\nQ 1250 4750 2034 4750 \r\nz\r\n\" id=\"DejaVuSans-30\" transform=\"scale(0.015625)\"/>\r\n       </defs>\r\n       <use xlink:href=\"#DejaVuSans-32\"/>\r\n       <use x=\"63.623047\" xlink:href=\"#DejaVuSans-30\"/>\r\n       <use x=\"127.246094\" xlink:href=\"#DejaVuSans-30\"/>\r\n       <use x=\"190.869141\" xlink:href=\"#DejaVuSans-32\"/>\r\n      </g>\r\n     </g>\r\n    </g>\r\n    <g id=\"xtick_2\">\r\n     <g id=\"line2d_2\">\r\n      <g>\r\n       <use style=\"stroke:#000000;stroke-width:0.8;\" x=\"144.222107\" xlink:href=\"#meccc6530ce\" y=\"457.678125\"/>\r\n      </g>\r\n     </g>\r\n     <g id=\"text_2\">\r\n      <!-- 2003 -->\r\n      <g transform=\"translate(131.497107 472.276562)scale(0.1 -0.1)\">\r\n       <defs>\r\n        <path d=\"M 2597 2516 \r\nQ 3050 2419 3304 2112 \r\nQ 3559 1806 3559 1356 \r\nQ 3559 666 3084 287 \r\nQ 2609 -91 1734 -91 \r\nQ 1441 -91 1130 -33 \r\nQ 819 25 488 141 \r\nL 488 750 \r\nQ 750 597 1062 519 \r\nQ 1375 441 1716 441 \r\nQ 2309 441 2620 675 \r\nQ 2931 909 2931 1356 \r\nQ 2931 1769 2642 2001 \r\nQ 2353 2234 1838 2234 \r\nL 1294 2234 \r\nL 1294 2753 \r\nL 1863 2753 \r\nQ 2328 2753 2575 2939 \r\nQ 2822 3125 2822 3475 \r\nQ 2822 3834 2567 4026 \r\nQ 2313 4219 1838 4219 \r\nQ 1578 4219 1281 4162 \r\nQ 984 4106 628 3988 \r\nL 628 4550 \r\nQ 988 4650 1302 4700 \r\nQ 1616 4750 1894 4750 \r\nQ 2613 4750 3031 4423 \r\nQ 3450 4097 3450 3541 \r\nQ 3450 3153 3228 2886 \r\nQ 3006 2619 2597 2516 \r\nz\r\n\" id=\"DejaVuSans-33\" transform=\"scale(0.015625)\"/>\r\n       </defs>\r\n       <use xlink:href=\"#DejaVuSans-32\"/>\r\n       <use x=\"63.623047\" xlink:href=\"#DejaVuSans-30\"/>\r\n       <use x=\"127.246094\" xlink:href=\"#DejaVuSans-30\"/>\r\n       <use x=\"190.869141\" xlink:href=\"#DejaVuSans-33\"/>\r\n      </g>\r\n     </g>\r\n    </g>\r\n    <g id=\"xtick_3\">\r\n     <g id=\"line2d_3\">\r\n      <g>\r\n       <use style=\"stroke:#000000;stroke-width:0.8;\" x=\"182.65186\" xlink:href=\"#meccc6530ce\" y=\"457.678125\"/>\r\n      </g>\r\n     </g>\r\n     <g id=\"text_3\">\r\n      <!-- 2004 -->\r\n      <g transform=\"translate(169.92686 472.276562)scale(0.1 -0.1)\">\r\n       <defs>\r\n        <path d=\"M 2419 4116 \r\nL 825 1625 \r\nL 2419 1625 \r\nL 2419 4116 \r\nz\r\nM 2253 4666 \r\nL 3047 4666 \r\nL 3047 1625 \r\nL 3713 1625 \r\nL 3713 1100 \r\nL 3047 1100 \r\nL 3047 0 \r\nL 2419 0 \r\nL 2419 1100 \r\nL 313 1100 \r\nL 313 1709 \r\nL 2253 4666 \r\nz\r\n\" id=\"DejaVuSans-34\" transform=\"scale(0.015625)\"/>\r\n       </defs>\r\n       <use xlink:href=\"#DejaVuSans-32\"/>\r\n       <use x=\"63.623047\" xlink:href=\"#DejaVuSans-30\"/>\r\n       <use x=\"127.246094\" xlink:href=\"#DejaVuSans-30\"/>\r\n       <use x=\"190.869141\" xlink:href=\"#DejaVuSans-34\"/>\r\n      </g>\r\n     </g>\r\n    </g>\r\n    <g id=\"xtick_4\">\r\n     <g id=\"line2d_4\">\r\n      <g>\r\n       <use style=\"stroke:#000000;stroke-width:0.8;\" x=\"221.081612\" xlink:href=\"#meccc6530ce\" y=\"457.678125\"/>\r\n      </g>\r\n     </g>\r\n     <g id=\"text_4\">\r\n      <!-- 2005 -->\r\n      <g transform=\"translate(208.356612 472.276562)scale(0.1 -0.1)\">\r\n       <defs>\r\n        <path d=\"M 691 4666 \r\nL 3169 4666 \r\nL 3169 4134 \r\nL 1269 4134 \r\nL 1269 2991 \r\nQ 1406 3038 1543 3061 \r\nQ 1681 3084 1819 3084 \r\nQ 2600 3084 3056 2656 \r\nQ 3513 2228 3513 1497 \r\nQ 3513 744 3044 326 \r\nQ 2575 -91 1722 -91 \r\nQ 1428 -91 1123 -41 \r\nQ 819 9 494 109 \r\nL 494 744 \r\nQ 775 591 1075 516 \r\nQ 1375 441 1709 441 \r\nQ 2250 441 2565 725 \r\nQ 2881 1009 2881 1497 \r\nQ 2881 1984 2565 2268 \r\nQ 2250 2553 1709 2553 \r\nQ 1456 2553 1204 2497 \r\nQ 953 2441 691 2322 \r\nL 691 4666 \r\nz\r\n\" id=\"DejaVuSans-35\" transform=\"scale(0.015625)\"/>\r\n       </defs>\r\n       <use xlink:href=\"#DejaVuSans-32\"/>\r\n       <use x=\"63.623047\" xlink:href=\"#DejaVuSans-30\"/>\r\n       <use x=\"127.246094\" xlink:href=\"#DejaVuSans-30\"/>\r\n       <use x=\"190.869141\" xlink:href=\"#DejaVuSans-35\"/>\r\n      </g>\r\n     </g>\r\n    </g>\r\n    <g id=\"xtick_5\">\r\n     <g id=\"line2d_5\">\r\n      <g>\r\n       <use style=\"stroke:#000000;stroke-width:0.8;\" x=\"259.511364\" xlink:href=\"#meccc6530ce\" y=\"457.678125\"/>\r\n      </g>\r\n     </g>\r\n     <g id=\"text_5\">\r\n      <!-- 2006 -->\r\n      <g transform=\"translate(246.786364 472.276562)scale(0.1 -0.1)\">\r\n       <defs>\r\n        <path d=\"M 2113 2584 \r\nQ 1688 2584 1439 2293 \r\nQ 1191 2003 1191 1497 \r\nQ 1191 994 1439 701 \r\nQ 1688 409 2113 409 \r\nQ 2538 409 2786 701 \r\nQ 3034 994 3034 1497 \r\nQ 3034 2003 2786 2293 \r\nQ 2538 2584 2113 2584 \r\nz\r\nM 3366 4563 \r\nL 3366 3988 \r\nQ 3128 4100 2886 4159 \r\nQ 2644 4219 2406 4219 \r\nQ 1781 4219 1451 3797 \r\nQ 1122 3375 1075 2522 \r\nQ 1259 2794 1537 2939 \r\nQ 1816 3084 2150 3084 \r\nQ 2853 3084 3261 2657 \r\nQ 3669 2231 3669 1497 \r\nQ 3669 778 3244 343 \r\nQ 2819 -91 2113 -91 \r\nQ 1303 -91 875 529 \r\nQ 447 1150 447 2328 \r\nQ 447 3434 972 4092 \r\nQ 1497 4750 2381 4750 \r\nQ 2619 4750 2861 4703 \r\nQ 3103 4656 3366 4563 \r\nz\r\n\" id=\"DejaVuSans-36\" transform=\"scale(0.015625)\"/>\r\n       </defs>\r\n       <use xlink:href=\"#DejaVuSans-32\"/>\r\n       <use x=\"63.623047\" xlink:href=\"#DejaVuSans-30\"/>\r\n       <use x=\"127.246094\" xlink:href=\"#DejaVuSans-30\"/>\r\n       <use x=\"190.869141\" xlink:href=\"#DejaVuSans-36\"/>\r\n      </g>\r\n     </g>\r\n    </g>\r\n    <g id=\"xtick_6\">\r\n     <g id=\"line2d_6\">\r\n      <g>\r\n       <use style=\"stroke:#000000;stroke-width:0.8;\" x=\"297.941116\" xlink:href=\"#meccc6530ce\" y=\"457.678125\"/>\r\n      </g>\r\n     </g>\r\n     <g id=\"text_6\">\r\n      <!-- 2007 -->\r\n      <g transform=\"translate(285.216116 472.276562)scale(0.1 -0.1)\">\r\n       <defs>\r\n        <path d=\"M 525 4666 \r\nL 3525 4666 \r\nL 3525 4397 \r\nL 1831 0 \r\nL 1172 0 \r\nL 2766 4134 \r\nL 525 4134 \r\nL 525 4666 \r\nz\r\n\" id=\"DejaVuSans-37\" transform=\"scale(0.015625)\"/>\r\n       </defs>\r\n       <use xlink:href=\"#DejaVuSans-32\"/>\r\n       <use x=\"63.623047\" xlink:href=\"#DejaVuSans-30\"/>\r\n       <use x=\"127.246094\" xlink:href=\"#DejaVuSans-30\"/>\r\n       <use x=\"190.869141\" xlink:href=\"#DejaVuSans-37\"/>\r\n      </g>\r\n     </g>\r\n    </g>\r\n    <g id=\"xtick_7\">\r\n     <g id=\"line2d_7\">\r\n      <g>\r\n       <use style=\"stroke:#000000;stroke-width:0.8;\" x=\"336.370868\" xlink:href=\"#meccc6530ce\" y=\"457.678125\"/>\r\n      </g>\r\n     </g>\r\n     <g id=\"text_7\">\r\n      <!-- 2008 -->\r\n      <g transform=\"translate(323.645868 472.276562)scale(0.1 -0.1)\">\r\n       <defs>\r\n        <path d=\"M 2034 2216 \r\nQ 1584 2216 1326 1975 \r\nQ 1069 1734 1069 1313 \r\nQ 1069 891 1326 650 \r\nQ 1584 409 2034 409 \r\nQ 2484 409 2743 651 \r\nQ 3003 894 3003 1313 \r\nQ 3003 1734 2745 1975 \r\nQ 2488 2216 2034 2216 \r\nz\r\nM 1403 2484 \r\nQ 997 2584 770 2862 \r\nQ 544 3141 544 3541 \r\nQ 544 4100 942 4425 \r\nQ 1341 4750 2034 4750 \r\nQ 2731 4750 3128 4425 \r\nQ 3525 4100 3525 3541 \r\nQ 3525 3141 3298 2862 \r\nQ 3072 2584 2669 2484 \r\nQ 3125 2378 3379 2068 \r\nQ 3634 1759 3634 1313 \r\nQ 3634 634 3220 271 \r\nQ 2806 -91 2034 -91 \r\nQ 1263 -91 848 271 \r\nQ 434 634 434 1313 \r\nQ 434 1759 690 2068 \r\nQ 947 2378 1403 2484 \r\nz\r\nM 1172 3481 \r\nQ 1172 3119 1398 2916 \r\nQ 1625 2713 2034 2713 \r\nQ 2441 2713 2670 2916 \r\nQ 2900 3119 2900 3481 \r\nQ 2900 3844 2670 4047 \r\nQ 2441 4250 2034 4250 \r\nQ 1625 4250 1398 4047 \r\nQ 1172 3844 1172 3481 \r\nz\r\n\" id=\"DejaVuSans-38\" transform=\"scale(0.015625)\"/>\r\n       </defs>\r\n       <use xlink:href=\"#DejaVuSans-32\"/>\r\n       <use x=\"63.623047\" xlink:href=\"#DejaVuSans-30\"/>\r\n       <use x=\"127.246094\" xlink:href=\"#DejaVuSans-30\"/>\r\n       <use x=\"190.869141\" xlink:href=\"#DejaVuSans-38\"/>\r\n      </g>\r\n     </g>\r\n    </g>\r\n    <g id=\"xtick_8\">\r\n     <g id=\"line2d_8\">\r\n      <g>\r\n       <use style=\"stroke:#000000;stroke-width:0.8;\" x=\"374.80062\" xlink:href=\"#meccc6530ce\" y=\"457.678125\"/>\r\n      </g>\r\n     </g>\r\n     <g id=\"text_8\">\r\n      <!-- 2009 -->\r\n      <g transform=\"translate(362.07562 472.276562)scale(0.1 -0.1)\">\r\n       <defs>\r\n        <path d=\"M 703 97 \r\nL 703 672 \r\nQ 941 559 1184 500 \r\nQ 1428 441 1663 441 \r\nQ 2288 441 2617 861 \r\nQ 2947 1281 2994 2138 \r\nQ 2813 1869 2534 1725 \r\nQ 2256 1581 1919 1581 \r\nQ 1219 1581 811 2004 \r\nQ 403 2428 403 3163 \r\nQ 403 3881 828 4315 \r\nQ 1253 4750 1959 4750 \r\nQ 2769 4750 3195 4129 \r\nQ 3622 3509 3622 2328 \r\nQ 3622 1225 3098 567 \r\nQ 2575 -91 1691 -91 \r\nQ 1453 -91 1209 -44 \r\nQ 966 3 703 97 \r\nz\r\nM 1959 2075 \r\nQ 2384 2075 2632 2365 \r\nQ 2881 2656 2881 3163 \r\nQ 2881 3666 2632 3958 \r\nQ 2384 4250 1959 4250 \r\nQ 1534 4250 1286 3958 \r\nQ 1038 3666 1038 3163 \r\nQ 1038 2656 1286 2365 \r\nQ 1534 2075 1959 2075 \r\nz\r\n\" id=\"DejaVuSans-39\" transform=\"scale(0.015625)\"/>\r\n       </defs>\r\n       <use xlink:href=\"#DejaVuSans-32\"/>\r\n       <use x=\"63.623047\" xlink:href=\"#DejaVuSans-30\"/>\r\n       <use x=\"127.246094\" xlink:href=\"#DejaVuSans-30\"/>\r\n       <use x=\"190.869141\" xlink:href=\"#DejaVuSans-39\"/>\r\n      </g>\r\n     </g>\r\n    </g>\r\n    <g id=\"xtick_9\">\r\n     <g id=\"line2d_9\">\r\n      <g>\r\n       <use style=\"stroke:#000000;stroke-width:0.8;\" x=\"413.230372\" xlink:href=\"#meccc6530ce\" y=\"457.678125\"/>\r\n      </g>\r\n     </g>\r\n     <g id=\"text_9\">\r\n      <!-- 2010 -->\r\n      <g transform=\"translate(400.505372 472.276562)scale(0.1 -0.1)\">\r\n       <defs>\r\n        <path d=\"M 794 531 \r\nL 1825 531 \r\nL 1825 4091 \r\nL 703 3866 \r\nL 703 4441 \r\nL 1819 4666 \r\nL 2450 4666 \r\nL 2450 531 \r\nL 3481 531 \r\nL 3481 0 \r\nL 794 0 \r\nL 794 531 \r\nz\r\n\" id=\"DejaVuSans-31\" transform=\"scale(0.015625)\"/>\r\n       </defs>\r\n       <use xlink:href=\"#DejaVuSans-32\"/>\r\n       <use x=\"63.623047\" xlink:href=\"#DejaVuSans-30\"/>\r\n       <use x=\"127.246094\" xlink:href=\"#DejaVuSans-31\"/>\r\n       <use x=\"190.869141\" xlink:href=\"#DejaVuSans-30\"/>\r\n      </g>\r\n     </g>\r\n    </g>\r\n    <g id=\"xtick_10\">\r\n     <g id=\"line2d_10\">\r\n      <g>\r\n       <use style=\"stroke:#000000;stroke-width:0.8;\" x=\"451.660124\" xlink:href=\"#meccc6530ce\" y=\"457.678125\"/>\r\n      </g>\r\n     </g>\r\n     <g id=\"text_10\">\r\n      <!-- 2011 -->\r\n      <g transform=\"translate(438.935124 472.276562)scale(0.1 -0.1)\">\r\n       <use xlink:href=\"#DejaVuSans-32\"/>\r\n       <use x=\"63.623047\" xlink:href=\"#DejaVuSans-30\"/>\r\n       <use x=\"127.246094\" xlink:href=\"#DejaVuSans-31\"/>\r\n       <use x=\"190.869141\" xlink:href=\"#DejaVuSans-31\"/>\r\n      </g>\r\n     </g>\r\n    </g>\r\n    <g id=\"xtick_11\">\r\n     <g id=\"line2d_11\">\r\n      <g>\r\n       <use style=\"stroke:#000000;stroke-width:0.8;\" x=\"490.089876\" xlink:href=\"#meccc6530ce\" y=\"457.678125\"/>\r\n      </g>\r\n     </g>\r\n     <g id=\"text_11\">\r\n      <!-- 2012 -->\r\n      <g transform=\"translate(477.364876 472.276562)scale(0.1 -0.1)\">\r\n       <use xlink:href=\"#DejaVuSans-32\"/>\r\n       <use x=\"63.623047\" xlink:href=\"#DejaVuSans-30\"/>\r\n       <use x=\"127.246094\" xlink:href=\"#DejaVuSans-31\"/>\r\n       <use x=\"190.869141\" xlink:href=\"#DejaVuSans-32\"/>\r\n      </g>\r\n     </g>\r\n    </g>\r\n    <g id=\"xtick_12\">\r\n     <g id=\"line2d_12\">\r\n      <g>\r\n       <use style=\"stroke:#000000;stroke-width:0.8;\" x=\"528.519628\" xlink:href=\"#meccc6530ce\" y=\"457.678125\"/>\r\n      </g>\r\n     </g>\r\n     <g id=\"text_12\">\r\n      <!-- 2013 -->\r\n      <g transform=\"translate(515.794628 472.276562)scale(0.1 -0.1)\">\r\n       <use xlink:href=\"#DejaVuSans-32\"/>\r\n       <use x=\"63.623047\" xlink:href=\"#DejaVuSans-30\"/>\r\n       <use x=\"127.246094\" xlink:href=\"#DejaVuSans-31\"/>\r\n       <use x=\"190.869141\" xlink:href=\"#DejaVuSans-33\"/>\r\n      </g>\r\n     </g>\r\n    </g>\r\n    <g id=\"xtick_13\">\r\n     <g id=\"line2d_13\">\r\n      <g>\r\n       <use style=\"stroke:#000000;stroke-width:0.8;\" x=\"566.94938\" xlink:href=\"#meccc6530ce\" y=\"457.678125\"/>\r\n      </g>\r\n     </g>\r\n     <g id=\"text_13\">\r\n      <!-- 2014 -->\r\n      <g transform=\"translate(554.22438 472.276562)scale(0.1 -0.1)\">\r\n       <use xlink:href=\"#DejaVuSans-32\"/>\r\n       <use x=\"63.623047\" xlink:href=\"#DejaVuSans-30\"/>\r\n       <use x=\"127.246094\" xlink:href=\"#DejaVuSans-31\"/>\r\n       <use x=\"190.869141\" xlink:href=\"#DejaVuSans-34\"/>\r\n      </g>\r\n     </g>\r\n    </g>\r\n    <g id=\"xtick_14\">\r\n     <g id=\"line2d_14\">\r\n      <g>\r\n       <use style=\"stroke:#000000;stroke-width:0.8;\" x=\"605.379132\" xlink:href=\"#meccc6530ce\" y=\"457.678125\"/>\r\n      </g>\r\n     </g>\r\n     <g id=\"text_14\">\r\n      <!-- 2015 -->\r\n      <g transform=\"translate(592.654132 472.276562)scale(0.1 -0.1)\">\r\n       <use xlink:href=\"#DejaVuSans-32\"/>\r\n       <use x=\"63.623047\" xlink:href=\"#DejaVuSans-30\"/>\r\n       <use x=\"127.246094\" xlink:href=\"#DejaVuSans-31\"/>\r\n       <use x=\"190.869141\" xlink:href=\"#DejaVuSans-35\"/>\r\n      </g>\r\n     </g>\r\n    </g>\r\n    <g id=\"xtick_15\">\r\n     <g id=\"line2d_15\">\r\n      <g>\r\n       <use style=\"stroke:#000000;stroke-width:0.8;\" x=\"643.808884\" xlink:href=\"#meccc6530ce\" y=\"457.678125\"/>\r\n      </g>\r\n     </g>\r\n     <g id=\"text_15\">\r\n      <!-- 2016 -->\r\n      <g transform=\"translate(631.083884 472.276562)scale(0.1 -0.1)\">\r\n       <use xlink:href=\"#DejaVuSans-32\"/>\r\n       <use x=\"63.623047\" xlink:href=\"#DejaVuSans-30\"/>\r\n       <use x=\"127.246094\" xlink:href=\"#DejaVuSans-31\"/>\r\n       <use x=\"190.869141\" xlink:href=\"#DejaVuSans-36\"/>\r\n      </g>\r\n     </g>\r\n    </g>\r\n    <g id=\"xtick_16\">\r\n     <g id=\"line2d_16\">\r\n      <g>\r\n       <use style=\"stroke:#000000;stroke-width:0.8;\" x=\"682.238636\" xlink:href=\"#meccc6530ce\" y=\"457.678125\"/>\r\n      </g>\r\n     </g>\r\n     <g id=\"text_16\">\r\n      <!-- 2017 -->\r\n      <g transform=\"translate(669.513636 472.276562)scale(0.1 -0.1)\">\r\n       <use xlink:href=\"#DejaVuSans-32\"/>\r\n       <use x=\"63.623047\" xlink:href=\"#DejaVuSans-30\"/>\r\n       <use x=\"127.246094\" xlink:href=\"#DejaVuSans-31\"/>\r\n       <use x=\"190.869141\" xlink:href=\"#DejaVuSans-37\"/>\r\n      </g>\r\n     </g>\r\n    </g>\r\n    <g id=\"xtick_17\">\r\n     <g id=\"line2d_17\">\r\n      <g>\r\n       <use style=\"stroke:#000000;stroke-width:0.8;\" x=\"720.668388\" xlink:href=\"#meccc6530ce\" y=\"457.678125\"/>\r\n      </g>\r\n     </g>\r\n     <g id=\"text_17\">\r\n      <!-- 2018 -->\r\n      <g transform=\"translate(707.943388 472.276562)scale(0.1 -0.1)\">\r\n       <use xlink:href=\"#DejaVuSans-32\"/>\r\n       <use x=\"63.623047\" xlink:href=\"#DejaVuSans-30\"/>\r\n       <use x=\"127.246094\" xlink:href=\"#DejaVuSans-31\"/>\r\n       <use x=\"190.869141\" xlink:href=\"#DejaVuSans-38\"/>\r\n      </g>\r\n     </g>\r\n    </g>\r\n    <g id=\"xtick_18\">\r\n     <g id=\"line2d_18\">\r\n      <g>\r\n       <use style=\"stroke:#000000;stroke-width:0.8;\" x=\"759.09814\" xlink:href=\"#meccc6530ce\" y=\"457.678125\"/>\r\n      </g>\r\n     </g>\r\n     <g id=\"text_18\">\r\n      <!-- 2019 -->\r\n      <g transform=\"translate(746.37314 472.276562)scale(0.1 -0.1)\">\r\n       <use xlink:href=\"#DejaVuSans-32\"/>\r\n       <use x=\"63.623047\" xlink:href=\"#DejaVuSans-30\"/>\r\n       <use x=\"127.246094\" xlink:href=\"#DejaVuSans-31\"/>\r\n       <use x=\"190.869141\" xlink:href=\"#DejaVuSans-39\"/>\r\n      </g>\r\n     </g>\r\n    </g>\r\n    <g id=\"xtick_19\">\r\n     <g id=\"line2d_19\">\r\n      <g>\r\n       <use style=\"stroke:#000000;stroke-width:0.8;\" x=\"797.527893\" xlink:href=\"#meccc6530ce\" y=\"457.678125\"/>\r\n      </g>\r\n     </g>\r\n     <g id=\"text_19\">\r\n      <!-- 2020 -->\r\n      <g transform=\"translate(784.802893 472.276562)scale(0.1 -0.1)\">\r\n       <use xlink:href=\"#DejaVuSans-32\"/>\r\n       <use x=\"63.623047\" xlink:href=\"#DejaVuSans-30\"/>\r\n       <use x=\"127.246094\" xlink:href=\"#DejaVuSans-32\"/>\r\n       <use x=\"190.869141\" xlink:href=\"#DejaVuSans-30\"/>\r\n      </g>\r\n     </g>\r\n    </g>\r\n    <g id=\"xtick_20\">\r\n     <g id=\"line2d_20\">\r\n      <g>\r\n       <use style=\"stroke:#000000;stroke-width:0.8;\" x=\"835.957645\" xlink:href=\"#meccc6530ce\" y=\"457.678125\"/>\r\n      </g>\r\n     </g>\r\n     <g id=\"text_20\">\r\n      <!-- 2021 -->\r\n      <g transform=\"translate(823.232645 472.276562)scale(0.1 -0.1)\">\r\n       <use xlink:href=\"#DejaVuSans-32\"/>\r\n       <use x=\"63.623047\" xlink:href=\"#DejaVuSans-30\"/>\r\n       <use x=\"127.246094\" xlink:href=\"#DejaVuSans-32\"/>\r\n       <use x=\"190.869141\" xlink:href=\"#DejaVuSans-31\"/>\r\n      </g>\r\n     </g>\r\n    </g>\r\n   </g>\r\n   <g id=\"matplotlib.axis_2\">\r\n    <g id=\"ytick_1\">\r\n     <g id=\"line2d_21\">\r\n      <defs>\r\n       <path d=\"M 0 0 \r\nL -3.5 0 \r\n\" id=\"m4239eb0b09\" style=\"stroke:#000000;stroke-width:0.8;\"/>\r\n      </defs>\r\n      <g>\r\n       <use style=\"stroke:#000000;stroke-width:0.8;\" x=\"52.375\" xlink:href=\"#m4239eb0b09\" y=\"457.678125\"/>\r\n      </g>\r\n     </g>\r\n     <g id=\"text_21\">\r\n      <!-- 0 -->\r\n      <g transform=\"translate(39.0125 461.477344)scale(0.1 -0.1)\">\r\n       <use xlink:href=\"#DejaVuSans-30\"/>\r\n      </g>\r\n     </g>\r\n    </g>\r\n    <g id=\"ytick_2\">\r\n     <g id=\"line2d_22\">\r\n      <g>\r\n       <use style=\"stroke:#000000;stroke-width:0.8;\" x=\"52.375\" xlink:href=\"#m4239eb0b09\" y=\"370.661105\"/>\r\n      </g>\r\n     </g>\r\n     <g id=\"text_22\">\r\n      <!-- 50000 -->\r\n      <g transform=\"translate(13.5625 374.460324)scale(0.1 -0.1)\">\r\n       <use xlink:href=\"#DejaVuSans-35\"/>\r\n       <use x=\"63.623047\" xlink:href=\"#DejaVuSans-30\"/>\r\n       <use x=\"127.246094\" xlink:href=\"#DejaVuSans-30\"/>\r\n       <use x=\"190.869141\" xlink:href=\"#DejaVuSans-30\"/>\r\n       <use x=\"254.492188\" xlink:href=\"#DejaVuSans-30\"/>\r\n      </g>\r\n     </g>\r\n    </g>\r\n    <g id=\"ytick_3\">\r\n     <g id=\"line2d_23\">\r\n      <g>\r\n       <use style=\"stroke:#000000;stroke-width:0.8;\" x=\"52.375\" xlink:href=\"#m4239eb0b09\" y=\"283.644085\"/>\r\n      </g>\r\n     </g>\r\n     <g id=\"text_23\">\r\n      <!-- 100000 -->\r\n      <g transform=\"translate(7.2 287.443304)scale(0.1 -0.1)\">\r\n       <use xlink:href=\"#DejaVuSans-31\"/>\r\n       <use x=\"63.623047\" xlink:href=\"#DejaVuSans-30\"/>\r\n       <use x=\"127.246094\" xlink:href=\"#DejaVuSans-30\"/>\r\n       <use x=\"190.869141\" xlink:href=\"#DejaVuSans-30\"/>\r\n       <use x=\"254.492188\" xlink:href=\"#DejaVuSans-30\"/>\r\n       <use x=\"318.115234\" xlink:href=\"#DejaVuSans-30\"/>\r\n      </g>\r\n     </g>\r\n    </g>\r\n    <g id=\"ytick_4\">\r\n     <g id=\"line2d_24\">\r\n      <g>\r\n       <use style=\"stroke:#000000;stroke-width:0.8;\" x=\"52.375\" xlink:href=\"#m4239eb0b09\" y=\"196.627066\"/>\r\n      </g>\r\n     </g>\r\n     <g id=\"text_24\">\r\n      <!-- 150000 -->\r\n      <g transform=\"translate(7.2 200.426284)scale(0.1 -0.1)\">\r\n       <use xlink:href=\"#DejaVuSans-31\"/>\r\n       <use x=\"63.623047\" xlink:href=\"#DejaVuSans-35\"/>\r\n       <use x=\"127.246094\" xlink:href=\"#DejaVuSans-30\"/>\r\n       <use x=\"190.869141\" xlink:href=\"#DejaVuSans-30\"/>\r\n       <use x=\"254.492188\" xlink:href=\"#DejaVuSans-30\"/>\r\n       <use x=\"318.115234\" xlink:href=\"#DejaVuSans-30\"/>\r\n      </g>\r\n     </g>\r\n    </g>\r\n    <g id=\"ytick_5\">\r\n     <g id=\"line2d_25\">\r\n      <g>\r\n       <use style=\"stroke:#000000;stroke-width:0.8;\" x=\"52.375\" xlink:href=\"#m4239eb0b09\" y=\"109.610046\"/>\r\n      </g>\r\n     </g>\r\n     <g id=\"text_25\">\r\n      <!-- 200000 -->\r\n      <g transform=\"translate(7.2 113.409264)scale(0.1 -0.1)\">\r\n       <use xlink:href=\"#DejaVuSans-32\"/>\r\n       <use x=\"63.623047\" xlink:href=\"#DejaVuSans-30\"/>\r\n       <use x=\"127.246094\" xlink:href=\"#DejaVuSans-30\"/>\r\n       <use x=\"190.869141\" xlink:href=\"#DejaVuSans-30\"/>\r\n       <use x=\"254.492188\" xlink:href=\"#DejaVuSans-30\"/>\r\n       <use x=\"318.115234\" xlink:href=\"#DejaVuSans-30\"/>\r\n      </g>\r\n     </g>\r\n    </g>\r\n   </g>\r\n   <g id=\"patch_23\">\r\n    <path d=\"M 52.375 457.678125 \r\nL 52.375 22.798125 \r\n\" style=\"fill:none;stroke:#000000;stroke-linecap:square;stroke-linejoin:miter;stroke-width:0.8;\"/>\r\n   </g>\r\n   <g id=\"patch_24\">\r\n    <path d=\"M 889.375 457.678125 \r\nL 889.375 22.798125 \r\n\" style=\"fill:none;stroke:#000000;stroke-linecap:square;stroke-linejoin:miter;stroke-width:0.8;\"/>\r\n   </g>\r\n   <g id=\"patch_25\">\r\n    <path d=\"M 52.375 457.678125 \r\nL 889.375 457.678125 \r\n\" style=\"fill:none;stroke:#000000;stroke-linecap:square;stroke-linejoin:miter;stroke-width:0.8;\"/>\r\n   </g>\r\n   <g id=\"patch_26\">\r\n    <path d=\"M 52.375 22.798125 \r\nL 889.375 22.798125 \r\n\" style=\"fill:none;stroke:#000000;stroke-linecap:square;stroke-linejoin:miter;stroke-width:0.8;\"/>\r\n   </g>\r\n   <g id=\"text_26\">\r\n    <!-- Número de financiamentos por ano -->\r\n    <g transform=\"translate(364.627187 16.798125)scale(0.12 -0.12)\">\r\n     <defs>\r\n      <path d=\"M 628 4666 \r\nL 1478 4666 \r\nL 3547 763 \r\nL 3547 4666 \r\nL 4159 4666 \r\nL 4159 0 \r\nL 3309 0 \r\nL 1241 3903 \r\nL 1241 0 \r\nL 628 0 \r\nL 628 4666 \r\nz\r\n\" id=\"DejaVuSans-4e\" transform=\"scale(0.015625)\"/>\r\n      <path d=\"M 544 1381 \r\nL 544 3500 \r\nL 1119 3500 \r\nL 1119 1403 \r\nQ 1119 906 1312 657 \r\nQ 1506 409 1894 409 \r\nQ 2359 409 2629 706 \r\nQ 2900 1003 2900 1516 \r\nL 2900 3500 \r\nL 3475 3500 \r\nL 3475 0 \r\nL 2900 0 \r\nL 2900 538 \r\nQ 2691 219 2414 64 \r\nQ 2138 -91 1772 -91 \r\nQ 1169 -91 856 284 \r\nQ 544 659 544 1381 \r\nz\r\nM 1991 3584 \r\nL 1991 3584 \r\nz\r\nM 2418 5119 \r\nL 3040 5119 \r\nL 2022 3944 \r\nL 1543 3944 \r\nL 2418 5119 \r\nz\r\n\" id=\"DejaVuSans-fa\" transform=\"scale(0.015625)\"/>\r\n      <path d=\"M 3328 2828 \r\nQ 3544 3216 3844 3400 \r\nQ 4144 3584 4550 3584 \r\nQ 5097 3584 5394 3201 \r\nQ 5691 2819 5691 2113 \r\nL 5691 0 \r\nL 5113 0 \r\nL 5113 2094 \r\nQ 5113 2597 4934 2840 \r\nQ 4756 3084 4391 3084 \r\nQ 3944 3084 3684 2787 \r\nQ 3425 2491 3425 1978 \r\nL 3425 0 \r\nL 2847 0 \r\nL 2847 2094 \r\nQ 2847 2600 2669 2842 \r\nQ 2491 3084 2119 3084 \r\nQ 1678 3084 1418 2786 \r\nQ 1159 2488 1159 1978 \r\nL 1159 0 \r\nL 581 0 \r\nL 581 3500 \r\nL 1159 3500 \r\nL 1159 2956 \r\nQ 1356 3278 1631 3431 \r\nQ 1906 3584 2284 3584 \r\nQ 2666 3584 2933 3390 \r\nQ 3200 3197 3328 2828 \r\nz\r\n\" id=\"DejaVuSans-6d\" transform=\"scale(0.015625)\"/>\r\n      <path d=\"M 3597 1894 \r\nL 3597 1613 \r\nL 953 1613 \r\nQ 991 1019 1311 708 \r\nQ 1631 397 2203 397 \r\nQ 2534 397 2845 478 \r\nQ 3156 559 3463 722 \r\nL 3463 178 \r\nQ 3153 47 2828 -22 \r\nQ 2503 -91 2169 -91 \r\nQ 1331 -91 842 396 \r\nQ 353 884 353 1716 \r\nQ 353 2575 817 3079 \r\nQ 1281 3584 2069 3584 \r\nQ 2775 3584 3186 3129 \r\nQ 3597 2675 3597 1894 \r\nz\r\nM 3022 2063 \r\nQ 3016 2534 2758 2815 \r\nQ 2500 3097 2075 3097 \r\nQ 1594 3097 1305 2825 \r\nQ 1016 2553 972 2059 \r\nL 3022 2063 \r\nz\r\n\" id=\"DejaVuSans-65\" transform=\"scale(0.015625)\"/>\r\n      <path d=\"M 2631 2963 \r\nQ 2534 3019 2420 3045 \r\nQ 2306 3072 2169 3072 \r\nQ 1681 3072 1420 2755 \r\nQ 1159 2438 1159 1844 \r\nL 1159 0 \r\nL 581 0 \r\nL 581 3500 \r\nL 1159 3500 \r\nL 1159 2956 \r\nQ 1341 3275 1631 3429 \r\nQ 1922 3584 2338 3584 \r\nQ 2397 3584 2469 3576 \r\nQ 2541 3569 2628 3553 \r\nL 2631 2963 \r\nz\r\n\" id=\"DejaVuSans-72\" transform=\"scale(0.015625)\"/>\r\n      <path d=\"M 1959 3097 \r\nQ 1497 3097 1228 2736 \r\nQ 959 2375 959 1747 \r\nQ 959 1119 1226 758 \r\nQ 1494 397 1959 397 \r\nQ 2419 397 2687 759 \r\nQ 2956 1122 2956 1747 \r\nQ 2956 2369 2687 2733 \r\nQ 2419 3097 1959 3097 \r\nz\r\nM 1959 3584 \r\nQ 2709 3584 3137 3096 \r\nQ 3566 2609 3566 1747 \r\nQ 3566 888 3137 398 \r\nQ 2709 -91 1959 -91 \r\nQ 1206 -91 779 398 \r\nQ 353 888 353 1747 \r\nQ 353 2609 779 3096 \r\nQ 1206 3584 1959 3584 \r\nz\r\n\" id=\"DejaVuSans-6f\" transform=\"scale(0.015625)\"/>\r\n      <path id=\"DejaVuSans-20\" transform=\"scale(0.015625)\"/>\r\n      <path d=\"M 2906 2969 \r\nL 2906 4863 \r\nL 3481 4863 \r\nL 3481 0 \r\nL 2906 0 \r\nL 2906 525 \r\nQ 2725 213 2448 61 \r\nQ 2172 -91 1784 -91 \r\nQ 1150 -91 751 415 \r\nQ 353 922 353 1747 \r\nQ 353 2572 751 3078 \r\nQ 1150 3584 1784 3584 \r\nQ 2172 3584 2448 3432 \r\nQ 2725 3281 2906 2969 \r\nz\r\nM 947 1747 \r\nQ 947 1113 1208 752 \r\nQ 1469 391 1925 391 \r\nQ 2381 391 2643 752 \r\nQ 2906 1113 2906 1747 \r\nQ 2906 2381 2643 2742 \r\nQ 2381 3103 1925 3103 \r\nQ 1469 3103 1208 2742 \r\nQ 947 2381 947 1747 \r\nz\r\n\" id=\"DejaVuSans-64\" transform=\"scale(0.015625)\"/>\r\n      <path d=\"M 2375 4863 \r\nL 2375 4384 \r\nL 1825 4384 \r\nQ 1516 4384 1395 4259 \r\nQ 1275 4134 1275 3809 \r\nL 1275 3500 \r\nL 2222 3500 \r\nL 2222 3053 \r\nL 1275 3053 \r\nL 1275 0 \r\nL 697 0 \r\nL 697 3053 \r\nL 147 3053 \r\nL 147 3500 \r\nL 697 3500 \r\nL 697 3744 \r\nQ 697 4328 969 4595 \r\nQ 1241 4863 1831 4863 \r\nL 2375 4863 \r\nz\r\n\" id=\"DejaVuSans-66\" transform=\"scale(0.015625)\"/>\r\n      <path d=\"M 603 3500 \r\nL 1178 3500 \r\nL 1178 0 \r\nL 603 0 \r\nL 603 3500 \r\nz\r\nM 603 4863 \r\nL 1178 4863 \r\nL 1178 4134 \r\nL 603 4134 \r\nL 603 4863 \r\nz\r\n\" id=\"DejaVuSans-69\" transform=\"scale(0.015625)\"/>\r\n      <path d=\"M 3513 2113 \r\nL 3513 0 \r\nL 2938 0 \r\nL 2938 2094 \r\nQ 2938 2591 2744 2837 \r\nQ 2550 3084 2163 3084 \r\nQ 1697 3084 1428 2787 \r\nQ 1159 2491 1159 1978 \r\nL 1159 0 \r\nL 581 0 \r\nL 581 3500 \r\nL 1159 3500 \r\nL 1159 2956 \r\nQ 1366 3272 1645 3428 \r\nQ 1925 3584 2291 3584 \r\nQ 2894 3584 3203 3211 \r\nQ 3513 2838 3513 2113 \r\nz\r\n\" id=\"DejaVuSans-6e\" transform=\"scale(0.015625)\"/>\r\n      <path d=\"M 2194 1759 \r\nQ 1497 1759 1228 1600 \r\nQ 959 1441 959 1056 \r\nQ 959 750 1161 570 \r\nQ 1363 391 1709 391 \r\nQ 2188 391 2477 730 \r\nQ 2766 1069 2766 1631 \r\nL 2766 1759 \r\nL 2194 1759 \r\nz\r\nM 3341 1997 \r\nL 3341 0 \r\nL 2766 0 \r\nL 2766 531 \r\nQ 2569 213 2275 61 \r\nQ 1981 -91 1556 -91 \r\nQ 1019 -91 701 211 \r\nQ 384 513 384 1019 \r\nQ 384 1609 779 1909 \r\nQ 1175 2209 1959 2209 \r\nL 2766 2209 \r\nL 2766 2266 \r\nQ 2766 2663 2505 2880 \r\nQ 2244 3097 1772 3097 \r\nQ 1472 3097 1187 3025 \r\nQ 903 2953 641 2809 \r\nL 641 3341 \r\nQ 956 3463 1253 3523 \r\nQ 1550 3584 1831 3584 \r\nQ 2591 3584 2966 3190 \r\nQ 3341 2797 3341 1997 \r\nz\r\n\" id=\"DejaVuSans-61\" transform=\"scale(0.015625)\"/>\r\n      <path d=\"M 3122 3366 \r\nL 3122 2828 \r\nQ 2878 2963 2633 3030 \r\nQ 2388 3097 2138 3097 \r\nQ 1578 3097 1268 2742 \r\nQ 959 2388 959 1747 \r\nQ 959 1106 1268 751 \r\nQ 1578 397 2138 397 \r\nQ 2388 397 2633 464 \r\nQ 2878 531 3122 666 \r\nL 3122 134 \r\nQ 2881 22 2623 -34 \r\nQ 2366 -91 2075 -91 \r\nQ 1284 -91 818 406 \r\nQ 353 903 353 1747 \r\nQ 353 2603 823 3093 \r\nQ 1294 3584 2113 3584 \r\nQ 2378 3584 2631 3529 \r\nQ 2884 3475 3122 3366 \r\nz\r\n\" id=\"DejaVuSans-63\" transform=\"scale(0.015625)\"/>\r\n      <path d=\"M 1172 4494 \r\nL 1172 3500 \r\nL 2356 3500 \r\nL 2356 3053 \r\nL 1172 3053 \r\nL 1172 1153 \r\nQ 1172 725 1289 603 \r\nQ 1406 481 1766 481 \r\nL 2356 481 \r\nL 2356 0 \r\nL 1766 0 \r\nQ 1100 0 847 248 \r\nQ 594 497 594 1153 \r\nL 594 3053 \r\nL 172 3053 \r\nL 172 3500 \r\nL 594 3500 \r\nL 594 4494 \r\nL 1172 4494 \r\nz\r\n\" id=\"DejaVuSans-74\" transform=\"scale(0.015625)\"/>\r\n      <path d=\"M 2834 3397 \r\nL 2834 2853 \r\nQ 2591 2978 2328 3040 \r\nQ 2066 3103 1784 3103 \r\nQ 1356 3103 1142 2972 \r\nQ 928 2841 928 2578 \r\nQ 928 2378 1081 2264 \r\nQ 1234 2150 1697 2047 \r\nL 1894 2003 \r\nQ 2506 1872 2764 1633 \r\nQ 3022 1394 3022 966 \r\nQ 3022 478 2636 193 \r\nQ 2250 -91 1575 -91 \r\nQ 1294 -91 989 -36 \r\nQ 684 19 347 128 \r\nL 347 722 \r\nQ 666 556 975 473 \r\nQ 1284 391 1588 391 \r\nQ 1994 391 2212 530 \r\nQ 2431 669 2431 922 \r\nQ 2431 1156 2273 1281 \r\nQ 2116 1406 1581 1522 \r\nL 1381 1569 \r\nQ 847 1681 609 1914 \r\nQ 372 2147 372 2553 \r\nQ 372 3047 722 3315 \r\nQ 1072 3584 1716 3584 \r\nQ 2034 3584 2315 3537 \r\nQ 2597 3491 2834 3397 \r\nz\r\n\" id=\"DejaVuSans-73\" transform=\"scale(0.015625)\"/>\r\n      <path d=\"M 1159 525 \r\nL 1159 -1331 \r\nL 581 -1331 \r\nL 581 3500 \r\nL 1159 3500 \r\nL 1159 2969 \r\nQ 1341 3281 1617 3432 \r\nQ 1894 3584 2278 3584 \r\nQ 2916 3584 3314 3078 \r\nQ 3713 2572 3713 1747 \r\nQ 3713 922 3314 415 \r\nQ 2916 -91 2278 -91 \r\nQ 1894 -91 1617 61 \r\nQ 1341 213 1159 525 \r\nz\r\nM 3116 1747 \r\nQ 3116 2381 2855 2742 \r\nQ 2594 3103 2138 3103 \r\nQ 1681 3103 1420 2742 \r\nQ 1159 2381 1159 1747 \r\nQ 1159 1113 1420 752 \r\nQ 1681 391 2138 391 \r\nQ 2594 391 2855 752 \r\nQ 3116 1113 3116 1747 \r\nz\r\n\" id=\"DejaVuSans-70\" transform=\"scale(0.015625)\"/>\r\n     </defs>\r\n     <use xlink:href=\"#DejaVuSans-4e\"/>\r\n     <use x=\"74.804688\" xlink:href=\"#DejaVuSans-fa\"/>\r\n     <use x=\"138.183594\" xlink:href=\"#DejaVuSans-6d\"/>\r\n     <use x=\"235.595703\" xlink:href=\"#DejaVuSans-65\"/>\r\n     <use x=\"297.119141\" xlink:href=\"#DejaVuSans-72\"/>\r\n     <use x=\"335.982422\" xlink:href=\"#DejaVuSans-6f\"/>\r\n     <use x=\"397.164062\" xlink:href=\"#DejaVuSans-20\"/>\r\n     <use x=\"428.951172\" xlink:href=\"#DejaVuSans-64\"/>\r\n     <use x=\"492.427734\" xlink:href=\"#DejaVuSans-65\"/>\r\n     <use x=\"553.951172\" xlink:href=\"#DejaVuSans-20\"/>\r\n     <use x=\"585.738281\" xlink:href=\"#DejaVuSans-66\"/>\r\n     <use x=\"620.943359\" xlink:href=\"#DejaVuSans-69\"/>\r\n     <use x=\"648.726562\" xlink:href=\"#DejaVuSans-6e\"/>\r\n     <use x=\"712.105469\" xlink:href=\"#DejaVuSans-61\"/>\r\n     <use x=\"773.384766\" xlink:href=\"#DejaVuSans-6e\"/>\r\n     <use x=\"836.763672\" xlink:href=\"#DejaVuSans-63\"/>\r\n     <use x=\"891.744141\" xlink:href=\"#DejaVuSans-69\"/>\r\n     <use x=\"919.527344\" xlink:href=\"#DejaVuSans-61\"/>\r\n     <use x=\"980.806641\" xlink:href=\"#DejaVuSans-6d\"/>\r\n     <use x=\"1078.21875\" xlink:href=\"#DejaVuSans-65\"/>\r\n     <use x=\"1139.742188\" xlink:href=\"#DejaVuSans-6e\"/>\r\n     <use x=\"1203.121094\" xlink:href=\"#DejaVuSans-74\"/>\r\n     <use x=\"1242.330078\" xlink:href=\"#DejaVuSans-6f\"/>\r\n     <use x=\"1303.511719\" xlink:href=\"#DejaVuSans-73\"/>\r\n     <use x=\"1355.611328\" xlink:href=\"#DejaVuSans-20\"/>\r\n     <use x=\"1387.398438\" xlink:href=\"#DejaVuSans-70\"/>\r\n     <use x=\"1450.875\" xlink:href=\"#DejaVuSans-6f\"/>\r\n     <use x=\"1512.056641\" xlink:href=\"#DejaVuSans-72\"/>\r\n     <use x=\"1553.169922\" xlink:href=\"#DejaVuSans-20\"/>\r\n     <use x=\"1584.957031\" xlink:href=\"#DejaVuSans-61\"/>\r\n     <use x=\"1646.236328\" xlink:href=\"#DejaVuSans-6e\"/>\r\n     <use x=\"1709.615234\" xlink:href=\"#DejaVuSans-6f\"/>\r\n    </g>\r\n   </g>\r\n  </g>\r\n </g>\r\n <defs>\r\n  <clipPath id=\"p8f26840350\">\r\n   <rect height=\"434.88\" width=\"837\" x=\"52.375\" y=\"22.798125\"/>\r\n  </clipPath>\r\n </defs>\r\n</svg>\r\n",
      "image/png": "[encoded data removed]"
     },
     "metadata": {
      "needs_background": "light"
     }
    }
   ],
   "metadata": {}
  },
  {
   "cell_type": "markdown",
   "source": [
    "3.2.1) Número de financiamentos por ano e porte da empresa:"
   ],
   "metadata": {}
  },
  {
   "cell_type": "code",
   "execution_count": 20,
   "source": [
    "financiamentos_porte_ano = df[['data_da_contratacao', 'porte_do_cliente']].sort_values(by = ['data_da_contratacao'])\r\n",
    "financiamentos_porte_ano.data_da_contratacao = pd.to_datetime(financiamentos_porte_ano.data_da_contratacao, format = '%Y-%m-%d').dt.strftime('%Y')\r\n",
    "\r\n",
    "conjuntos, contador = np.unique(np.array(financiamentos_porte_ano).astype('<U22'), return_counts= True, axis = 0)\r\n",
    "print('Número de financiamentos separados por ano e porte da empresa:')\r\n",
    "for i in range(len(conjuntos)):\r\n",
    "    if i % 4 == 0: print('-------------------------')\r\n",
    "    print(conjuntos[i][0], '   ', conjuntos[i][1], '   ', contador[i])"
   ],
   "outputs": [
    {
     "output_type": "stream",
     "name": "stdout",
     "text": [
      "Número de financiamentos separados por ano e porte da empresa:\n",
      "-------------------------\n",
      "2002     GRANDE     5045\n",
      "2002     MICRO     48097\n",
      "2002     MÉDIA     4718\n",
      "2002     PEQUENA     8033\n",
      "-------------------------\n",
      "2003     GRANDE     4777\n",
      "2003     MICRO     43548\n",
      "2003     MÉDIA     5898\n",
      "2003     PEQUENA     11256\n",
      "-------------------------\n",
      "2004     GRANDE     5870\n",
      "2004     MICRO     67306\n",
      "2004     MÉDIA     6304\n",
      "2004     PEQUENA     8066\n",
      "-------------------------\n",
      "2005     GRANDE     8053\n",
      "2005     MICRO     59246\n",
      "2005     MÉDIA     7791\n",
      "2005     PEQUENA     10116\n",
      "-------------------------\n",
      "2006     GRANDE     9976\n",
      "2006     MICRO     40997\n",
      "2006     MÉDIA     8284\n",
      "2006     PEQUENA     10172\n",
      "-------------------------\n",
      "2007     GRANDE     18103\n",
      "2007     MICRO     49632\n",
      "2007     MÉDIA     13639\n",
      "2007     PEQUENA     16065\n",
      "-------------------------\n",
      "2008     GRANDE     21324\n",
      "2008     MICRO     49770\n",
      "2008     MÉDIA     18038\n",
      "2008     PEQUENA     22106\n",
      "-------------------------\n",
      "2009     GRANDE     23661\n",
      "2009     MICRO     67278\n",
      "2009     MÉDIA     20149\n",
      "2009     PEQUENA     29023\n",
      "-------------------------\n",
      "2010     GRANDE     40265\n",
      "2010     MICRO     95533\n",
      "2010     MÉDIA     33065\n",
      "2010     PEQUENA     40613\n",
      "-------------------------\n",
      "2011     GRANDE     44849\n",
      "2011     MICRO     106150\n",
      "2011     MÉDIA     37225\n",
      "2011     PEQUENA     49759\n",
      "-------------------------\n",
      "2012     GRANDE     37602\n",
      "2012     MICRO     90741\n",
      "2012     MÉDIA     34658\n",
      "2012     PEQUENA     45994\n",
      "-------------------------\n",
      "2013     GRANDE     35784\n",
      "2013     MICRO     80164\n",
      "2013     MÉDIA     33421\n",
      "2013     PEQUENA     44215\n",
      "-------------------------\n",
      "2014     GRANDE     36395\n",
      "2014     MICRO     66686\n",
      "2014     MÉDIA     30385\n",
      "2014     PEQUENA     39473\n",
      "-------------------------\n",
      "2015     GRANDE     21058\n",
      "2015     MICRO     29522\n",
      "2015     MÉDIA     17092\n",
      "2015     PEQUENA     18621\n",
      "-------------------------\n",
      "2016     GRANDE     21281\n",
      "2016     MICRO     14539\n",
      "2016     MÉDIA     8196\n",
      "2016     PEQUENA     8817\n",
      "-------------------------\n",
      "2017     GRANDE     14057\n",
      "2017     MICRO     10551\n",
      "2017     MÉDIA     20863\n",
      "2017     PEQUENA     15897\n",
      "-------------------------\n",
      "2018     GRANDE     7709\n",
      "2018     MICRO     5610\n",
      "2018     MÉDIA     18333\n",
      "2018     PEQUENA     14830\n",
      "-------------------------\n",
      "2019     GRANDE     4118\n",
      "2019     MICRO     6161\n",
      "2019     MÉDIA     9958\n",
      "2019     PEQUENA     11240\n",
      "-------------------------\n",
      "2020     GRANDE     2931\n",
      "2020     MICRO     13554\n",
      "2020     MÉDIA     10477\n",
      "2020     PEQUENA     19829\n",
      "-------------------------\n",
      "2021     GRANDE     1514\n",
      "2021     MICRO     3209\n",
      "2021     MÉDIA     3816\n",
      "2021     PEQUENA     4262\n"
     ]
    }
   ],
   "metadata": {}
  },
  {
   "cell_type": "markdown",
   "source": [
    "3.2.2) Representação gráfica:"
   ],
   "metadata": {}
  },
  {
   "cell_type": "code",
   "execution_count": 42,
   "source": [
    "fig = go.Figure()\r\n",
    "fig.update_layout(title = 'Distribuição anual de financiamentos por porte da empresa')\r\n",
    "\r\n",
    "micro, pequena, media, grande = [], [], [], []\r\n",
    "for i in range(len(conjuntos)):\r\n",
    "    if 'MICRO' in conjuntos[i]: micro.append(contador[i])\r\n",
    "    elif 'PEQUENA' in conjuntos[i]: pequena.append(contador[i])\r\n",
    "    elif 'MÉDIA' in conjuntos[i]: media.append(contador[i])\r\n",
    "    elif 'GRANDE' in conjuntos[i]: grande.append(contador[i])\r\n",
    "\r\n",
    "\r\n",
    "for step in np.arange(len(data)):\r\n",
    "    fig.add_trace(\r\n",
    "        go.Pie(labels = ['Micro', 'Pequena', 'Média', 'Grande'],\r\n",
    "               values = [micro[step], pequena[step], media[step], grande[step]], sort = False, visible = False))\r\n",
    "\r\n",
    "fig.data[10].visible = True\r\n",
    "\r\n",
    "steps = []\r\n",
    "for i in range(len(fig.data)):\r\n",
    "    step = dict(\r\n",
    "        method=\"update\",\r\n",
    "        args=[{\"visible\": [False] * len(fig.data)},\r\n",
    "              {\"title\": \"Distribuição anual de financiamentos por porte da empresa\"}], \r\n",
    "    )\r\n",
    "    step[\"args\"][0][\"visible\"][i] = True \r\n",
    "    steps.append(step)\r\n",
    "\r\n",
    "sliders = [dict(active = 10, steps = steps)]\r\n",
    "\r\n",
    "fig.update_layout(sliders = sliders)\r\n",
    "fig.update_traces(hoverinfo = 'label+value')\r\n",
    "\r\n",
    "fig['layout']['sliders'][0]['currentvalue']['prefix']='Ano: '\r\n",
    "for i, ano in enumerate(data, start = 0):\r\n",
    "    fig['layout']['sliders'][0]['steps'][i]['label']=ano\r\n",
    "\r\n",
    "fig.show()"
   ],
   "outputs": [
    {
     "output_type": "display_data",
     "data": {
      "application/vnd.plotly.v1+json": {
       "config": {
        "plotlyServerURL": "https://plot.ly"
       },
       "data": [
        {
         "hoverinfo": "label+value",
         "labels": [
          "Micro",
          "Pequena",
          "Média",
          "Grande"
         ],
         "sort": false,
         "type": "pie",
         "values": [
          48097,
          8033,
          4718,
          5045
         ],
         "visible": false
        },
        {
         "hoverinfo": "label+value",
         "labels": [
          "Micro",
          "Pequena",
          "Média",
          "Grande"
         ],
         "sort": false,
         "type": "pie",
         "values": [
          43548,
          11256,
          5898,
          4777
         ],
         "visible": false
        },
        {
         "hoverinfo": "label+value",
         "labels": [
          "Micro",
          "Pequena",
          "Média",
          "Grande"
         ],
         "sort": false,
         "type": "pie",
         "values": [
          67306,
          8066,
          6304,
          5870
         ],
         "visible": false
        },
        {
         "hoverinfo": "label+value",
         "labels": [
          "Micro",
          "Pequena",
          "Média",
          "Grande"
         ],
         "sort": false,
         "type": "pie",
         "values": [
          59246,
          10116,
          7791,
          8053
         ],
         "visible": false
        },
        {
         "hoverinfo": "label+value",
         "labels": [
          "Micro",
          "Pequena",
          "Média",
          "Grande"
         ],
         "sort": false,
         "type": "pie",
         "values": [
          40997,
          10172,
          8284,
          9976
         ],
         "visible": false
        },
        {
         "hoverinfo": "label+value",
         "labels": [
          "Micro",
          "Pequena",
          "Média",
          "Grande"
         ],
         "sort": false,
         "type": "pie",
         "values": [
          49632,
          16065,
          13639,
          18103
         ],
         "visible": false
        },
        {
         "hoverinfo": "label+value",
         "labels": [
          "Micro",
          "Pequena",
          "Média",
          "Grande"
         ],
         "sort": false,
         "type": "pie",
         "values": [
          49770,
          22106,
          18038,
          21324
         ],
         "visible": false
        },
        {
         "hoverinfo": "label+value",
         "labels": [
          "Micro",
          "Pequena",
          "Média",
          "Grande"
         ],
         "sort": false,
         "type": "pie",
         "values": [
          67278,
          29023,
          20149,
          23661
         ],
         "visible": false
        },
        {
         "hoverinfo": "label+value",
         "labels": [
          "Micro",
          "Pequena",
          "Média",
          "Grande"
         ],
         "sort": false,
         "type": "pie",
         "values": [
          95533,
          40613,
          33065,
          40265
         ],
         "visible": false
        },
        {
         "hoverinfo": "label+value",
         "labels": [
          "Micro",
          "Pequena",
          "Média",
          "Grande"
         ],
         "sort": false,
         "type": "pie",
         "values": [
          106150,
          49759,
          37225,
          44849
         ],
         "visible": false
        },
        {
         "hoverinfo": "label+value",
         "labels": [
          "Micro",
          "Pequena",
          "Média",
          "Grande"
         ],
         "sort": false,
         "type": "pie",
         "values": [
          90741,
          45994,
          34658,
          37602
         ],
         "visible": true
        },
        {
         "hoverinfo": "label+value",
         "labels": [
          "Micro",
          "Pequena",
          "Média",
          "Grande"
         ],
         "sort": false,
         "type": "pie",
         "values": [
          80164,
          44215,
          33421,
          35784
         ],
         "visible": false
        },
        {
         "hoverinfo": "label+value",
         "labels": [
          "Micro",
          "Pequena",
          "Média",
          "Grande"
         ],
         "sort": false,
         "type": "pie",
         "values": [
          66686,
          39473,
          30385,
          36395
         ],
         "visible": false
        },
        {
         "hoverinfo": "label+value",
         "labels": [
          "Micro",
          "Pequena",
          "Média",
          "Grande"
         ],
         "sort": false,
         "type": "pie",
         "values": [
          29522,
          18621,
          17092,
          21058
         ],
         "visible": false
        },
        {
         "hoverinfo": "label+value",
         "labels": [
          "Micro",
          "Pequena",
          "Média",
          "Grande"
         ],
         "sort": false,
         "type": "pie",
         "values": [
          14539,
          8817,
          8196,
          21281
         ],
         "visible": false
        },
        {
         "hoverinfo": "label+value",
         "labels": [
          "Micro",
          "Pequena",
          "Média",
          "Grande"
         ],
         "sort": false,
         "type": "pie",
         "values": [
          10551,
          15897,
          20863,
          14057
         ],
         "visible": false
        },
        {
         "hoverinfo": "label+value",
         "labels": [
          "Micro",
          "Pequena",
          "Média",
          "Grande"
         ],
         "sort": false,
         "type": "pie",
         "values": [
          5610,
          14830,
          18333,
          7709
         ],
         "visible": false
        },
        {
         "hoverinfo": "label+value",
         "labels": [
          "Micro",
          "Pequena",
          "Média",
          "Grande"
         ],
         "sort": false,
         "type": "pie",
         "values": [
          6161,
          11240,
          9958,
          4118
         ],
         "visible": false
        },
        {
         "hoverinfo": "label+value",
         "labels": [
          "Micro",
          "Pequena",
          "Média",
          "Grande"
         ],
         "sort": false,
         "type": "pie",
         "values": [
          13554,
          19829,
          10477,
          2931
         ],
         "visible": false
        },
        {
         "hoverinfo": "label+value",
         "labels": [
          "Micro",
          "Pequena",
          "Média",
          "Grande"
         ],
         "sort": false,
         "type": "pie",
         "values": [
          3209,
          4262,
          3816,
          1514
         ],
         "visible": false
        }
       ],
       "layout": {
        "sliders": [
         {
          "active": 10,
          "currentvalue": {
           "prefix": "Ano: "
          },
          "steps": [
           {
            "args": [
             {
              "visible": [
               true,
               false,
               false,
               false,
               false,
               false,
               false,
               false,
               false,
               false,
               false,
               false,
               false,
               false,
               false,
               false,
               false,
               false,
               false,
               false
              ]
             },
             {
              "title": "Distribuição anual de financiamentos por porte da empresa"
             }
            ],
            "label": "2002",
            "method": "update"
           },
           {
            "args": [
             {
              "visible": [
               false,
               true,
               false,
               false,
               false,
               false,
               false,
               false,
               false,
               false,
               false,
               false,
               false,
               false,
               false,
               false,
               false,
               false,
               false,
               false
              ]
             },
             {
              "title": "Distribuição anual de financiamentos por porte da empresa"
             }
            ],
            "label": "2003",
            "method": "update"
           },
           {
            "args": [
             {
              "visible": [
               false,
               false,
               true,
               false,
               false,
               false,
               false,
               false,
               false,
               false,
               false,
               false,
               false,
               false,
               false,
               false,
               false,
               false,
               false,
               false
              ]
             },
             {
              "title": "Distribuição anual de financiamentos por porte da empresa"
             }
            ],
            "label": "2004",
            "method": "update"
           },
           {
            "args": [
             {
              "visible": [
               false,
               false,
               false,
               true,
               false,
               false,
               false,
               false,
               false,
               false,
               false,
               false,
               false,
               false,
               false,
               false,
               false,
               false,
               false,
               false
              ]
             },
             {
              "title": "Distribuição anual de financiamentos por porte da empresa"
             }
            ],
            "label": "2005",
            "method": "update"
           },
           {
            "args": [
             {
              "visible": [
               false,
               false,
               false,
               false,
               true,
               false,
               false,
               false,
               false,
               false,
               false,
               false,
               false,
               false,
               false,
               false,
               false,
               false,
               false,
               false
              ]
             },
             {
              "title": "Distribuição anual de financiamentos por porte da empresa"
             }
            ],
            "label": "2006",
            "method": "update"
           },
           {
            "args": [
             {
              "visible": [
               false,
               false,
               false,
               false,
               false,
               true,
               false,
               false,
               false,
               false,
               false,
               false,
               false,
               false,
               false,
               false,
               false,
               false,
               false,
               false
              ]
             },
             {
              "title": "Distribuição anual de financiamentos por porte da empresa"
             }
            ],
            "label": "2007",
            "method": "update"
           },
           {
            "args": [
             {
              "visible": [
               false,
               false,
               false,
               false,
               false,
               false,
               true,
               false,
               false,
               false,
               false,
               false,
               false,
               false,
               false,
               false,
               false,
               false,
               false,
               false
              ]
             },
             {
              "title": "Distribuição anual de financiamentos por porte da empresa"
             }
            ],
            "label": "2008",
            "method": "update"
           },
           {
            "args": [
             {
              "visible": [
               false,
               false,
               false,
               false,
               false,
               false,
               false,
               true,
               false,
               false,
               false,
               false,
               false,
               false,
               false,
               false,
               false,
               false,
               false,
               false
              ]
             },
             {
              "title": "Distribuição anual de financiamentos por porte da empresa"
             }
            ],
            "label": "2009",
            "method": "update"
           },
           {
            "args": [
             {
              "visible": [
               false,
               false,
               false,
               false,
               false,
               false,
               false,
               false,
               true,
               false,
               false,
               false,
               false,
               false,
               false,
               false,
               false,
               false,
               false,
               false
              ]
             },
             {
              "title": "Distribuição anual de financiamentos por porte da empresa"
             }
            ],
            "label": "2010",
            "method": "update"
           },
           {
            "args": [
             {
              "visible": [
               false,
               false,
               false,
               false,
               false,
               false,
               false,
               false,
               false,
               true,
               false,
               false,
               false,
               false,
               false,
               false,
               false,
               false,
               false,
               false
              ]
             },
             {
              "title": "Distribuição anual de financiamentos por porte da empresa"
             }
            ],
            "label": "2011",
            "method": "update"
           },
           {
            "args": [
             {
              "visible": [
               false,
               false,
               false,
               false,
               false,
               false,
               false,
               false,
               false,
               false,
               true,
               false,
               false,
               false,
               false,
               false,
               false,
               false,
               false,
               false
              ]
             },
             {
              "title": "Distribuição anual de financiamentos por porte da empresa"
             }
            ],
            "label": "2012",
            "method": "update"
           },
           {
            "args": [
             {
              "visible": [
               false,
               false,
               false,
               false,
               false,
               false,
               false,
               false,
               false,
               false,
               false,
               true,
               false,
               false,
               false,
               false,
               false,
               false,
               false,
               false
              ]
             },
             {
              "title": "Distribuição anual de financiamentos por porte da empresa"
             }
            ],
            "label": "2013",
            "method": "update"
           },
           {
            "args": [
             {
              "visible": [
               false,
               false,
               false,
               false,
               false,
               false,
               false,
               false,
               false,
               false,
               false,
               false,
               true,
               false,
               false,
               false,
               false,
               false,
               false,
               false
              ]
             },
             {
              "title": "Distribuição anual de financiamentos por porte da empresa"
             }
            ],
            "label": "2014",
            "method": "update"
           },
           {
            "args": [
             {
              "visible": [
               false,
               false,
               false,
               false,
               false,
               false,
               false,
               false,
               false,
               false,
               false,
               false,
               false,
               true,
               false,
               false,
               false,
               false,
               false,
               false
              ]
             },
             {
              "title": "Distribuição anual de financiamentos por porte da empresa"
             }
            ],
            "label": "2015",
            "method": "update"
           },
           {
            "args": [
             {
              "visible": [
               false,
               false,
               false,
               false,
               false,
               false,
               false,
               false,
               false,
               false,
               false,
               false,
               false,
               false,
               true,
               false,
               false,
               false,
               false,
               false
              ]
             },
             {
              "title": "Distribuição anual de financiamentos por porte da empresa"
             }
            ],
            "label": "2016",
            "method": "update"
           },
           {
            "args": [
             {
              "visible": [
               false,
               false,
               false,
               false,
               false,
               false,
               false,
               false,
               false,
               false,
               false,
               false,
               false,
               false,
               false,
               true,
               false,
               false,
               false,
               false
              ]
             },
             {
              "title": "Distribuição anual de financiamentos por porte da empresa"
             }
            ],
            "label": "2017",
            "method": "update"
           },
           {
            "args": [
             {
              "visible": [
               false,
               false,
               false,
               false,
               false,
               false,
               false,
               false,
               false,
               false,
               false,
               false,
               false,
               false,
               false,
               false,
               true,
               false,
               false,
               false
              ]
             },
             {
              "title": "Distribuição anual de financiamentos por porte da empresa"
             }
            ],
            "label": "2018",
            "method": "update"
           },
           {
            "args": [
             {
              "visible": [
               false,
               false,
               false,
               false,
               false,
               false,
               false,
               false,
               false,
               false,
               false,
               false,
               false,
               false,
               false,
               false,
               false,
               true,
               false,
               false
              ]
             },
             {
              "title": "Distribuição anual de financiamentos por porte da empresa"
             }
            ],
            "label": "2019",
            "method": "update"
           },
           {
            "args": [
             {
              "visible": [
               false,
               false,
               false,
               false,
               false,
               false,
               false,
               false,
               false,
               false,
               false,
               false,
               false,
               false,
               false,
               false,
               false,
               false,
               true,
               false
              ]
             },
             {
              "title": "Distribuição anual de financiamentos por porte da empresa"
             }
            ],
            "label": "2020",
            "method": "update"
           },
           {
            "args": [
             {
              "visible": [
               false,
               false,
               false,
               false,
               false,
               false,
               false,
               false,
               false,
               false,
               false,
               false,
               false,
               false,
               false,
               false,
               false,
               false,
               false,
               true
              ]
             },
             {
              "title": "Distribuição anual de financiamentos por porte da empresa"
             }
            ],
            "label": "2021",
            "method": "update"
           }
          ]
         }
        ],
        "template": {
         "data": {
          "bar": [
           {
            "error_x": {
             "color": "#2a3f5f"
            },
            "error_y": {
             "color": "#2a3f5f"
            },
            "marker": {
             "line": {
              "color": "#E5ECF6",
              "width": 0.5
             },
             "pattern": {
              "fillmode": "overlay",
              "size": 10,
              "solidity": 0.2
             }
            },
            "type": "bar"
           }
          ],
          "barpolar": [
           {
            "marker": {
             "line": {
              "color": "#E5ECF6",
              "width": 0.5
             },
             "pattern": {
              "fillmode": "overlay",
              "size": 10,
              "solidity": 0.2
             }
            },
            "type": "barpolar"
           }
          ],
          "carpet": [
           {
            "aaxis": {
             "endlinecolor": "#2a3f5f",
             "gridcolor": "white",
             "linecolor": "white",
             "minorgridcolor": "white",
             "startlinecolor": "#2a3f5f"
            },
            "baxis": {
             "endlinecolor": "#2a3f5f",
             "gridcolor": "white",
             "linecolor": "white",
             "minorgridcolor": "white",
             "startlinecolor": "#2a3f5f"
            },
            "type": "carpet"
           }
          ],
          "choropleth": [
           {
            "colorbar": {
             "outlinewidth": 0,
             "ticks": ""
            },
            "type": "choropleth"
           }
          ],
          "contour": [
           {
            "colorbar": {
             "outlinewidth": 0,
             "ticks": ""
            },
            "colorscale": [
             [
              0,
              "#0d0887"
             ],
             [
              0.1111111111111111,
              "#46039f"
             ],
             [
              0.2222222222222222,
              "#7201a8"
             ],
             [
              0.3333333333333333,
              "#9c179e"
             ],
             [
              0.4444444444444444,
              "#bd3786"
             ],
             [
              0.5555555555555556,
              "#d8576b"
             ],
             [
              0.6666666666666666,
              "#ed7953"
             ],
             [
              0.7777777777777778,
              "#fb9f3a"
             ],
             [
              0.8888888888888888,
              "#fdca26"
             ],
             [
              1,
              "#f0f921"
             ]
            ],
            "type": "contour"
           }
          ],
          "contourcarpet": [
           {
            "colorbar": {
             "outlinewidth": 0,
             "ticks": ""
            },
            "type": "contourcarpet"
           }
          ],
          "heatmap": [
           {
            "colorbar": {
             "outlinewidth": 0,
             "ticks": ""
            },
            "colorscale": [
             [
              0,
              "#0d0887"
             ],
             [
              0.1111111111111111,
              "#46039f"
             ],
             [
              0.2222222222222222,
              "#7201a8"
             ],
             [
              0.3333333333333333,
              "#9c179e"
             ],
             [
              0.4444444444444444,
              "#bd3786"
             ],
             [
              0.5555555555555556,
              "#d8576b"
             ],
             [
              0.6666666666666666,
              "#ed7953"
             ],
             [
              0.7777777777777778,
              "#fb9f3a"
             ],
             [
              0.8888888888888888,
              "#fdca26"
             ],
             [
              1,
              "#f0f921"
             ]
            ],
            "type": "heatmap"
           }
          ],
          "heatmapgl": [
           {
            "colorbar": {
             "outlinewidth": 0,
             "ticks": ""
            },
            "colorscale": [
             [
              0,
              "#0d0887"
             ],
             [
              0.1111111111111111,
              "#46039f"
             ],
             [
              0.2222222222222222,
              "#7201a8"
             ],
             [
              0.3333333333333333,
              "#9c179e"
             ],
             [
              0.4444444444444444,
              "#bd3786"
             ],
             [
              0.5555555555555556,
              "#d8576b"
             ],
             [
              0.6666666666666666,
              "#ed7953"
             ],
             [
              0.7777777777777778,
              "#fb9f3a"
             ],
             [
              0.8888888888888888,
              "#fdca26"
             ],
             [
              1,
              "#f0f921"
             ]
            ],
            "type": "heatmapgl"
           }
          ],
          "histogram": [
           {
            "marker": {
             "pattern": {
              "fillmode": "overlay",
              "size": 10,
              "solidity": 0.2
             }
            },
            "type": "histogram"
           }
          ],
          "histogram2d": [
           {
            "colorbar": {
             "outlinewidth": 0,
             "ticks": ""
            },
            "colorscale": [
             [
              0,
              "#0d0887"
             ],
             [
              0.1111111111111111,
              "#46039f"
             ],
             [
              0.2222222222222222,
              "#7201a8"
             ],
             [
              0.3333333333333333,
              "#9c179e"
             ],
             [
              0.4444444444444444,
              "#bd3786"
             ],
             [
              0.5555555555555556,
              "#d8576b"
             ],
             [
              0.6666666666666666,
              "#ed7953"
             ],
             [
              0.7777777777777778,
              "#fb9f3a"
             ],
             [
              0.8888888888888888,
              "#fdca26"
             ],
             [
              1,
              "#f0f921"
             ]
            ],
            "type": "histogram2d"
           }
          ],
          "histogram2dcontour": [
           {
            "colorbar": {
             "outlinewidth": 0,
             "ticks": ""
            },
            "colorscale": [
             [
              0,
              "#0d0887"
             ],
             [
              0.1111111111111111,
              "#46039f"
             ],
             [
              0.2222222222222222,
              "#7201a8"
             ],
             [
              0.3333333333333333,
              "#9c179e"
             ],
             [
              0.4444444444444444,
              "#bd3786"
             ],
             [
              0.5555555555555556,
              "#d8576b"
             ],
             [
              0.6666666666666666,
              "#ed7953"
             ],
             [
              0.7777777777777778,
              "#fb9f3a"
             ],
             [
              0.8888888888888888,
              "#fdca26"
             ],
             [
              1,
              "#f0f921"
             ]
            ],
            "type": "histogram2dcontour"
           }
          ],
          "mesh3d": [
           {
            "colorbar": {
             "outlinewidth": 0,
             "ticks": ""
            },
            "type": "mesh3d"
           }
          ],
          "parcoords": [
           {
            "line": {
             "colorbar": {
              "outlinewidth": 0,
              "ticks": ""
             }
            },
            "type": "parcoords"
           }
          ],
          "pie": [
           {
            "automargin": true,
            "type": "pie"
           }
          ],
          "scatter": [
           {
            "marker": {
             "colorbar": {
              "outlinewidth": 0,
              "ticks": ""
             }
            },
            "type": "scatter"
           }
          ],
          "scatter3d": [
           {
            "line": {
             "colorbar": {
              "outlinewidth": 0,
              "ticks": ""
             }
            },
            "marker": {
             "colorbar": {
              "outlinewidth": 0,
              "ticks": ""
             }
            },
            "type": "scatter3d"
           }
          ],
          "scattercarpet": [
           {
            "marker": {
             "colorbar": {
              "outlinewidth": 0,
              "ticks": ""
             }
            },
            "type": "scattercarpet"
           }
          ],
          "scattergeo": [
           {
            "marker": {
             "colorbar": {
              "outlinewidth": 0,
              "ticks": ""
             }
            },
            "type": "scattergeo"
           }
          ],
          "scattergl": [
           {
            "marker": {
             "colorbar": {
              "outlinewidth": 0,
              "ticks": ""
             }
            },
            "type": "scattergl"
           }
          ],
          "scattermapbox": [
           {
            "marker": {
             "colorbar": {
              "outlinewidth": 0,
              "ticks": ""
             }
            },
            "type": "scattermapbox"
           }
          ],
          "scatterpolar": [
           {
            "marker": {
             "colorbar": {
              "outlinewidth": 0,
              "ticks": ""
             }
            },
            "type": "scatterpolar"
           }
          ],
          "scatterpolargl": [
           {
            "marker": {
             "colorbar": {
              "outlinewidth": 0,
              "ticks": ""
             }
            },
            "type": "scatterpolargl"
           }
          ],
          "scatterternary": [
           {
            "marker": {
             "colorbar": {
              "outlinewidth": 0,
              "ticks": ""
             }
            },
            "type": "scatterternary"
           }
          ],
          "surface": [
           {
            "colorbar": {
             "outlinewidth": 0,
             "ticks": ""
            },
            "colorscale": [
             [
              0,
              "#0d0887"
             ],
             [
              0.1111111111111111,
              "#46039f"
             ],
             [
              0.2222222222222222,
              "#7201a8"
             ],
             [
              0.3333333333333333,
              "#9c179e"
             ],
             [
              0.4444444444444444,
              "#bd3786"
             ],
             [
              0.5555555555555556,
              "#d8576b"
             ],
             [
              0.6666666666666666,
              "#ed7953"
             ],
             [
              0.7777777777777778,
              "#fb9f3a"
             ],
             [
              0.8888888888888888,
              "#fdca26"
             ],
             [
              1,
              "#f0f921"
             ]
            ],
            "type": "surface"
           }
          ],
          "table": [
           {
            "cells": {
             "fill": {
              "color": "#EBF0F8"
             },
             "line": {
              "color": "white"
             }
            },
            "header": {
             "fill": {
              "color": "#C8D4E3"
             },
             "line": {
              "color": "white"
             }
            },
            "type": "table"
           }
          ]
         },
         "layout": {
          "annotationdefaults": {
           "arrowcolor": "#2a3f5f",
           "arrowhead": 0,
           "arrowwidth": 1
          },
          "autotypenumbers": "strict",
          "coloraxis": {
           "colorbar": {
            "outlinewidth": 0,
            "ticks": ""
           }
          },
          "colorscale": {
           "diverging": [
            [
             0,
             "#8e0152"
            ],
            [
             0.1,
             "#c51b7d"
            ],
            [
             0.2,
             "#de77ae"
            ],
            [
             0.3,
             "#f1b6da"
            ],
            [
             0.4,
             "#fde0ef"
            ],
            [
             0.5,
             "#f7f7f7"
            ],
            [
             0.6,
             "#e6f5d0"
            ],
            [
             0.7,
             "#b8e186"
            ],
            [
             0.8,
             "#7fbc41"
            ],
            [
             0.9,
             "#4d9221"
            ],
            [
             1,
             "#276419"
            ]
           ],
           "sequential": [
            [
             0,
             "#0d0887"
            ],
            [
             0.1111111111111111,
             "#46039f"
            ],
            [
             0.2222222222222222,
             "#7201a8"
            ],
            [
             0.3333333333333333,
             "#9c179e"
            ],
            [
             0.4444444444444444,
             "#bd3786"
            ],
            [
             0.5555555555555556,
             "#d8576b"
            ],
            [
             0.6666666666666666,
             "#ed7953"
            ],
            [
             0.7777777777777778,
             "#fb9f3a"
            ],
            [
             0.8888888888888888,
             "#fdca26"
            ],
            [
             1,
             "#f0f921"
            ]
           ],
           "sequentialminus": [
            [
             0,
             "#0d0887"
            ],
            [
             0.1111111111111111,
             "#46039f"
            ],
            [
             0.2222222222222222,
             "#7201a8"
            ],
            [
             0.3333333333333333,
             "#9c179e"
            ],
            [
             0.4444444444444444,
             "#bd3786"
            ],
            [
             0.5555555555555556,
             "#d8576b"
            ],
            [
             0.6666666666666666,
             "#ed7953"
            ],
            [
             0.7777777777777778,
             "#fb9f3a"
            ],
            [
             0.8888888888888888,
             "#fdca26"
            ],
            [
             1,
             "#f0f921"
            ]
           ]
          },
          "colorway": [
           "#636efa",
           "#EF553B",
           "#00cc96",
           "#ab63fa",
           "#FFA15A",
           "#19d3f3",
           "#FF6692",
           "#B6E880",
           "#FF97FF",
           "#FECB52"
          ],
          "font": {
           "color": "#2a3f5f"
          },
          "geo": {
           "bgcolor": "white",
           "lakecolor": "white",
           "landcolor": "#E5ECF6",
           "showlakes": true,
           "showland": true,
           "subunitcolor": "white"
          },
          "hoverlabel": {
           "align": "left"
          },
          "hovermode": "closest",
          "mapbox": {
           "style": "light"
          },
          "paper_bgcolor": "white",
          "plot_bgcolor": "#E5ECF6",
          "polar": {
           "angularaxis": {
            "gridcolor": "white",
            "linecolor": "white",
            "ticks": ""
           },
           "bgcolor": "#E5ECF6",
           "radialaxis": {
            "gridcolor": "white",
            "linecolor": "white",
            "ticks": ""
           }
          },
          "scene": {
           "xaxis": {
            "backgroundcolor": "#E5ECF6",
            "gridcolor": "white",
            "gridwidth": 2,
            "linecolor": "white",
            "showbackground": true,
            "ticks": "",
            "zerolinecolor": "white"
           },
           "yaxis": {
            "backgroundcolor": "#E5ECF6",
            "gridcolor": "white",
            "gridwidth": 2,
            "linecolor": "white",
            "showbackground": true,
            "ticks": "",
            "zerolinecolor": "white"
           },
           "zaxis": {
            "backgroundcolor": "#E5ECF6",
            "gridcolor": "white",
            "gridwidth": 2,
            "linecolor": "white",
            "showbackground": true,
            "ticks": "",
            "zerolinecolor": "white"
           }
          },
          "shapedefaults": {
           "line": {
            "color": "#2a3f5f"
           }
          },
          "ternary": {
           "aaxis": {
            "gridcolor": "white",
            "linecolor": "white",
            "ticks": ""
           },
           "baxis": {
            "gridcolor": "white",
            "linecolor": "white",
            "ticks": ""
           },
           "bgcolor": "#E5ECF6",
           "caxis": {
            "gridcolor": "white",
            "linecolor": "white",
            "ticks": ""
           }
          },
          "title": {
           "x": 0.05
          },
          "xaxis": {
           "automargin": true,
           "gridcolor": "white",
           "linecolor": "white",
           "ticks": "",
           "title": {
            "standoff": 15
           },
           "zerolinecolor": "white",
           "zerolinewidth": 2
          },
          "yaxis": {
           "automargin": true,
           "gridcolor": "white",
           "linecolor": "white",
           "ticks": "",
           "title": {
            "standoff": 15
           },
           "zerolinecolor": "white",
           "zerolinewidth": 2
          }
         }
        },
        "title": {
         "text": "Distribuição anual de financiamentos por porte da empresa"
        }
       }
      }
     },
     "metadata": {}
    }
   ],
   "metadata": {}
  },
  {
   "cell_type": "markdown",
   "source": [
    "4 ) Gráficos para visualização no mapa \r\n",
    "\r\n",
    "OBS: Incompleto. Por enquanto foi feito um gráfico de financiamentos por ano para o estado de São Paulo para demonstração"
   ],
   "metadata": {}
  },
  {
   "cell_type": "code",
   "execution_count": 88,
   "source": [
    "# Financiamentos para empresas do estado de São Paulo ao longo do tempo\r\n",
    "\r\n",
    "financiamentos_sp_ano = df[(df.uf == ' SP') & (df.data_da_contratacao)]\r\n",
    "financiamentos_sp_ano = financiamentos_sp_ano[['uf', 'data_da_contratacao']]\r\n",
    "\r\n",
    "data = pd.to_datetime(financiamentos_sp_ano.data_da_contratacao, format = '%Y-%m-%d').dt.strftime('%Y')\r\n",
    "\r\n",
    "ano, contador = np.unique(data, return_counts = True)\r\n",
    "ano = pd.to_datetime(ano, format = \"%Y\").strftime('%Y')\r\n",
    "\r\n",
    "print('Número de financiamentos por ano no estado de São Paulo:')\r\n",
    "for i in range(len(ano)): print(ano[i], '   ', contador[i])\r\n",
    "\r\n",
    "fig_sp = plt.figure(figsize = (15,6))\r\n",
    "plt.bar(ano, contador, edgecolor = 'black')\r\n",
    "plt.title('Número de financiamentos por ano no estado de São Paulo')\r\n",
    "plt.show()\r\n",
    "\r\n",
    "\r\n",
    "tmpfile_sp = BytesIO()\r\n",
    "fig_sp.savefig(tmpfile_sp, format = 'png')\r\n",
    "encoded = base64.b64encode(tmpfile_sp.getvalue()).decode('utf-8')\r\n",
    "\r\n",
    "html_sp = '<img src=\\'data:image/png;base64,{}\\'>'.format(encoded)\r\n",
    "\r\n",
    "iframe = IFrame(html_sp, width = 1200, height = 550)\r\n",
    "popup = folium.Popup(iframe, max_width= 2000)\r\n"
   ],
   "outputs": [
    {
     "output_type": "stream",
     "name": "stdout",
     "text": [
      "Número de financiamentos por ano no estado de São Paulo:\n",
      "2002     8408\n",
      "2003     11050\n",
      "2004     9178\n",
      "2005     12240\n",
      "2006     13605\n",
      "2007     20435\n",
      "2008     23831\n",
      "2009     27834\n",
      "2010     48426\n",
      "2011     56401\n",
      "2012     44418\n",
      "2013     41839\n",
      "2014     37021\n",
      "2015     20064\n",
      "2016     14895\n",
      "2017     17158\n",
      "2018     11048\n",
      "2019     5546\n",
      "2020     8760\n",
      "2021     2577\n"
     ]
    },
    {
     "output_type": "display_data",
     "data": {
      "text/plain": [
       "<Figure size 1080x432 with 1 Axes>"
      ],
      "image/svg+xml": "<?xml version=\"1.0\" encoding=\"utf-8\" standalone=\"no\"?>\r\n<!DOCTYPE svg PUBLIC \"-//W3C//DTD SVG 1.1//EN\"\r\n  \"http://www.w3.org/Graphics/SVG/1.1/DTD/svg11.dtd\">\r\n<svg height=\"372.83625pt\" version=\"1.1\" viewBox=\"0 0 890.2125 372.83625\" width=\"890.2125pt\" xmlns=\"http://www.w3.org/2000/svg\" xmlns:xlink=\"http://www.w3.org/1999/xlink\">\r\n <metadata>\r\n  <rdf:RDF xmlns:cc=\"http://creativecommons.org/ns#\" xmlns:dc=\"http://purl.org/dc/elements/1.1/\" xmlns:rdf=\"http://www.w3.org/1999/02/22-rdf-syntax-ns#\">\r\n   <cc:Work>\r\n    <dc:type rdf:resource=\"http://purl.org/dc/dcmitype/StillImage\"/>\r\n    <dc:date>2021-08-15T11:32:59.070138</dc:date>\r\n    <dc:format>image/svg+xml</dc:format>\r\n    <dc:creator>\r\n     <cc:Agent>\r\n      <dc:title>Matplotlib v3.4.2, https://matplotlib.org/</dc:title>\r\n     </cc:Agent>\r\n    </dc:creator>\r\n   </cc:Work>\r\n  </rdf:RDF>\r\n </metadata>\r\n <defs>\r\n  <style type=\"text/css\">*{stroke-linecap:butt;stroke-linejoin:round;}</style>\r\n </defs>\r\n <g id=\"figure_1\">\r\n  <g id=\"patch_1\">\r\n   <path d=\"M 0 372.83625 \r\nL 890.2125 372.83625 \r\nL 890.2125 0 \r\nL 0 0 \r\nz\r\n\" style=\"fill:none;\"/>\r\n  </g>\r\n  <g id=\"axes_1\">\r\n   <g id=\"patch_2\">\r\n    <path d=\"M 46.0125 348.958125 \r\nL 883.0125 348.958125 \r\nL 883.0125 22.798125 \r\nL 46.0125 22.798125 \r\nz\r\n\" style=\"fill:#ffffff;\"/>\r\n   </g>\r\n   <g id=\"patch_3\">\r\n    <path clip-path=\"url(#p4d2562331e)\" d=\"M 84.057955 348.958125 \r\nL 114.801756 348.958125 \r\nL 114.801756 302.651055 \r\nL 84.057955 302.651055 \r\nz\r\n\" style=\"fill:#1f77b4;stroke:#000000;stroke-linejoin:miter;\"/>\r\n   </g>\r\n   <g id=\"patch_4\">\r\n    <path clip-path=\"url(#p4d2562331e)\" d=\"M 122.487707 348.958125 \r\nL 153.231508 348.958125 \r\nL 153.231508 288.100237 \r\nL 122.487707 288.100237 \r\nz\r\n\" style=\"fill:#1f77b4;stroke:#000000;stroke-linejoin:miter;\"/>\r\n   </g>\r\n   <g id=\"patch_5\">\r\n    <path clip-path=\"url(#p4d2562331e)\" d=\"M 160.917459 348.958125 \r\nL 191.66126 348.958125 \r\nL 191.66126 298.41028 \r\nL 160.917459 298.41028 \r\nz\r\n\" style=\"fill:#1f77b4;stroke:#000000;stroke-linejoin:miter;\"/>\r\n   </g>\r\n   <g id=\"patch_6\">\r\n    <path clip-path=\"url(#p4d2562331e)\" d=\"M 199.347211 348.958125 \r\nL 230.091012 348.958125 \r\nL 230.091012 281.546311 \r\nL 199.347211 281.546311 \r\nz\r\n\" style=\"fill:#1f77b4;stroke:#000000;stroke-linejoin:miter;\"/>\r\n   </g>\r\n   <g id=\"patch_7\">\r\n    <path clip-path=\"url(#p4d2562331e)\" d=\"M 237.776963 348.958125 \r\nL 268.520764 348.958125 \r\nL 268.520764 274.028572 \r\nL 237.776963 274.028572 \r\nz\r\n\" style=\"fill:#1f77b4;stroke:#000000;stroke-linejoin:miter;\"/>\r\n   </g>\r\n   <g id=\"patch_8\">\r\n    <path clip-path=\"url(#p4d2562331e)\" d=\"M 276.206715 348.958125 \r\nL 306.950517 348.958125 \r\nL 306.950517 236.412339 \r\nL 276.206715 236.412339 \r\nz\r\n\" style=\"fill:#1f77b4;stroke:#000000;stroke-linejoin:miter;\"/>\r\n   </g>\r\n   <g id=\"patch_9\">\r\n    <path clip-path=\"url(#p4d2562331e)\" d=\"M 314.636467 348.958125 \r\nL 345.380269 348.958125 \r\nL 345.380269 217.708865 \r\nL 314.636467 217.708865 \r\nz\r\n\" style=\"fill:#1f77b4;stroke:#000000;stroke-linejoin:miter;\"/>\r\n   </g>\r\n   <g id=\"patch_10\">\r\n    <path clip-path=\"url(#p4d2562331e)\" d=\"M 353.066219 348.958125 \r\nL 383.810021 348.958125 \r\nL 383.810021 195.662338 \r\nL 353.066219 195.662338 \r\nz\r\n\" style=\"fill:#1f77b4;stroke:#000000;stroke-linejoin:miter;\"/>\r\n   </g>\r\n   <g id=\"patch_11\">\r\n    <path clip-path=\"url(#p4d2562331e)\" d=\"M 391.495971 348.958125 \r\nL 422.239773 348.958125 \r\nL 422.239773 82.251875 \r\nL 391.495971 82.251875 \r\nz\r\n\" style=\"fill:#1f77b4;stroke:#000000;stroke-linejoin:miter;\"/>\r\n   </g>\r\n   <g id=\"patch_12\">\r\n    <path clip-path=\"url(#p4d2562331e)\" d=\"M 429.925723 348.958125 \r\nL 460.669525 348.958125 \r\nL 460.669525 38.329554 \r\nL 429.925723 38.329554 \r\nz\r\n\" style=\"fill:#1f77b4;stroke:#000000;stroke-linejoin:miter;\"/>\r\n   </g>\r\n   <g id=\"patch_13\">\r\n    <path clip-path=\"url(#p4d2562331e)\" d=\"M 468.355475 348.958125 \r\nL 499.099277 348.958125 \r\nL 499.099277 104.32594 \r\nL 468.355475 104.32594 \r\nz\r\n\" style=\"fill:#1f77b4;stroke:#000000;stroke-linejoin:miter;\"/>\r\n   </g>\r\n   <g id=\"patch_14\">\r\n    <path clip-path=\"url(#p4d2562331e)\" d=\"M 506.785227 348.958125 \r\nL 537.529029 348.958125 \r\nL 537.529029 118.529785 \r\nL 506.785227 118.529785 \r\nz\r\n\" style=\"fill:#1f77b4;stroke:#000000;stroke-linejoin:miter;\"/>\r\n   </g>\r\n   <g id=\"patch_15\">\r\n    <path clip-path=\"url(#p4d2562331e)\" d=\"M 545.214979 348.958125 \r\nL 575.958781 348.958125 \r\nL 575.958781 145.064926 \r\nL 545.214979 145.064926 \r\nz\r\n\" style=\"fill:#1f77b4;stroke:#000000;stroke-linejoin:miter;\"/>\r\n   </g>\r\n   <g id=\"patch_16\">\r\n    <path clip-path=\"url(#p4d2562331e)\" d=\"M 583.644731 348.958125 \r\nL 614.388533 348.958125 \r\nL 614.388533 238.455622 \r\nL 583.644731 238.455622 \r\nz\r\n\" style=\"fill:#1f77b4;stroke:#000000;stroke-linejoin:miter;\"/>\r\n   </g>\r\n   <g id=\"patch_17\">\r\n    <path clip-path=\"url(#p4d2562331e)\" d=\"M 622.074483 348.958125 \r\nL 652.818285 348.958125 \r\nL 652.818285 266.923896 \r\nL 622.074483 266.923896 \r\nz\r\n\" style=\"fill:#1f77b4;stroke:#000000;stroke-linejoin:miter;\"/>\r\n   </g>\r\n   <g id=\"patch_18\">\r\n    <path clip-path=\"url(#p4d2562331e)\" d=\"M 660.504236 348.958125 \r\nL 691.248037 348.958125 \r\nL 691.248037 254.460421 \r\nL 660.504236 254.460421 \r\nz\r\n\" style=\"fill:#1f77b4;stroke:#000000;stroke-linejoin:miter;\"/>\r\n   </g>\r\n   <g id=\"patch_19\">\r\n    <path clip-path=\"url(#p4d2562331e)\" d=\"M 698.933988 348.958125 \r\nL 729.677789 348.958125 \r\nL 729.677789 288.111252 \r\nL 698.933988 288.111252 \r\nz\r\n\" style=\"fill:#1f77b4;stroke:#000000;stroke-linejoin:miter;\"/>\r\n   </g>\r\n   <g id=\"patch_20\">\r\n    <path clip-path=\"url(#p4d2562331e)\" d=\"M 737.36374 348.958125 \r\nL 768.107541 348.958125 \r\nL 768.107541 318.413524 \r\nL 737.36374 318.413524 \r\nz\r\n\" style=\"fill:#1f77b4;stroke:#000000;stroke-linejoin:miter;\"/>\r\n   </g>\r\n   <g id=\"patch_21\">\r\n    <path clip-path=\"url(#p4d2562331e)\" d=\"M 775.793492 348.958125 \r\nL 806.537293 348.958125 \r\nL 806.537293 300.712415 \r\nL 775.793492 300.712415 \r\nz\r\n\" style=\"fill:#1f77b4;stroke:#000000;stroke-linejoin:miter;\"/>\r\n   </g>\r\n   <g id=\"patch_22\">\r\n    <path clip-path=\"url(#p4d2562331e)\" d=\"M 814.223244 348.958125 \r\nL 844.967045 348.958125 \r\nL 844.967045 334.765295 \r\nL 814.223244 334.765295 \r\nz\r\n\" style=\"fill:#1f77b4;stroke:#000000;stroke-linejoin:miter;\"/>\r\n   </g>\r\n   <g id=\"matplotlib.axis_1\">\r\n    <g id=\"xtick_1\">\r\n     <g id=\"line2d_1\">\r\n      <defs>\r\n       <path d=\"M 0 0 \r\nL 0 3.5 \r\n\" id=\"m3965d5f190\" style=\"stroke:#000000;stroke-width:0.8;\"/>\r\n      </defs>\r\n      <g>\r\n       <use style=\"stroke:#000000;stroke-width:0.8;\" x=\"99.429855\" xlink:href=\"#m3965d5f190\" y=\"348.958125\"/>\r\n      </g>\r\n     </g>\r\n     <g id=\"text_1\">\r\n      <!-- 2002 -->\r\n      <g transform=\"translate(86.704855 363.556562)scale(0.1 -0.1)\">\r\n       <defs>\r\n        <path d=\"M 1228 531 \r\nL 3431 531 \r\nL 3431 0 \r\nL 469 0 \r\nL 469 531 \r\nQ 828 903 1448 1529 \r\nQ 2069 2156 2228 2338 \r\nQ 2531 2678 2651 2914 \r\nQ 2772 3150 2772 3378 \r\nQ 2772 3750 2511 3984 \r\nQ 2250 4219 1831 4219 \r\nQ 1534 4219 1204 4116 \r\nQ 875 4013 500 3803 \r\nL 500 4441 \r\nQ 881 4594 1212 4672 \r\nQ 1544 4750 1819 4750 \r\nQ 2544 4750 2975 4387 \r\nQ 3406 4025 3406 3419 \r\nQ 3406 3131 3298 2873 \r\nQ 3191 2616 2906 2266 \r\nQ 2828 2175 2409 1742 \r\nQ 1991 1309 1228 531 \r\nz\r\n\" id=\"DejaVuSans-32\" transform=\"scale(0.015625)\"/>\r\n        <path d=\"M 2034 4250 \r\nQ 1547 4250 1301 3770 \r\nQ 1056 3291 1056 2328 \r\nQ 1056 1369 1301 889 \r\nQ 1547 409 2034 409 \r\nQ 2525 409 2770 889 \r\nQ 3016 1369 3016 2328 \r\nQ 3016 3291 2770 3770 \r\nQ 2525 4250 2034 4250 \r\nz\r\nM 2034 4750 \r\nQ 2819 4750 3233 4129 \r\nQ 3647 3509 3647 2328 \r\nQ 3647 1150 3233 529 \r\nQ 2819 -91 2034 -91 \r\nQ 1250 -91 836 529 \r\nQ 422 1150 422 2328 \r\nQ 422 3509 836 4129 \r\nQ 1250 4750 2034 4750 \r\nz\r\n\" id=\"DejaVuSans-30\" transform=\"scale(0.015625)\"/>\r\n       </defs>\r\n       <use xlink:href=\"#DejaVuSans-32\"/>\r\n       <use x=\"63.623047\" xlink:href=\"#DejaVuSans-30\"/>\r\n       <use x=\"127.246094\" xlink:href=\"#DejaVuSans-30\"/>\r\n       <use x=\"190.869141\" xlink:href=\"#DejaVuSans-32\"/>\r\n      </g>\r\n     </g>\r\n    </g>\r\n    <g id=\"xtick_2\">\r\n     <g id=\"line2d_2\">\r\n      <g>\r\n       <use style=\"stroke:#000000;stroke-width:0.8;\" x=\"137.859607\" xlink:href=\"#m3965d5f190\" y=\"348.958125\"/>\r\n      </g>\r\n     </g>\r\n     <g id=\"text_2\">\r\n      <!-- 2003 -->\r\n      <g transform=\"translate(125.134607 363.556562)scale(0.1 -0.1)\">\r\n       <defs>\r\n        <path d=\"M 2597 2516 \r\nQ 3050 2419 3304 2112 \r\nQ 3559 1806 3559 1356 \r\nQ 3559 666 3084 287 \r\nQ 2609 -91 1734 -91 \r\nQ 1441 -91 1130 -33 \r\nQ 819 25 488 141 \r\nL 488 750 \r\nQ 750 597 1062 519 \r\nQ 1375 441 1716 441 \r\nQ 2309 441 2620 675 \r\nQ 2931 909 2931 1356 \r\nQ 2931 1769 2642 2001 \r\nQ 2353 2234 1838 2234 \r\nL 1294 2234 \r\nL 1294 2753 \r\nL 1863 2753 \r\nQ 2328 2753 2575 2939 \r\nQ 2822 3125 2822 3475 \r\nQ 2822 3834 2567 4026 \r\nQ 2313 4219 1838 4219 \r\nQ 1578 4219 1281 4162 \r\nQ 984 4106 628 3988 \r\nL 628 4550 \r\nQ 988 4650 1302 4700 \r\nQ 1616 4750 1894 4750 \r\nQ 2613 4750 3031 4423 \r\nQ 3450 4097 3450 3541 \r\nQ 3450 3153 3228 2886 \r\nQ 3006 2619 2597 2516 \r\nz\r\n\" id=\"DejaVuSans-33\" transform=\"scale(0.015625)\"/>\r\n       </defs>\r\n       <use xlink:href=\"#DejaVuSans-32\"/>\r\n       <use x=\"63.623047\" xlink:href=\"#DejaVuSans-30\"/>\r\n       <use x=\"127.246094\" xlink:href=\"#DejaVuSans-30\"/>\r\n       <use x=\"190.869141\" xlink:href=\"#DejaVuSans-33\"/>\r\n      </g>\r\n     </g>\r\n    </g>\r\n    <g id=\"xtick_3\">\r\n     <g id=\"line2d_3\">\r\n      <g>\r\n       <use style=\"stroke:#000000;stroke-width:0.8;\" x=\"176.28936\" xlink:href=\"#m3965d5f190\" y=\"348.958125\"/>\r\n      </g>\r\n     </g>\r\n     <g id=\"text_3\">\r\n      <!-- 2004 -->\r\n      <g transform=\"translate(163.56436 363.556562)scale(0.1 -0.1)\">\r\n       <defs>\r\n        <path d=\"M 2419 4116 \r\nL 825 1625 \r\nL 2419 1625 \r\nL 2419 4116 \r\nz\r\nM 2253 4666 \r\nL 3047 4666 \r\nL 3047 1625 \r\nL 3713 1625 \r\nL 3713 1100 \r\nL 3047 1100 \r\nL 3047 0 \r\nL 2419 0 \r\nL 2419 1100 \r\nL 313 1100 \r\nL 313 1709 \r\nL 2253 4666 \r\nz\r\n\" id=\"DejaVuSans-34\" transform=\"scale(0.015625)\"/>\r\n       </defs>\r\n       <use xlink:href=\"#DejaVuSans-32\"/>\r\n       <use x=\"63.623047\" xlink:href=\"#DejaVuSans-30\"/>\r\n       <use x=\"127.246094\" xlink:href=\"#DejaVuSans-30\"/>\r\n       <use x=\"190.869141\" xlink:href=\"#DejaVuSans-34\"/>\r\n      </g>\r\n     </g>\r\n    </g>\r\n    <g id=\"xtick_4\">\r\n     <g id=\"line2d_4\">\r\n      <g>\r\n       <use style=\"stroke:#000000;stroke-width:0.8;\" x=\"214.719112\" xlink:href=\"#m3965d5f190\" y=\"348.958125\"/>\r\n      </g>\r\n     </g>\r\n     <g id=\"text_4\">\r\n      <!-- 2005 -->\r\n      <g transform=\"translate(201.994112 363.556562)scale(0.1 -0.1)\">\r\n       <defs>\r\n        <path d=\"M 691 4666 \r\nL 3169 4666 \r\nL 3169 4134 \r\nL 1269 4134 \r\nL 1269 2991 \r\nQ 1406 3038 1543 3061 \r\nQ 1681 3084 1819 3084 \r\nQ 2600 3084 3056 2656 \r\nQ 3513 2228 3513 1497 \r\nQ 3513 744 3044 326 \r\nQ 2575 -91 1722 -91 \r\nQ 1428 -91 1123 -41 \r\nQ 819 9 494 109 \r\nL 494 744 \r\nQ 775 591 1075 516 \r\nQ 1375 441 1709 441 \r\nQ 2250 441 2565 725 \r\nQ 2881 1009 2881 1497 \r\nQ 2881 1984 2565 2268 \r\nQ 2250 2553 1709 2553 \r\nQ 1456 2553 1204 2497 \r\nQ 953 2441 691 2322 \r\nL 691 4666 \r\nz\r\n\" id=\"DejaVuSans-35\" transform=\"scale(0.015625)\"/>\r\n       </defs>\r\n       <use xlink:href=\"#DejaVuSans-32\"/>\r\n       <use x=\"63.623047\" xlink:href=\"#DejaVuSans-30\"/>\r\n       <use x=\"127.246094\" xlink:href=\"#DejaVuSans-30\"/>\r\n       <use x=\"190.869141\" xlink:href=\"#DejaVuSans-35\"/>\r\n      </g>\r\n     </g>\r\n    </g>\r\n    <g id=\"xtick_5\">\r\n     <g id=\"line2d_5\">\r\n      <g>\r\n       <use style=\"stroke:#000000;stroke-width:0.8;\" x=\"253.148864\" xlink:href=\"#m3965d5f190\" y=\"348.958125\"/>\r\n      </g>\r\n     </g>\r\n     <g id=\"text_5\">\r\n      <!-- 2006 -->\r\n      <g transform=\"translate(240.423864 363.556562)scale(0.1 -0.1)\">\r\n       <defs>\r\n        <path d=\"M 2113 2584 \r\nQ 1688 2584 1439 2293 \r\nQ 1191 2003 1191 1497 \r\nQ 1191 994 1439 701 \r\nQ 1688 409 2113 409 \r\nQ 2538 409 2786 701 \r\nQ 3034 994 3034 1497 \r\nQ 3034 2003 2786 2293 \r\nQ 2538 2584 2113 2584 \r\nz\r\nM 3366 4563 \r\nL 3366 3988 \r\nQ 3128 4100 2886 4159 \r\nQ 2644 4219 2406 4219 \r\nQ 1781 4219 1451 3797 \r\nQ 1122 3375 1075 2522 \r\nQ 1259 2794 1537 2939 \r\nQ 1816 3084 2150 3084 \r\nQ 2853 3084 3261 2657 \r\nQ 3669 2231 3669 1497 \r\nQ 3669 778 3244 343 \r\nQ 2819 -91 2113 -91 \r\nQ 1303 -91 875 529 \r\nQ 447 1150 447 2328 \r\nQ 447 3434 972 4092 \r\nQ 1497 4750 2381 4750 \r\nQ 2619 4750 2861 4703 \r\nQ 3103 4656 3366 4563 \r\nz\r\n\" id=\"DejaVuSans-36\" transform=\"scale(0.015625)\"/>\r\n       </defs>\r\n       <use xlink:href=\"#DejaVuSans-32\"/>\r\n       <use x=\"63.623047\" xlink:href=\"#DejaVuSans-30\"/>\r\n       <use x=\"127.246094\" xlink:href=\"#DejaVuSans-30\"/>\r\n       <use x=\"190.869141\" xlink:href=\"#DejaVuSans-36\"/>\r\n      </g>\r\n     </g>\r\n    </g>\r\n    <g id=\"xtick_6\">\r\n     <g id=\"line2d_6\">\r\n      <g>\r\n       <use style=\"stroke:#000000;stroke-width:0.8;\" x=\"291.578616\" xlink:href=\"#m3965d5f190\" y=\"348.958125\"/>\r\n      </g>\r\n     </g>\r\n     <g id=\"text_6\">\r\n      <!-- 2007 -->\r\n      <g transform=\"translate(278.853616 363.556562)scale(0.1 -0.1)\">\r\n       <defs>\r\n        <path d=\"M 525 4666 \r\nL 3525 4666 \r\nL 3525 4397 \r\nL 1831 0 \r\nL 1172 0 \r\nL 2766 4134 \r\nL 525 4134 \r\nL 525 4666 \r\nz\r\n\" id=\"DejaVuSans-37\" transform=\"scale(0.015625)\"/>\r\n       </defs>\r\n       <use xlink:href=\"#DejaVuSans-32\"/>\r\n       <use x=\"63.623047\" xlink:href=\"#DejaVuSans-30\"/>\r\n       <use x=\"127.246094\" xlink:href=\"#DejaVuSans-30\"/>\r\n       <use x=\"190.869141\" xlink:href=\"#DejaVuSans-37\"/>\r\n      </g>\r\n     </g>\r\n    </g>\r\n    <g id=\"xtick_7\">\r\n     <g id=\"line2d_7\">\r\n      <g>\r\n       <use style=\"stroke:#000000;stroke-width:0.8;\" x=\"330.008368\" xlink:href=\"#m3965d5f190\" y=\"348.958125\"/>\r\n      </g>\r\n     </g>\r\n     <g id=\"text_7\">\r\n      <!-- 2008 -->\r\n      <g transform=\"translate(317.283368 363.556562)scale(0.1 -0.1)\">\r\n       <defs>\r\n        <path d=\"M 2034 2216 \r\nQ 1584 2216 1326 1975 \r\nQ 1069 1734 1069 1313 \r\nQ 1069 891 1326 650 \r\nQ 1584 409 2034 409 \r\nQ 2484 409 2743 651 \r\nQ 3003 894 3003 1313 \r\nQ 3003 1734 2745 1975 \r\nQ 2488 2216 2034 2216 \r\nz\r\nM 1403 2484 \r\nQ 997 2584 770 2862 \r\nQ 544 3141 544 3541 \r\nQ 544 4100 942 4425 \r\nQ 1341 4750 2034 4750 \r\nQ 2731 4750 3128 4425 \r\nQ 3525 4100 3525 3541 \r\nQ 3525 3141 3298 2862 \r\nQ 3072 2584 2669 2484 \r\nQ 3125 2378 3379 2068 \r\nQ 3634 1759 3634 1313 \r\nQ 3634 634 3220 271 \r\nQ 2806 -91 2034 -91 \r\nQ 1263 -91 848 271 \r\nQ 434 634 434 1313 \r\nQ 434 1759 690 2068 \r\nQ 947 2378 1403 2484 \r\nz\r\nM 1172 3481 \r\nQ 1172 3119 1398 2916 \r\nQ 1625 2713 2034 2713 \r\nQ 2441 2713 2670 2916 \r\nQ 2900 3119 2900 3481 \r\nQ 2900 3844 2670 4047 \r\nQ 2441 4250 2034 4250 \r\nQ 1625 4250 1398 4047 \r\nQ 1172 3844 1172 3481 \r\nz\r\n\" id=\"DejaVuSans-38\" transform=\"scale(0.015625)\"/>\r\n       </defs>\r\n       <use xlink:href=\"#DejaVuSans-32\"/>\r\n       <use x=\"63.623047\" xlink:href=\"#DejaVuSans-30\"/>\r\n       <use x=\"127.246094\" xlink:href=\"#DejaVuSans-30\"/>\r\n       <use x=\"190.869141\" xlink:href=\"#DejaVuSans-38\"/>\r\n      </g>\r\n     </g>\r\n    </g>\r\n    <g id=\"xtick_8\">\r\n     <g id=\"line2d_8\">\r\n      <g>\r\n       <use style=\"stroke:#000000;stroke-width:0.8;\" x=\"368.43812\" xlink:href=\"#m3965d5f190\" y=\"348.958125\"/>\r\n      </g>\r\n     </g>\r\n     <g id=\"text_8\">\r\n      <!-- 2009 -->\r\n      <g transform=\"translate(355.71312 363.556562)scale(0.1 -0.1)\">\r\n       <defs>\r\n        <path d=\"M 703 97 \r\nL 703 672 \r\nQ 941 559 1184 500 \r\nQ 1428 441 1663 441 \r\nQ 2288 441 2617 861 \r\nQ 2947 1281 2994 2138 \r\nQ 2813 1869 2534 1725 \r\nQ 2256 1581 1919 1581 \r\nQ 1219 1581 811 2004 \r\nQ 403 2428 403 3163 \r\nQ 403 3881 828 4315 \r\nQ 1253 4750 1959 4750 \r\nQ 2769 4750 3195 4129 \r\nQ 3622 3509 3622 2328 \r\nQ 3622 1225 3098 567 \r\nQ 2575 -91 1691 -91 \r\nQ 1453 -91 1209 -44 \r\nQ 966 3 703 97 \r\nz\r\nM 1959 2075 \r\nQ 2384 2075 2632 2365 \r\nQ 2881 2656 2881 3163 \r\nQ 2881 3666 2632 3958 \r\nQ 2384 4250 1959 4250 \r\nQ 1534 4250 1286 3958 \r\nQ 1038 3666 1038 3163 \r\nQ 1038 2656 1286 2365 \r\nQ 1534 2075 1959 2075 \r\nz\r\n\" id=\"DejaVuSans-39\" transform=\"scale(0.015625)\"/>\r\n       </defs>\r\n       <use xlink:href=\"#DejaVuSans-32\"/>\r\n       <use x=\"63.623047\" xlink:href=\"#DejaVuSans-30\"/>\r\n       <use x=\"127.246094\" xlink:href=\"#DejaVuSans-30\"/>\r\n       <use x=\"190.869141\" xlink:href=\"#DejaVuSans-39\"/>\r\n      </g>\r\n     </g>\r\n    </g>\r\n    <g id=\"xtick_9\">\r\n     <g id=\"line2d_9\">\r\n      <g>\r\n       <use style=\"stroke:#000000;stroke-width:0.8;\" x=\"406.867872\" xlink:href=\"#m3965d5f190\" y=\"348.958125\"/>\r\n      </g>\r\n     </g>\r\n     <g id=\"text_9\">\r\n      <!-- 2010 -->\r\n      <g transform=\"translate(394.142872 363.556562)scale(0.1 -0.1)\">\r\n       <defs>\r\n        <path d=\"M 794 531 \r\nL 1825 531 \r\nL 1825 4091 \r\nL 703 3866 \r\nL 703 4441 \r\nL 1819 4666 \r\nL 2450 4666 \r\nL 2450 531 \r\nL 3481 531 \r\nL 3481 0 \r\nL 794 0 \r\nL 794 531 \r\nz\r\n\" id=\"DejaVuSans-31\" transform=\"scale(0.015625)\"/>\r\n       </defs>\r\n       <use xlink:href=\"#DejaVuSans-32\"/>\r\n       <use x=\"63.623047\" xlink:href=\"#DejaVuSans-30\"/>\r\n       <use x=\"127.246094\" xlink:href=\"#DejaVuSans-31\"/>\r\n       <use x=\"190.869141\" xlink:href=\"#DejaVuSans-30\"/>\r\n      </g>\r\n     </g>\r\n    </g>\r\n    <g id=\"xtick_10\">\r\n     <g id=\"line2d_10\">\r\n      <g>\r\n       <use style=\"stroke:#000000;stroke-width:0.8;\" x=\"445.297624\" xlink:href=\"#m3965d5f190\" y=\"348.958125\"/>\r\n      </g>\r\n     </g>\r\n     <g id=\"text_10\">\r\n      <!-- 2011 -->\r\n      <g transform=\"translate(432.572624 363.556562)scale(0.1 -0.1)\">\r\n       <use xlink:href=\"#DejaVuSans-32\"/>\r\n       <use x=\"63.623047\" xlink:href=\"#DejaVuSans-30\"/>\r\n       <use x=\"127.246094\" xlink:href=\"#DejaVuSans-31\"/>\r\n       <use x=\"190.869141\" xlink:href=\"#DejaVuSans-31\"/>\r\n      </g>\r\n     </g>\r\n    </g>\r\n    <g id=\"xtick_11\">\r\n     <g id=\"line2d_11\">\r\n      <g>\r\n       <use style=\"stroke:#000000;stroke-width:0.8;\" x=\"483.727376\" xlink:href=\"#m3965d5f190\" y=\"348.958125\"/>\r\n      </g>\r\n     </g>\r\n     <g id=\"text_11\">\r\n      <!-- 2012 -->\r\n      <g transform=\"translate(471.002376 363.556562)scale(0.1 -0.1)\">\r\n       <use xlink:href=\"#DejaVuSans-32\"/>\r\n       <use x=\"63.623047\" xlink:href=\"#DejaVuSans-30\"/>\r\n       <use x=\"127.246094\" xlink:href=\"#DejaVuSans-31\"/>\r\n       <use x=\"190.869141\" xlink:href=\"#DejaVuSans-32\"/>\r\n      </g>\r\n     </g>\r\n    </g>\r\n    <g id=\"xtick_12\">\r\n     <g id=\"line2d_12\">\r\n      <g>\r\n       <use style=\"stroke:#000000;stroke-width:0.8;\" x=\"522.157128\" xlink:href=\"#m3965d5f190\" y=\"348.958125\"/>\r\n      </g>\r\n     </g>\r\n     <g id=\"text_12\">\r\n      <!-- 2013 -->\r\n      <g transform=\"translate(509.432128 363.556562)scale(0.1 -0.1)\">\r\n       <use xlink:href=\"#DejaVuSans-32\"/>\r\n       <use x=\"63.623047\" xlink:href=\"#DejaVuSans-30\"/>\r\n       <use x=\"127.246094\" xlink:href=\"#DejaVuSans-31\"/>\r\n       <use x=\"190.869141\" xlink:href=\"#DejaVuSans-33\"/>\r\n      </g>\r\n     </g>\r\n    </g>\r\n    <g id=\"xtick_13\">\r\n     <g id=\"line2d_13\">\r\n      <g>\r\n       <use style=\"stroke:#000000;stroke-width:0.8;\" x=\"560.58688\" xlink:href=\"#m3965d5f190\" y=\"348.958125\"/>\r\n      </g>\r\n     </g>\r\n     <g id=\"text_13\">\r\n      <!-- 2014 -->\r\n      <g transform=\"translate(547.86188 363.556562)scale(0.1 -0.1)\">\r\n       <use xlink:href=\"#DejaVuSans-32\"/>\r\n       <use x=\"63.623047\" xlink:href=\"#DejaVuSans-30\"/>\r\n       <use x=\"127.246094\" xlink:href=\"#DejaVuSans-31\"/>\r\n       <use x=\"190.869141\" xlink:href=\"#DejaVuSans-34\"/>\r\n      </g>\r\n     </g>\r\n    </g>\r\n    <g id=\"xtick_14\">\r\n     <g id=\"line2d_14\">\r\n      <g>\r\n       <use style=\"stroke:#000000;stroke-width:0.8;\" x=\"599.016632\" xlink:href=\"#m3965d5f190\" y=\"348.958125\"/>\r\n      </g>\r\n     </g>\r\n     <g id=\"text_14\">\r\n      <!-- 2015 -->\r\n      <g transform=\"translate(586.291632 363.556562)scale(0.1 -0.1)\">\r\n       <use xlink:href=\"#DejaVuSans-32\"/>\r\n       <use x=\"63.623047\" xlink:href=\"#DejaVuSans-30\"/>\r\n       <use x=\"127.246094\" xlink:href=\"#DejaVuSans-31\"/>\r\n       <use x=\"190.869141\" xlink:href=\"#DejaVuSans-35\"/>\r\n      </g>\r\n     </g>\r\n    </g>\r\n    <g id=\"xtick_15\">\r\n     <g id=\"line2d_15\">\r\n      <g>\r\n       <use style=\"stroke:#000000;stroke-width:0.8;\" x=\"637.446384\" xlink:href=\"#m3965d5f190\" y=\"348.958125\"/>\r\n      </g>\r\n     </g>\r\n     <g id=\"text_15\">\r\n      <!-- 2016 -->\r\n      <g transform=\"translate(624.721384 363.556562)scale(0.1 -0.1)\">\r\n       <use xlink:href=\"#DejaVuSans-32\"/>\r\n       <use x=\"63.623047\" xlink:href=\"#DejaVuSans-30\"/>\r\n       <use x=\"127.246094\" xlink:href=\"#DejaVuSans-31\"/>\r\n       <use x=\"190.869141\" xlink:href=\"#DejaVuSans-36\"/>\r\n      </g>\r\n     </g>\r\n    </g>\r\n    <g id=\"xtick_16\">\r\n     <g id=\"line2d_16\">\r\n      <g>\r\n       <use style=\"stroke:#000000;stroke-width:0.8;\" x=\"675.876136\" xlink:href=\"#m3965d5f190\" y=\"348.958125\"/>\r\n      </g>\r\n     </g>\r\n     <g id=\"text_16\">\r\n      <!-- 2017 -->\r\n      <g transform=\"translate(663.151136 363.556562)scale(0.1 -0.1)\">\r\n       <use xlink:href=\"#DejaVuSans-32\"/>\r\n       <use x=\"63.623047\" xlink:href=\"#DejaVuSans-30\"/>\r\n       <use x=\"127.246094\" xlink:href=\"#DejaVuSans-31\"/>\r\n       <use x=\"190.869141\" xlink:href=\"#DejaVuSans-37\"/>\r\n      </g>\r\n     </g>\r\n    </g>\r\n    <g id=\"xtick_17\">\r\n     <g id=\"line2d_17\">\r\n      <g>\r\n       <use style=\"stroke:#000000;stroke-width:0.8;\" x=\"714.305888\" xlink:href=\"#m3965d5f190\" y=\"348.958125\"/>\r\n      </g>\r\n     </g>\r\n     <g id=\"text_17\">\r\n      <!-- 2018 -->\r\n      <g transform=\"translate(701.580888 363.556562)scale(0.1 -0.1)\">\r\n       <use xlink:href=\"#DejaVuSans-32\"/>\r\n       <use x=\"63.623047\" xlink:href=\"#DejaVuSans-30\"/>\r\n       <use x=\"127.246094\" xlink:href=\"#DejaVuSans-31\"/>\r\n       <use x=\"190.869141\" xlink:href=\"#DejaVuSans-38\"/>\r\n      </g>\r\n     </g>\r\n    </g>\r\n    <g id=\"xtick_18\">\r\n     <g id=\"line2d_18\">\r\n      <g>\r\n       <use style=\"stroke:#000000;stroke-width:0.8;\" x=\"752.73564\" xlink:href=\"#m3965d5f190\" y=\"348.958125\"/>\r\n      </g>\r\n     </g>\r\n     <g id=\"text_18\">\r\n      <!-- 2019 -->\r\n      <g transform=\"translate(740.01064 363.556562)scale(0.1 -0.1)\">\r\n       <use xlink:href=\"#DejaVuSans-32\"/>\r\n       <use x=\"63.623047\" xlink:href=\"#DejaVuSans-30\"/>\r\n       <use x=\"127.246094\" xlink:href=\"#DejaVuSans-31\"/>\r\n       <use x=\"190.869141\" xlink:href=\"#DejaVuSans-39\"/>\r\n      </g>\r\n     </g>\r\n    </g>\r\n    <g id=\"xtick_19\">\r\n     <g id=\"line2d_19\">\r\n      <g>\r\n       <use style=\"stroke:#000000;stroke-width:0.8;\" x=\"791.165393\" xlink:href=\"#m3965d5f190\" y=\"348.958125\"/>\r\n      </g>\r\n     </g>\r\n     <g id=\"text_19\">\r\n      <!-- 2020 -->\r\n      <g transform=\"translate(778.440393 363.556562)scale(0.1 -0.1)\">\r\n       <use xlink:href=\"#DejaVuSans-32\"/>\r\n       <use x=\"63.623047\" xlink:href=\"#DejaVuSans-30\"/>\r\n       <use x=\"127.246094\" xlink:href=\"#DejaVuSans-32\"/>\r\n       <use x=\"190.869141\" xlink:href=\"#DejaVuSans-30\"/>\r\n      </g>\r\n     </g>\r\n    </g>\r\n    <g id=\"xtick_20\">\r\n     <g id=\"line2d_20\">\r\n      <g>\r\n       <use style=\"stroke:#000000;stroke-width:0.8;\" x=\"829.595145\" xlink:href=\"#m3965d5f190\" y=\"348.958125\"/>\r\n      </g>\r\n     </g>\r\n     <g id=\"text_20\">\r\n      <!-- 2021 -->\r\n      <g transform=\"translate(816.870145 363.556562)scale(0.1 -0.1)\">\r\n       <use xlink:href=\"#DejaVuSans-32\"/>\r\n       <use x=\"63.623047\" xlink:href=\"#DejaVuSans-30\"/>\r\n       <use x=\"127.246094\" xlink:href=\"#DejaVuSans-32\"/>\r\n       <use x=\"190.869141\" xlink:href=\"#DejaVuSans-31\"/>\r\n      </g>\r\n     </g>\r\n    </g>\r\n   </g>\r\n   <g id=\"matplotlib.axis_2\">\r\n    <g id=\"ytick_1\">\r\n     <g id=\"line2d_21\">\r\n      <defs>\r\n       <path d=\"M 0 0 \r\nL -3.5 0 \r\n\" id=\"me25c735985\" style=\"stroke:#000000;stroke-width:0.8;\"/>\r\n      </defs>\r\n      <g>\r\n       <use style=\"stroke:#000000;stroke-width:0.8;\" x=\"46.0125\" xlink:href=\"#me25c735985\" y=\"348.958125\"/>\r\n      </g>\r\n     </g>\r\n     <g id=\"text_21\">\r\n      <!-- 0 -->\r\n      <g transform=\"translate(32.65 352.757344)scale(0.1 -0.1)\">\r\n       <use xlink:href=\"#DejaVuSans-30\"/>\r\n      </g>\r\n     </g>\r\n    </g>\r\n    <g id=\"ytick_2\">\r\n     <g id=\"line2d_22\">\r\n      <g>\r\n       <use style=\"stroke:#000000;stroke-width:0.8;\" x=\"46.0125\" xlink:href=\"#me25c735985\" y=\"293.883114\"/>\r\n      </g>\r\n     </g>\r\n     <g id=\"text_22\">\r\n      <!-- 10000 -->\r\n      <g transform=\"translate(7.2 297.682332)scale(0.1 -0.1)\">\r\n       <use xlink:href=\"#DejaVuSans-31\"/>\r\n       <use x=\"63.623047\" xlink:href=\"#DejaVuSans-30\"/>\r\n       <use x=\"127.246094\" xlink:href=\"#DejaVuSans-30\"/>\r\n       <use x=\"190.869141\" xlink:href=\"#DejaVuSans-30\"/>\r\n       <use x=\"254.492188\" xlink:href=\"#DejaVuSans-30\"/>\r\n      </g>\r\n     </g>\r\n    </g>\r\n    <g id=\"ytick_3\">\r\n     <g id=\"line2d_23\">\r\n      <g>\r\n       <use style=\"stroke:#000000;stroke-width:0.8;\" x=\"46.0125\" xlink:href=\"#me25c735985\" y=\"238.808102\"/>\r\n      </g>\r\n     </g>\r\n     <g id=\"text_23\">\r\n      <!-- 20000 -->\r\n      <g transform=\"translate(7.2 242.607321)scale(0.1 -0.1)\">\r\n       <use xlink:href=\"#DejaVuSans-32\"/>\r\n       <use x=\"63.623047\" xlink:href=\"#DejaVuSans-30\"/>\r\n       <use x=\"127.246094\" xlink:href=\"#DejaVuSans-30\"/>\r\n       <use x=\"190.869141\" xlink:href=\"#DejaVuSans-30\"/>\r\n       <use x=\"254.492188\" xlink:href=\"#DejaVuSans-30\"/>\r\n      </g>\r\n     </g>\r\n    </g>\r\n    <g id=\"ytick_4\">\r\n     <g id=\"line2d_24\">\r\n      <g>\r\n       <use style=\"stroke:#000000;stroke-width:0.8;\" x=\"46.0125\" xlink:href=\"#me25c735985\" y=\"183.733091\"/>\r\n      </g>\r\n     </g>\r\n     <g id=\"text_24\">\r\n      <!-- 30000 -->\r\n      <g transform=\"translate(7.2 187.53231)scale(0.1 -0.1)\">\r\n       <use xlink:href=\"#DejaVuSans-33\"/>\r\n       <use x=\"63.623047\" xlink:href=\"#DejaVuSans-30\"/>\r\n       <use x=\"127.246094\" xlink:href=\"#DejaVuSans-30\"/>\r\n       <use x=\"190.869141\" xlink:href=\"#DejaVuSans-30\"/>\r\n       <use x=\"254.492188\" xlink:href=\"#DejaVuSans-30\"/>\r\n      </g>\r\n     </g>\r\n    </g>\r\n    <g id=\"ytick_5\">\r\n     <g id=\"line2d_25\">\r\n      <g>\r\n       <use style=\"stroke:#000000;stroke-width:0.8;\" x=\"46.0125\" xlink:href=\"#me25c735985\" y=\"128.65808\"/>\r\n      </g>\r\n     </g>\r\n     <g id=\"text_25\">\r\n      <!-- 40000 -->\r\n      <g transform=\"translate(7.2 132.457298)scale(0.1 -0.1)\">\r\n       <use xlink:href=\"#DejaVuSans-34\"/>\r\n       <use x=\"63.623047\" xlink:href=\"#DejaVuSans-30\"/>\r\n       <use x=\"127.246094\" xlink:href=\"#DejaVuSans-30\"/>\r\n       <use x=\"190.869141\" xlink:href=\"#DejaVuSans-30\"/>\r\n       <use x=\"254.492188\" xlink:href=\"#DejaVuSans-30\"/>\r\n      </g>\r\n     </g>\r\n    </g>\r\n    <g id=\"ytick_6\">\r\n     <g id=\"line2d_26\">\r\n      <g>\r\n       <use style=\"stroke:#000000;stroke-width:0.8;\" x=\"46.0125\" xlink:href=\"#me25c735985\" y=\"73.583068\"/>\r\n      </g>\r\n     </g>\r\n     <g id=\"text_26\">\r\n      <!-- 50000 -->\r\n      <g transform=\"translate(7.2 77.382287)scale(0.1 -0.1)\">\r\n       <use xlink:href=\"#DejaVuSans-35\"/>\r\n       <use x=\"63.623047\" xlink:href=\"#DejaVuSans-30\"/>\r\n       <use x=\"127.246094\" xlink:href=\"#DejaVuSans-30\"/>\r\n       <use x=\"190.869141\" xlink:href=\"#DejaVuSans-30\"/>\r\n       <use x=\"254.492188\" xlink:href=\"#DejaVuSans-30\"/>\r\n      </g>\r\n     </g>\r\n    </g>\r\n   </g>\r\n   <g id=\"patch_23\">\r\n    <path d=\"M 46.0125 348.958125 \r\nL 46.0125 22.798125 \r\n\" style=\"fill:none;stroke:#000000;stroke-linecap:square;stroke-linejoin:miter;stroke-width:0.8;\"/>\r\n   </g>\r\n   <g id=\"patch_24\">\r\n    <path d=\"M 883.0125 348.958125 \r\nL 883.0125 22.798125 \r\n\" style=\"fill:none;stroke:#000000;stroke-linecap:square;stroke-linejoin:miter;stroke-width:0.8;\"/>\r\n   </g>\r\n   <g id=\"patch_25\">\r\n    <path d=\"M 46.0125 348.958125 \r\nL 883.0125 348.958125 \r\n\" style=\"fill:none;stroke:#000000;stroke-linecap:square;stroke-linejoin:miter;stroke-width:0.8;\"/>\r\n   </g>\r\n   <g id=\"patch_26\">\r\n    <path d=\"M 46.0125 22.798125 \r\nL 883.0125 22.798125 \r\n\" style=\"fill:none;stroke:#000000;stroke-linecap:square;stroke-linejoin:miter;stroke-width:0.8;\"/>\r\n   </g>\r\n   <g id=\"text_27\">\r\n    <!-- Número de financiamentos por ano no estado de São Paulo -->\r\n    <g transform=\"translate(286.10625 16.798125)scale(0.12 -0.12)\">\r\n     <defs>\r\n      <path d=\"M 628 4666 \r\nL 1478 4666 \r\nL 3547 763 \r\nL 3547 4666 \r\nL 4159 4666 \r\nL 4159 0 \r\nL 3309 0 \r\nL 1241 3903 \r\nL 1241 0 \r\nL 628 0 \r\nL 628 4666 \r\nz\r\n\" id=\"DejaVuSans-4e\" transform=\"scale(0.015625)\"/>\r\n      <path d=\"M 544 1381 \r\nL 544 3500 \r\nL 1119 3500 \r\nL 1119 1403 \r\nQ 1119 906 1312 657 \r\nQ 1506 409 1894 409 \r\nQ 2359 409 2629 706 \r\nQ 2900 1003 2900 1516 \r\nL 2900 3500 \r\nL 3475 3500 \r\nL 3475 0 \r\nL 2900 0 \r\nL 2900 538 \r\nQ 2691 219 2414 64 \r\nQ 2138 -91 1772 -91 \r\nQ 1169 -91 856 284 \r\nQ 544 659 544 1381 \r\nz\r\nM 1991 3584 \r\nL 1991 3584 \r\nz\r\nM 2418 5119 \r\nL 3040 5119 \r\nL 2022 3944 \r\nL 1543 3944 \r\nL 2418 5119 \r\nz\r\n\" id=\"DejaVuSans-fa\" transform=\"scale(0.015625)\"/>\r\n      <path d=\"M 3328 2828 \r\nQ 3544 3216 3844 3400 \r\nQ 4144 3584 4550 3584 \r\nQ 5097 3584 5394 3201 \r\nQ 5691 2819 5691 2113 \r\nL 5691 0 \r\nL 5113 0 \r\nL 5113 2094 \r\nQ 5113 2597 4934 2840 \r\nQ 4756 3084 4391 3084 \r\nQ 3944 3084 3684 2787 \r\nQ 3425 2491 3425 1978 \r\nL 3425 0 \r\nL 2847 0 \r\nL 2847 2094 \r\nQ 2847 2600 2669 2842 \r\nQ 2491 3084 2119 3084 \r\nQ 1678 3084 1418 2786 \r\nQ 1159 2488 1159 1978 \r\nL 1159 0 \r\nL 581 0 \r\nL 581 3500 \r\nL 1159 3500 \r\nL 1159 2956 \r\nQ 1356 3278 1631 3431 \r\nQ 1906 3584 2284 3584 \r\nQ 2666 3584 2933 3390 \r\nQ 3200 3197 3328 2828 \r\nz\r\n\" id=\"DejaVuSans-6d\" transform=\"scale(0.015625)\"/>\r\n      <path d=\"M 3597 1894 \r\nL 3597 1613 \r\nL 953 1613 \r\nQ 991 1019 1311 708 \r\nQ 1631 397 2203 397 \r\nQ 2534 397 2845 478 \r\nQ 3156 559 3463 722 \r\nL 3463 178 \r\nQ 3153 47 2828 -22 \r\nQ 2503 -91 2169 -91 \r\nQ 1331 -91 842 396 \r\nQ 353 884 353 1716 \r\nQ 353 2575 817 3079 \r\nQ 1281 3584 2069 3584 \r\nQ 2775 3584 3186 3129 \r\nQ 3597 2675 3597 1894 \r\nz\r\nM 3022 2063 \r\nQ 3016 2534 2758 2815 \r\nQ 2500 3097 2075 3097 \r\nQ 1594 3097 1305 2825 \r\nQ 1016 2553 972 2059 \r\nL 3022 2063 \r\nz\r\n\" id=\"DejaVuSans-65\" transform=\"scale(0.015625)\"/>\r\n      <path d=\"M 2631 2963 \r\nQ 2534 3019 2420 3045 \r\nQ 2306 3072 2169 3072 \r\nQ 1681 3072 1420 2755 \r\nQ 1159 2438 1159 1844 \r\nL 1159 0 \r\nL 581 0 \r\nL 581 3500 \r\nL 1159 3500 \r\nL 1159 2956 \r\nQ 1341 3275 1631 3429 \r\nQ 1922 3584 2338 3584 \r\nQ 2397 3584 2469 3576 \r\nQ 2541 3569 2628 3553 \r\nL 2631 2963 \r\nz\r\n\" id=\"DejaVuSans-72\" transform=\"scale(0.015625)\"/>\r\n      <path d=\"M 1959 3097 \r\nQ 1497 3097 1228 2736 \r\nQ 959 2375 959 1747 \r\nQ 959 1119 1226 758 \r\nQ 1494 397 1959 397 \r\nQ 2419 397 2687 759 \r\nQ 2956 1122 2956 1747 \r\nQ 2956 2369 2687 2733 \r\nQ 2419 3097 1959 3097 \r\nz\r\nM 1959 3584 \r\nQ 2709 3584 3137 3096 \r\nQ 3566 2609 3566 1747 \r\nQ 3566 888 3137 398 \r\nQ 2709 -91 1959 -91 \r\nQ 1206 -91 779 398 \r\nQ 353 888 353 1747 \r\nQ 353 2609 779 3096 \r\nQ 1206 3584 1959 3584 \r\nz\r\n\" id=\"DejaVuSans-6f\" transform=\"scale(0.015625)\"/>\r\n      <path id=\"DejaVuSans-20\" transform=\"scale(0.015625)\"/>\r\n      <path d=\"M 2906 2969 \r\nL 2906 4863 \r\nL 3481 4863 \r\nL 3481 0 \r\nL 2906 0 \r\nL 2906 525 \r\nQ 2725 213 2448 61 \r\nQ 2172 -91 1784 -91 \r\nQ 1150 -91 751 415 \r\nQ 353 922 353 1747 \r\nQ 353 2572 751 3078 \r\nQ 1150 3584 1784 3584 \r\nQ 2172 3584 2448 3432 \r\nQ 2725 3281 2906 2969 \r\nz\r\nM 947 1747 \r\nQ 947 1113 1208 752 \r\nQ 1469 391 1925 391 \r\nQ 2381 391 2643 752 \r\nQ 2906 1113 2906 1747 \r\nQ 2906 2381 2643 2742 \r\nQ 2381 3103 1925 3103 \r\nQ 1469 3103 1208 2742 \r\nQ 947 2381 947 1747 \r\nz\r\n\" id=\"DejaVuSans-64\" transform=\"scale(0.015625)\"/>\r\n      <path d=\"M 2375 4863 \r\nL 2375 4384 \r\nL 1825 4384 \r\nQ 1516 4384 1395 4259 \r\nQ 1275 4134 1275 3809 \r\nL 1275 3500 \r\nL 2222 3500 \r\nL 2222 3053 \r\nL 1275 3053 \r\nL 1275 0 \r\nL 697 0 \r\nL 697 3053 \r\nL 147 3053 \r\nL 147 3500 \r\nL 697 3500 \r\nL 697 3744 \r\nQ 697 4328 969 4595 \r\nQ 1241 4863 1831 4863 \r\nL 2375 4863 \r\nz\r\n\" id=\"DejaVuSans-66\" transform=\"scale(0.015625)\"/>\r\n      <path d=\"M 603 3500 \r\nL 1178 3500 \r\nL 1178 0 \r\nL 603 0 \r\nL 603 3500 \r\nz\r\nM 603 4863 \r\nL 1178 4863 \r\nL 1178 4134 \r\nL 603 4134 \r\nL 603 4863 \r\nz\r\n\" id=\"DejaVuSans-69\" transform=\"scale(0.015625)\"/>\r\n      <path d=\"M 3513 2113 \r\nL 3513 0 \r\nL 2938 0 \r\nL 2938 2094 \r\nQ 2938 2591 2744 2837 \r\nQ 2550 3084 2163 3084 \r\nQ 1697 3084 1428 2787 \r\nQ 1159 2491 1159 1978 \r\nL 1159 0 \r\nL 581 0 \r\nL 581 3500 \r\nL 1159 3500 \r\nL 1159 2956 \r\nQ 1366 3272 1645 3428 \r\nQ 1925 3584 2291 3584 \r\nQ 2894 3584 3203 3211 \r\nQ 3513 2838 3513 2113 \r\nz\r\n\" id=\"DejaVuSans-6e\" transform=\"scale(0.015625)\"/>\r\n      <path d=\"M 2194 1759 \r\nQ 1497 1759 1228 1600 \r\nQ 959 1441 959 1056 \r\nQ 959 750 1161 570 \r\nQ 1363 391 1709 391 \r\nQ 2188 391 2477 730 \r\nQ 2766 1069 2766 1631 \r\nL 2766 1759 \r\nL 2194 1759 \r\nz\r\nM 3341 1997 \r\nL 3341 0 \r\nL 2766 0 \r\nL 2766 531 \r\nQ 2569 213 2275 61 \r\nQ 1981 -91 1556 -91 \r\nQ 1019 -91 701 211 \r\nQ 384 513 384 1019 \r\nQ 384 1609 779 1909 \r\nQ 1175 2209 1959 2209 \r\nL 2766 2209 \r\nL 2766 2266 \r\nQ 2766 2663 2505 2880 \r\nQ 2244 3097 1772 3097 \r\nQ 1472 3097 1187 3025 \r\nQ 903 2953 641 2809 \r\nL 641 3341 \r\nQ 956 3463 1253 3523 \r\nQ 1550 3584 1831 3584 \r\nQ 2591 3584 2966 3190 \r\nQ 3341 2797 3341 1997 \r\nz\r\n\" id=\"DejaVuSans-61\" transform=\"scale(0.015625)\"/>\r\n      <path d=\"M 3122 3366 \r\nL 3122 2828 \r\nQ 2878 2963 2633 3030 \r\nQ 2388 3097 2138 3097 \r\nQ 1578 3097 1268 2742 \r\nQ 959 2388 959 1747 \r\nQ 959 1106 1268 751 \r\nQ 1578 397 2138 397 \r\nQ 2388 397 2633 464 \r\nQ 2878 531 3122 666 \r\nL 3122 134 \r\nQ 2881 22 2623 -34 \r\nQ 2366 -91 2075 -91 \r\nQ 1284 -91 818 406 \r\nQ 353 903 353 1747 \r\nQ 353 2603 823 3093 \r\nQ 1294 3584 2113 3584 \r\nQ 2378 3584 2631 3529 \r\nQ 2884 3475 3122 3366 \r\nz\r\n\" id=\"DejaVuSans-63\" transform=\"scale(0.015625)\"/>\r\n      <path d=\"M 1172 4494 \r\nL 1172 3500 \r\nL 2356 3500 \r\nL 2356 3053 \r\nL 1172 3053 \r\nL 1172 1153 \r\nQ 1172 725 1289 603 \r\nQ 1406 481 1766 481 \r\nL 2356 481 \r\nL 2356 0 \r\nL 1766 0 \r\nQ 1100 0 847 248 \r\nQ 594 497 594 1153 \r\nL 594 3053 \r\nL 172 3053 \r\nL 172 3500 \r\nL 594 3500 \r\nL 594 4494 \r\nL 1172 4494 \r\nz\r\n\" id=\"DejaVuSans-74\" transform=\"scale(0.015625)\"/>\r\n      <path d=\"M 2834 3397 \r\nL 2834 2853 \r\nQ 2591 2978 2328 3040 \r\nQ 2066 3103 1784 3103 \r\nQ 1356 3103 1142 2972 \r\nQ 928 2841 928 2578 \r\nQ 928 2378 1081 2264 \r\nQ 1234 2150 1697 2047 \r\nL 1894 2003 \r\nQ 2506 1872 2764 1633 \r\nQ 3022 1394 3022 966 \r\nQ 3022 478 2636 193 \r\nQ 2250 -91 1575 -91 \r\nQ 1294 -91 989 -36 \r\nQ 684 19 347 128 \r\nL 347 722 \r\nQ 666 556 975 473 \r\nQ 1284 391 1588 391 \r\nQ 1994 391 2212 530 \r\nQ 2431 669 2431 922 \r\nQ 2431 1156 2273 1281 \r\nQ 2116 1406 1581 1522 \r\nL 1381 1569 \r\nQ 847 1681 609 1914 \r\nQ 372 2147 372 2553 \r\nQ 372 3047 722 3315 \r\nQ 1072 3584 1716 3584 \r\nQ 2034 3584 2315 3537 \r\nQ 2597 3491 2834 3397 \r\nz\r\n\" id=\"DejaVuSans-73\" transform=\"scale(0.015625)\"/>\r\n      <path d=\"M 1159 525 \r\nL 1159 -1331 \r\nL 581 -1331 \r\nL 581 3500 \r\nL 1159 3500 \r\nL 1159 2969 \r\nQ 1341 3281 1617 3432 \r\nQ 1894 3584 2278 3584 \r\nQ 2916 3584 3314 3078 \r\nQ 3713 2572 3713 1747 \r\nQ 3713 922 3314 415 \r\nQ 2916 -91 2278 -91 \r\nQ 1894 -91 1617 61 \r\nQ 1341 213 1159 525 \r\nz\r\nM 3116 1747 \r\nQ 3116 2381 2855 2742 \r\nQ 2594 3103 2138 3103 \r\nQ 1681 3103 1420 2742 \r\nQ 1159 2381 1159 1747 \r\nQ 1159 1113 1420 752 \r\nQ 1681 391 2138 391 \r\nQ 2594 391 2855 752 \r\nQ 3116 1113 3116 1747 \r\nz\r\n\" id=\"DejaVuSans-70\" transform=\"scale(0.015625)\"/>\r\n      <path d=\"M 3425 4513 \r\nL 3425 3897 \r\nQ 3066 4069 2747 4153 \r\nQ 2428 4238 2131 4238 \r\nQ 1616 4238 1336 4038 \r\nQ 1056 3838 1056 3469 \r\nQ 1056 3159 1242 3001 \r\nQ 1428 2844 1947 2747 \r\nL 2328 2669 \r\nQ 3034 2534 3370 2195 \r\nQ 3706 1856 3706 1288 \r\nQ 3706 609 3251 259 \r\nQ 2797 -91 1919 -91 \r\nQ 1588 -91 1214 -16 \r\nQ 841 59 441 206 \r\nL 441 856 \r\nQ 825 641 1194 531 \r\nQ 1563 422 1919 422 \r\nQ 2459 422 2753 634 \r\nQ 3047 847 3047 1241 \r\nQ 3047 1584 2836 1778 \r\nQ 2625 1972 2144 2069 \r\nL 1759 2144 \r\nQ 1053 2284 737 2584 \r\nQ 422 2884 422 3419 \r\nQ 422 4038 858 4394 \r\nQ 1294 4750 2059 4750 \r\nQ 2388 4750 2728 4690 \r\nQ 3069 4631 3425 4513 \r\nz\r\n\" id=\"DejaVuSans-53\" transform=\"scale(0.015625)\"/>\r\n      <path d=\"M 2194 1759 \r\nQ 1497 1759 1228 1600 \r\nQ 959 1441 959 1056 \r\nQ 959 750 1161 570 \r\nQ 1363 391 1709 391 \r\nQ 2188 391 2477 730 \r\nQ 2766 1069 2766 1631 \r\nL 2766 1759 \r\nL 2194 1759 \r\nz\r\nM 3341 1997 \r\nL 3341 0 \r\nL 2766 0 \r\nL 2766 531 \r\nQ 2569 213 2275 61 \r\nQ 1981 -91 1556 -91 \r\nQ 1019 -91 701 211 \r\nQ 384 513 384 1019 \r\nQ 384 1609 779 1909 \r\nQ 1175 2209 1959 2209 \r\nL 2766 2209 \r\nL 2766 2266 \r\nQ 2766 2663 2505 2880 \r\nQ 2244 3097 1772 3097 \r\nQ 1472 3097 1187 3025 \r\nQ 903 2953 641 2809 \r\nL 641 3341 \r\nQ 956 3463 1253 3523 \r\nQ 1550 3584 1831 3584 \r\nQ 2591 3584 2966 3190 \r\nQ 3341 2797 3341 1997 \r\nz\r\nM 1844 4281 \r\nL 1665 4453 \r\nQ 1597 4516 1545 4545 \r\nQ 1494 4575 1453 4575 \r\nQ 1334 4575 1278 4461 \r\nQ 1222 4347 1215 4091 \r\nL 825 4091 \r\nQ 831 4513 990 4742 \r\nQ 1150 4972 1434 4972 \r\nQ 1553 4972 1653 4928 \r\nQ 1753 4884 1869 4781 \r\nL 2047 4609 \r\nQ 2115 4547 2167 4517 \r\nQ 2219 4488 2259 4488 \r\nQ 2378 4488 2434 4602 \r\nQ 2490 4716 2497 4972 \r\nL 2887 4972 \r\nQ 2881 4550 2721 4320 \r\nQ 2562 4091 2278 4091 \r\nQ 2159 4091 2059 4134 \r\nQ 1959 4178 1844 4281 \r\nz\r\n\" id=\"DejaVuSans-e3\" transform=\"scale(0.015625)\"/>\r\n      <path d=\"M 1259 4147 \r\nL 1259 2394 \r\nL 2053 2394 \r\nQ 2494 2394 2734 2622 \r\nQ 2975 2850 2975 3272 \r\nQ 2975 3691 2734 3919 \r\nQ 2494 4147 2053 4147 \r\nL 1259 4147 \r\nz\r\nM 628 4666 \r\nL 2053 4666 \r\nQ 2838 4666 3239 4311 \r\nQ 3641 3956 3641 3272 \r\nQ 3641 2581 3239 2228 \r\nQ 2838 1875 2053 1875 \r\nL 1259 1875 \r\nL 1259 0 \r\nL 628 0 \r\nL 628 4666 \r\nz\r\n\" id=\"DejaVuSans-50\" transform=\"scale(0.015625)\"/>\r\n      <path d=\"M 544 1381 \r\nL 544 3500 \r\nL 1119 3500 \r\nL 1119 1403 \r\nQ 1119 906 1312 657 \r\nQ 1506 409 1894 409 \r\nQ 2359 409 2629 706 \r\nQ 2900 1003 2900 1516 \r\nL 2900 3500 \r\nL 3475 3500 \r\nL 3475 0 \r\nL 2900 0 \r\nL 2900 538 \r\nQ 2691 219 2414 64 \r\nQ 2138 -91 1772 -91 \r\nQ 1169 -91 856 284 \r\nQ 544 659 544 1381 \r\nz\r\nM 1991 3584 \r\nL 1991 3584 \r\nz\r\n\" id=\"DejaVuSans-75\" transform=\"scale(0.015625)\"/>\r\n      <path d=\"M 603 4863 \r\nL 1178 4863 \r\nL 1178 0 \r\nL 603 0 \r\nL 603 4863 \r\nz\r\n\" id=\"DejaVuSans-6c\" transform=\"scale(0.015625)\"/>\r\n     </defs>\r\n     <use xlink:href=\"#DejaVuSans-4e\"/>\r\n     <use x=\"74.804688\" xlink:href=\"#DejaVuSans-fa\"/>\r\n     <use x=\"138.183594\" xlink:href=\"#DejaVuSans-6d\"/>\r\n     <use x=\"235.595703\" xlink:href=\"#DejaVuSans-65\"/>\r\n     <use x=\"297.119141\" xlink:href=\"#DejaVuSans-72\"/>\r\n     <use x=\"335.982422\" xlink:href=\"#DejaVuSans-6f\"/>\r\n     <use x=\"397.164062\" xlink:href=\"#DejaVuSans-20\"/>\r\n     <use x=\"428.951172\" xlink:href=\"#DejaVuSans-64\"/>\r\n     <use x=\"492.427734\" xlink:href=\"#DejaVuSans-65\"/>\r\n     <use x=\"553.951172\" xlink:href=\"#DejaVuSans-20\"/>\r\n     <use x=\"585.738281\" xlink:href=\"#DejaVuSans-66\"/>\r\n     <use x=\"620.943359\" xlink:href=\"#DejaVuSans-69\"/>\r\n     <use x=\"648.726562\" xlink:href=\"#DejaVuSans-6e\"/>\r\n     <use x=\"712.105469\" xlink:href=\"#DejaVuSans-61\"/>\r\n     <use x=\"773.384766\" xlink:href=\"#DejaVuSans-6e\"/>\r\n     <use x=\"836.763672\" xlink:href=\"#DejaVuSans-63\"/>\r\n     <use x=\"891.744141\" xlink:href=\"#DejaVuSans-69\"/>\r\n     <use x=\"919.527344\" xlink:href=\"#DejaVuSans-61\"/>\r\n     <use x=\"980.806641\" xlink:href=\"#DejaVuSans-6d\"/>\r\n     <use x=\"1078.21875\" xlink:href=\"#DejaVuSans-65\"/>\r\n     <use x=\"1139.742188\" xlink:href=\"#DejaVuSans-6e\"/>\r\n     <use x=\"1203.121094\" xlink:href=\"#DejaVuSans-74\"/>\r\n     <use x=\"1242.330078\" xlink:href=\"#DejaVuSans-6f\"/>\r\n     <use x=\"1303.511719\" xlink:href=\"#DejaVuSans-73\"/>\r\n     <use x=\"1355.611328\" xlink:href=\"#DejaVuSans-20\"/>\r\n     <use x=\"1387.398438\" xlink:href=\"#DejaVuSans-70\"/>\r\n     <use x=\"1450.875\" xlink:href=\"#DejaVuSans-6f\"/>\r\n     <use x=\"1512.056641\" xlink:href=\"#DejaVuSans-72\"/>\r\n     <use x=\"1553.169922\" xlink:href=\"#DejaVuSans-20\"/>\r\n     <use x=\"1584.957031\" xlink:href=\"#DejaVuSans-61\"/>\r\n     <use x=\"1646.236328\" xlink:href=\"#DejaVuSans-6e\"/>\r\n     <use x=\"1709.615234\" xlink:href=\"#DejaVuSans-6f\"/>\r\n     <use x=\"1770.796875\" xlink:href=\"#DejaVuSans-20\"/>\r\n     <use x=\"1802.583984\" xlink:href=\"#DejaVuSans-6e\"/>\r\n     <use x=\"1865.962891\" xlink:href=\"#DejaVuSans-6f\"/>\r\n     <use x=\"1927.144531\" xlink:href=\"#DejaVuSans-20\"/>\r\n     <use x=\"1958.931641\" xlink:href=\"#DejaVuSans-65\"/>\r\n     <use x=\"2020.455078\" xlink:href=\"#DejaVuSans-73\"/>\r\n     <use x=\"2072.554688\" xlink:href=\"#DejaVuSans-74\"/>\r\n     <use x=\"2111.763672\" xlink:href=\"#DejaVuSans-61\"/>\r\n     <use x=\"2173.042969\" xlink:href=\"#DejaVuSans-64\"/>\r\n     <use x=\"2236.519531\" xlink:href=\"#DejaVuSans-6f\"/>\r\n     <use x=\"2297.701172\" xlink:href=\"#DejaVuSans-20\"/>\r\n     <use x=\"2329.488281\" xlink:href=\"#DejaVuSans-64\"/>\r\n     <use x=\"2392.964844\" xlink:href=\"#DejaVuSans-65\"/>\r\n     <use x=\"2454.488281\" xlink:href=\"#DejaVuSans-20\"/>\r\n     <use x=\"2486.275391\" xlink:href=\"#DejaVuSans-53\"/>\r\n     <use x=\"2549.751953\" xlink:href=\"#DejaVuSans-e3\"/>\r\n     <use x=\"2611.03125\" xlink:href=\"#DejaVuSans-6f\"/>\r\n     <use x=\"2672.212891\" xlink:href=\"#DejaVuSans-20\"/>\r\n     <use x=\"2704\" xlink:href=\"#DejaVuSans-50\"/>\r\n     <use x=\"2759.802734\" xlink:href=\"#DejaVuSans-61\"/>\r\n     <use x=\"2821.082031\" xlink:href=\"#DejaVuSans-75\"/>\r\n     <use x=\"2884.460938\" xlink:href=\"#DejaVuSans-6c\"/>\r\n     <use x=\"2912.244141\" xlink:href=\"#DejaVuSans-6f\"/>\r\n    </g>\r\n   </g>\r\n  </g>\r\n </g>\r\n <defs>\r\n  <clipPath id=\"p4d2562331e\">\r\n   <rect height=\"326.16\" width=\"837\" x=\"46.0125\" y=\"22.798125\"/>\r\n  </clipPath>\r\n </defs>\r\n</svg>\r\n",
      "image/png": "[encoded data removed]"
     },
     "metadata": {
      "needs_background": "light"
     }
    }
   ],
   "metadata": {}
  },
  {
   "cell_type": "markdown",
   "source": [
    "Representação dos dados em um mapa"
   ],
   "metadata": {}
  },
  {
   "cell_type": "markdown",
   "source": [
    "Import dos arquivos geodata para os estados do Brasil\r\n",
    "\r\n",
    "Fonte: https://github.com/tbrugz/geodata-br"
   ],
   "metadata": {}
  },
  {
   "cell_type": "code",
   "execution_count": 4,
   "source": [
    "with open(os.path.join('data/json', 'sp.json'), encoding='utf8') as sp_json:\r\n",
    "    SP = json.load(sp_json)\r\n",
    "with open(os.path.join('data/json', 'rs.json'), encoding='utf8') as rs_json:\r\n",
    "    RS = json.load(rs_json)\r\n",
    "with open(os.path.join('data/json', 'pr.json'), encoding='utf8') as pr_json:\r\n",
    "    PR = json.load(pr_json)\r\n",
    "with open(os.path.join('data/json', 'mg.json'), encoding='utf8') as mg_json:\r\n",
    "    MG = json.load(mg_json)\r\n",
    "with open(os.path.join('data/json', 'sc.json'), encoding='utf8') as sc_json:\r\n",
    "    SC = json.load(sc_json)\r\n",
    "with open(os.path.join('data/json', 'rj.json'), encoding='utf8') as rj_json:\r\n",
    "    RJ = json.load(rj_json)\r\n",
    "with open(os.path.join('data/json', 'go.json'), encoding='utf8') as go_json:\r\n",
    "    GO = json.load(go_json)\r\n",
    "with open(os.path.join('data/json', 'ba.json'), encoding='utf8') as ba_json:\r\n",
    "    BA = json.load(ba_json)\r\n",
    "with open(os.path.join('data/json', 'es.json'), encoding='utf8') as es_json:\r\n",
    "    ES = json.load(es_json)"
   ],
   "outputs": [
    {
     "output_type": "execute_result",
     "data": {
      "text/plain": [
       "\"with open(os.path.join('dados', 'rs.json'), encoding='utf8') as rs_json:\\n    RS = json.load(rs_json)\\nwith open(os.path.join('dados', 'pr.json'), encoding='utf8') as pr_json:\\n    PR = json.load(pr_json)\\nwith open(os.path.join('dados', 'mg.json'), encoding='utf8') as mg_json:\\n    MG = json.load(mg_json)\\nwith open(os.path.join('dados', 'sc.json'), encoding='utf8') as sc_json:\\n    SC = json.load(sc_json)\\nwith open(os.path.join('dados', 'rj.json'), encoding='utf8') as rj_json:\\n    RJ = json.load(rj_json)\\nwith open(os.path.join('dados', 'go.json'), encoding='utf8') as go_json:\\n    GO = json.load(go_json)\\nwith open(os.path.join('dados', 'ba.json'), encoding='utf8') as ba_json:\\n    BA = json.load(ba_json)\\nwith open(os.path.join('dados', 'es.json'), encoding='utf8') as es_json:\\n    ES = json.load(es_json)\""
      ]
     },
     "metadata": {},
     "execution_count": 4
    }
   ],
   "metadata": {}
  },
  {
   "cell_type": "code",
   "execution_count": 89,
   "source": [
    "def highlight_function(feature):\r\n",
    "    return {'fillColor':'00008B'}\r\n",
    "\r\n",
    "estilos = {'terrain':'Stamen Terrain', 'dark':'CartoDB dark_matter', 'positron':'CartoDB positron', 'toner':'Stamen Toner', 'water':'Stamen Watercolor'}\r\n",
    "m = folium.Map(location = [-15.639513, -46.076170], zoom_start = 5, tiles = estilos['terrain'])"
   ],
   "outputs": [],
   "metadata": {}
  },
  {
   "cell_type": "code",
   "execution_count": 90,
   "source": [
    "folium_sp = folium.GeoJson(SP, highlight_function = highlight_function, tooltip ='São Paulo', style_function = lambda x:{'fillColor':'#D2691E', 'color':'#0000FF', 'weight': 0.1})\r\n",
    "popup.add_to(folium_sp)\r\n",
    "folium_sp.add_to(m)\r\n",
    "\r\n",
    "folium.GeoJson(RS, highlight_function = highlight_function, tooltip ='Rio Grande do Sul', style_function = lambda x:{'fillColor':'#FF1111', 'color':'#0000FF', 'weight': 0.1}).add_to(m)\r\n",
    "folium.GeoJson(PR, highlight_function = highlight_function, tooltip ='Paraná', style_function = lambda x:{'fillColor':'#00FFFF', 'color':'#0000FF', 'weight': 0.1}).add_to(m)\r\n",
    "folium.GeoJson(MG, highlight_function = highlight_function, tooltip ='Minas Gerais', style_function = lambda x:{'fillColor':'#00FD00', 'color':'#0000FF', 'weight': 0.1}).add_to(m)\r\n",
    "folium.GeoJson(SC, highlight_function = highlight_function, tooltip ='Santa Catarina', style_function = lambda x:{'fillColor':'#AD9800', 'color':'#0000FF', 'weight': 0.1}).add_to(m)\r\n",
    "folium.GeoJson(RJ, highlight_function = highlight_function, tooltip ='Rio de Janeiro', style_function = lambda x:{'fillColor':'#AD98D9', 'color':'#0000FF', 'weight': 0.1}).add_to(m)\r\n",
    "folium.GeoJson(GO, highlight_function = highlight_function, tooltip ='Goiás', style_function = lambda x:{'fillColor':'#49E68C', 'color':'#0000FF', 'weight': 0.1}).add_to(m)\r\n",
    "folium.GeoJson(BA, highlight_function = highlight_function, tooltip ='Bahia', style_function = lambda x:{'fillColor':'#498C8C', 'color':'#0000FF', 'weight': 0.1}).add_to(m)\r\n",
    "folium.GeoJson(ES, highlight_function = highlight_function, tooltip ='Espírito Santo', style_function = lambda x:{'fillColor':'#9B4648', 'color':'#0000FF', 'weight': 0.1}).add_to(m)"
   ],
   "outputs": [
    {
     "output_type": "execute_result",
     "data": {
      "text/plain": [
       "<folium.features.GeoJson at 0x1a88429c370>"
      ]
     },
     "metadata": {},
     "execution_count": 90
    }
   ],
   "metadata": {}
  },
  {
   "cell_type": "code",
   "execution_count": null,
   "source": [],
   "outputs": [],
   "metadata": {}
  },
  {
   "cell_type": "code",
   "execution_count": null,
   "source": [],
   "outputs": [],
   "metadata": {}
  },
  {
   "cell_type": "code",
   "execution_count": 91,
   "source": [
    "m.save('mapa_financiamentos.html')"
   ],
   "outputs": [],
   "metadata": {}
  },
  {
   "cell_type": "code",
   "execution_count": null,
   "source": [],
   "outputs": [],
   "metadata": {}
  }
 ],
 "metadata": {
  "orig_nbformat": 4,
  "language_info": {
   "name": "python",
   "version": "3.9.6",
   "mimetype": "text/x-python",
   "codemirror_mode": {
    "name": "ipython",
    "version": 3
   },
   "pygments_lexer": "ipython3",
   "nbconvert_exporter": "python",
   "file_extension": ".py"
  },
  "kernelspec": {
   "name": "python3",
   "display_name": "Python 3.9.6 64-bit"
  },
  "interpreter": {
   "hash": "247461bf8aa8c9adb8e6b24570ac9b1efa11faa6791c94a77fe6787a89fe8e8c"
  }
 },
 "nbformat": 4,
 "nbformat_minor": 2
}